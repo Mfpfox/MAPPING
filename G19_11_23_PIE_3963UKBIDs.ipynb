{
 "cells": [
  {
   "cell_type": "markdown",
   "metadata": {},
   "source": [
    "# piecharts for ever detected proteins from Cys and Lys experiments\n",
    "\n",
    "# PANTHER analysis of protein class\n",
    "\n",
    "\"\"\"\n",
    "Created on 11.23.19\n",
    "for Project MAP\n",
    "@author: mfpfox\n",
    "\"\"\""
   ]
  },
  {
   "cell_type": "code",
   "execution_count": 44,
   "metadata": {},
   "outputs": [
    {
     "data": {
      "text/html": [
       "<style>.container {width:90% !important;}</style>"
      ],
      "text/plain": [
       "<IPython.core.display.HTML object>"
      ]
     },
     "metadata": {},
     "output_type": "display_data"
    }
   ],
   "source": [
    "import os\n",
    "import sys\n",
    "import pandas as pd\n",
    "\n",
    "sys.path.append(\"/Users/mariapalafox/Desktop/Toolbox\")\n",
    "from all_funx import *\n",
    "\n",
    "from IPython.display import display, HTML\n",
    "pd.set_option('display.max_columns', None)\n",
    "pd.options.display.max_seq_items = 2000\n",
    "display(HTML(\"<style>.container {width:90% !important;}</style>\"))"
   ]
  },
  {
   "cell_type": "markdown",
   "metadata": {},
   "source": [
    "---\n",
    "\n",
    "# version 1 pie n=3963\n",
    "\n",
    "**below function in toolbox \"Pmap_pie.py\"**"
   ]
  },
  {
   "cell_type": "code",
   "execution_count": 45,
   "metadata": {},
   "outputs": [],
   "source": [
    "os.chdir(\"/Users/mariapalafox/Box Sync/CODE_DATA/dir_MAPpaper/CYS_LYS_2012_to2018UKBpositions/REFERENCE_2018_mappedCK/SUBSETS/\")"
   ]
  },
  {
   "cell_type": "code",
   "execution_count": 46,
   "metadata": {},
   "outputs": [],
   "source": [
    "# ukb file with be one annotated\n",
    "everC = \"CYS2018_everlabeled_gene_valueCounts_2915.csv\"\n",
    "everK = \"LYS2018_everlabeled_gene_valueCounts_2623.csv\"\n",
    "uni = \"countsfromfastaCCDS_filter_counts_all_AA.csv\"\n",
    "shared3953 = \"UKBID_3953set.csv\"\n",
    "\n",
    "cys = read_pd(everC)\n",
    "lys = read_pd(everK)\n",
    "ukb = read_pd(uni)\n",
    "dropUnnamed(ukb)\n",
    "\n",
    "shared = read_pd(shared3953)"
   ]
  },
  {
   "cell_type": "code",
   "execution_count": 47,
   "metadata": {},
   "outputs": [
    {
     "name": "stdout",
     "output_type": "stream",
     "text": [
      "ALL 3963 uniprot IDs: \n",
      "total of all lysines detected:  9042\n",
      "total of all cysteine detected:  6234\n"
     ]
    }
   ],
   "source": [
    "print(\"ALL 3963 uniprot IDs: \")\n",
    "print(\"total of all lysines detected: \", lys.counts.sum())\n",
    "print(\"total of all cysteine detected: \", cys.counts.sum())"
   ]
  },
  {
   "cell_type": "code",
   "execution_count": 49,
   "metadata": {},
   "outputs": [
    {
     "name": "stdout",
     "output_type": "stream",
     "text": [
      "checking labeled column values: \n",
      "  ever_C_ID  Count\n",
      "0     False  15517\n",
      "1      True   2915\n",
      "\n",
      "checking labeled column values: \n",
      "  ever_K_ID  Count\n",
      "0     False  15809\n",
      "1      True   2623\n",
      "\n",
      "shape ukbCK labeled =  (18432, 30)\n",
      "TOTAL protiens with only Cys detected: \n",
      "(1340, 30)\n",
      "TOTAL Cys in the proteins:  19812\n",
      "\n",
      "TOTAL protiens with only Lysine detected: \n",
      "(1048, 30)\n",
      "TOTAL Lysine in the proteins:  34910\n",
      "\n",
      "TOTAL protiens with both CK detected: \n",
      "(1575, 30)\n",
      "TOTAL Lysine in the proteins:  61917\n",
      "TOTAL Cysteine in the proteins:  14944\n",
      "\n",
      "TOTAL protiens with all C detected: \n",
      "(2915, 30)\n",
      "TOTAL C in the proteins:  34756\n",
      "\n",
      "TOTAL protiens with all K detected: \n",
      "(2623, 30)\n",
      "TOTAL K in the proteins:  96827\n"
     ]
    }
   ],
   "source": [
    "# testing main()\n",
    "Cls = cys.ID.tolist()\n",
    "Kls = lys.ID.tolist()\n",
    "\n",
    "ukbC = addcolumnconditional(Cls, ukb, 'ID', 'ever_C_ID')\n",
    "ukbCK = addcolumnconditional(Kls, ukbC, 'ID', 'ever_K_ID')\n",
    "print(\"shape ukbCK labeled = \", ukbCK.shape)\n",
    "\n",
    "# only C detected proteins\n",
    "Conly = ukbCK[(ukbCK['ever_C_ID'] == \"True\") & (ukbCK['ever_K_ID'] == \"False\")]\n",
    "print(\"TOTAL protiens with only Cys detected: \")\n",
    "print(Conly.shape)\n",
    "print(\"TOTAL Cys in the proteins: \", Conly.C.sum())\n",
    "print()\n",
    "\n",
    "# only K detected proteins\n",
    "Konly = ukbCK[(ukbCK['ever_C_ID'] == \"False\") & (ukbCK['ever_K_ID'] == \"True\")]\n",
    "print(\"TOTAL protiens with only Lysine detected: \")\n",
    "print(Konly.shape)\n",
    "print(\"TOTAL Lysine in the proteins: \", Konly.K.sum())\n",
    "print()\n",
    "\n",
    "# both C K detecte proteins\n",
    "bothck = ukbCK[(ukbCK['ever_C_ID'] == \"True\") & (ukbCK['ever_K_ID'] == \"True\")]\n",
    "print(\"TOTAL protiens with both CK detected: \")\n",
    "print(bothck.shape)\n",
    "print(\"TOTAL Lysine in the proteins: \", bothck.K.sum())\n",
    "print(\"TOTAL Cysteine in the proteins: \", bothck.C.sum())\n",
    "print()\n",
    "\n",
    "# all C IDs\n",
    "Call = ukbCK[ukbCK['ever_C_ID'] == \"True\"]\n",
    "print(\"TOTAL protiens with all C detected: \")\n",
    "print(Call.shape)\n",
    "print(\"TOTAL C in the proteins: \", Call.C.sum())\n",
    "print()\n",
    "\n",
    "Kall = ukbCK[ukbCK['ever_K_ID'] == \"True\"]\n",
    "print(\"TOTAL protiens with all K detected: \")\n",
    "print(Kall.shape)\n",
    "print(\"TOTAL K in the proteins: \", Kall.K.sum())\n"
   ]
  },
  {
   "cell_type": "markdown",
   "metadata": {},
   "source": [
    "---\n",
    "---\n",
    "---\n"
   ]
  },
  {
   "cell_type": "markdown",
   "metadata": {},
   "source": [
    "# version of PIE chart with 3,953 IDs shared across all ensembl releases"
   ]
  },
  {
   "cell_type": "code",
   "execution_count": 50,
   "metadata": {},
   "outputs": [
    {
     "name": "stdout",
     "output_type": "stream",
     "text": [
      "length of list:  3953\n",
      "length of set:  3953\n",
      "\n",
      "  set3953_ID  Count\n",
      "0       True   2618\n",
      "1      False      5\n",
      "dropping false\n",
      "df shape post drop:  (2618, 4)\n",
      "  set3953_ID  Count\n",
      "0       True   2909\n",
      "1      False      6\n",
      "dropping false\n",
      "df shape post drop:  (2909, 4)\n",
      "shape lys drop  =  (2618, 4)\n",
      "shape cys drop  =  (2909, 4)\n"
     ]
    }
   ],
   "source": [
    "# 3953 ID version \n",
    "fil = shared.xref.tolist()\n",
    "print(\"length of list: \", len(fil))\n",
    "print(\"length of set: \", len(set(fil)))\n",
    "print()\n",
    "lysdrop = addcolumnconditionalDrop(fil, lys, 'ID', 'set3953_ID')\n",
    "cysdrop = addcolumnconditionalDrop(fil, cys, 'ID', 'set3953_ID')\n",
    "print(\"shape lys drop  = \", lysdrop.shape)\n",
    "print(\"shape cys drop  = \", cysdrop.shape)"
   ]
  },
  {
   "cell_type": "code",
   "execution_count": 53,
   "metadata": {},
   "outputs": [
    {
     "name": "stdout",
     "output_type": "stream",
     "text": [
      "ALL 3953 uniprot IDs: \n",
      "total of all lysines detected:  9034\n",
      "total of all cysteines detected:  6225\n"
     ]
    }
   ],
   "source": [
    "print(\"ALL 3953 uniprot IDs: \")\n",
    "print(\"total of all lysines detected: \", lysdrop.counts.sum())\n",
    "print(\"total of all cysteines detected: \", cysdrop.counts.sum())"
   ]
  },
  {
   "cell_type": "code",
   "execution_count": 51,
   "metadata": {},
   "outputs": [
    {
     "name": "stdout",
     "output_type": "stream",
     "text": [
      "checking labeled column values: \n",
      "  ever_C_ID  Count\n",
      "0     False  15523\n",
      "1      True   2909\n",
      "\n",
      "checking labeled column values: \n",
      "  ever_K_ID  Count\n",
      "0     False  15814\n",
      "1      True   2618\n",
      "\n",
      "shape ukbCK labeled =  (18432, 30)\n",
      "TOTAL protiens with only Cys detected: \n",
      "(1335, 30)\n",
      "TOTAL Cys in the proteins:  19768\n",
      "\n",
      "TOTAL protiens with only Lysine detected: \n",
      "(1044, 30)\n",
      "TOTAL Lysine in the proteins:  34814\n",
      "\n",
      "TOTAL protiens with both CK detected: \n",
      "(1574, 30)\n",
      "TOTAL Lysine in the proteins:  61905\n",
      "TOTAL Cysteine in the proteins:  14940\n",
      "\n",
      "TOTAL protiens with all C detected: \n",
      "(2909, 30)\n",
      "TOTAL C in the proteins:  34708\n",
      "\n",
      "TOTAL protiens with all K detected: \n",
      "(2618, 30)\n",
      "TOTAL K in the proteins:  96719\n"
     ]
    }
   ],
   "source": [
    "# change df name\n",
    "Cls = cysdrop.ID.tolist()\n",
    "Kls = lysdrop.ID.tolist()\n",
    "\n",
    "ukbC = addcolumnconditional(Cls, ukb, 'ID', 'ever_C_ID')\n",
    "ukbCK = addcolumnconditional(Kls, ukbC, 'ID', 'ever_K_ID')\n",
    "print(\"shape ukbCK labeled = \", ukbCK.shape)\n",
    "\n",
    "# only C detected proteins\n",
    "Conly = ukbCK[(ukbCK['ever_C_ID'] == \"True\") & (ukbCK['ever_K_ID'] == \"False\")]\n",
    "print(\"TOTAL protiens with only Cys detected: \")\n",
    "print(Conly.shape)\n",
    "print(\"TOTAL Cys in the proteins: \", Conly.C.sum())\n",
    "print()\n",
    "\n",
    "# only K detected proteins\n",
    "Konly = ukbCK[(ukbCK['ever_C_ID'] == \"False\") & (ukbCK['ever_K_ID'] == \"True\")]\n",
    "print(\"TOTAL protiens with only Lysine detected: \")\n",
    "print(Konly.shape)\n",
    "print(\"TOTAL Lysine in the proteins: \", Konly.K.sum())\n",
    "print()\n",
    "\n",
    "# both C K detecte proteins\n",
    "bothck = ukbCK[(ukbCK['ever_C_ID'] == \"True\") & (ukbCK['ever_K_ID'] == \"True\")]\n",
    "print(\"TOTAL protiens with both CK detected: \")\n",
    "print(bothck.shape)\n",
    "print(\"TOTAL Lysine in the proteins: \", bothck.K.sum())\n",
    "print(\"TOTAL Cysteine in the proteins: \", bothck.C.sum())\n",
    "print()\n",
    "\n",
    "# all C IDs\n",
    "Call = ukbCK[ukbCK['ever_C_ID'] == \"True\"]\n",
    "print(\"TOTAL protiens with all C detected: \")\n",
    "print(Call.shape)\n",
    "print(\"TOTAL C in the proteins: \", Call.C.sum())\n",
    "print()\n",
    "\n",
    "Kall = ukbCK[ukbCK['ever_K_ID'] == \"True\"]\n",
    "print(\"TOTAL protiens with all K detected: \")\n",
    "print(Kall.shape)\n",
    "print(\"TOTAL K in the proteins: \", Kall.K.sum())\n"
   ]
  },
  {
   "cell_type": "markdown",
   "metadata": {},
   "source": [
    "---\n",
    "---\n",
    "---\n"
   ]
  },
  {
   "cell_type": "markdown",
   "metadata": {},
   "source": [
    "---\n",
    "---\n",
    "---\n"
   ]
  },
  {
   "cell_type": "markdown",
   "metadata": {},
   "source": [
    "# PANTHER PROTEIN CLASSIFICATION\n",
    "\n",
    "version = PANTHER14.1 is generated from the **2018_04 release of ReferenceProteome dataset**\n",
    "\n",
    "<http://www.pantherdb.org/chart/pantherChart.jsp?listType=1&filterLevel=1&type=5&chartType=2&save=yes&basketItems=all&zoom=1&trackingId=626614EA3D2EAB0581A6BA3EDA4F01F5>\n",
    "\n",
    "### unable to map some IDs\n",
    "#### from cys ever n = 2915\n",
    "```\n",
    " Unable to map following ids:\n",
    "# UNIQUE TO C EVER LIST\n",
    "Q14116\n",
    "\n",
    "# IN LYS MISMAP LIST (5)\n",
    "P50135\n",
    "Q15121\n",
    "Q9Y3B4\n",
    "P42167\n",
    "P61513\n",
    "```\n",
    "\n",
    "#### from lys ever n = 2623\n",
    "```\n",
    " Unable to map following ids:\n",
    "# UNIQUE TO K EVER LIST\n",
    "Q13765\n",
    "Q99470\n",
    "A6ZKI3\n",
    "Q9GZP8\n",
    "P60896\n",
    "P42773\n",
    "Q9NRS6\n",
    "O60656\n",
    "\n",
    "# IN CYS MISMAP LIST (5)\n",
    "P61513\n",
    "P42167\n",
    "Q9Y3B4\n",
    "Q15121\n",
    "P50135\n",
    "```\n",
    "\n",
    "| Not mapped in C or K ever ID list | protein primary name from ukb web |\n",
    "|------------------------------------|-------------------------------------|\n",
    "| P61513 | 60S ribosomal protein L37a, gene(RPL37A) |\n",
    "| P42167 | Lamina-associated polypeptide 2, isoforms beta/gamma, gene(TMPO) |\n",
    "| Q9Y3B4 | Splicing factor 3B subunit 6, gene(SF3B6) |\n",
    "| Q15121 | Astrocytic phosphoprotein PEA-15, gene(PEA15) |\n",
    "| P50135 | Histamine N-methyltransferase, gene(HNMT) |\n"
   ]
  }
 ],
 "metadata": {
  "kernelspec": {
   "display_name": "Python 3",
   "language": "python",
   "name": "python3"
  },
  "language_info": {
   "codemirror_mode": {
    "name": "ipython",
    "version": 3
   },
   "file_extension": ".py",
   "mimetype": "text/x-python",
   "name": "python",
   "nbconvert_exporter": "python",
   "pygments_lexer": "ipython3",
   "version": "3.7.1"
  }
 },
 "nbformat": 4,
 "nbformat_minor": 2
}
