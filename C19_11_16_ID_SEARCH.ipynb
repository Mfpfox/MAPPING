{
 "cells": [
  {
   "cell_type": "markdown",
   "metadata": {},
   "source": [
    "# primary accesion search in Ensembl xrefs and 2018 reference proteome\n",
    "\n",
    "11.15.19\n",
    "\n",
    "mfpfox\n",
    "\n",
    "## UniProt database version used by Nature Cys and Lysine papers: \n",
    "- Global profiling of lysine reactivity and ligandability in the human proteome, supplemental file\n",
    "    - **using a reverse concatenated, nonredundant variant of the Human UniProt database (release-2012_11)**"
   ]
  },
  {
   "cell_type": "markdown",
   "metadata": {},
   "source": [
    "**searched in both Trembl and SwissProt db_name for xref files**\n",
    "\n",
    "| Ensembl release xref | unique IDs found (out of 4,119) | \n",
    "|---------------------|-----------|\n",
    "| v85 | 4087 | \n",
    "| v92 | 4075 |\n",
    "| v94 | 4080 | \n",
    "| v96 | 4081 | \n",
    "| v97 | 4082 | \n",
    "\n",
    "**searched in 2018 reference proteome, UKB/SP CCDS set only**\n",
    "\n",
    "| 2018 reference proteome | unique IDs found (out of 4,119) | \n",
    "|---------------------|-----------|\n",
    "| UKBCCDS | 4000 | "
   ]
  },
  {
   "cell_type": "code",
   "execution_count": 1,
   "metadata": {},
   "outputs": [],
   "source": [
    "import os\n",
    "import sys\n",
    "import pandas as pd"
   ]
  },
  {
   "cell_type": "code",
   "execution_count": 2,
   "metadata": {},
   "outputs": [],
   "source": [
    "sys.path.append(\"/Users/mariapalafox/Desktop/Toolbox\")\n",
    "from all_funx import *"
   ]
  },
  {
   "cell_type": "code",
   "execution_count": 3,
   "metadata": {},
   "outputs": [
    {
     "data": {
      "text/html": [
       "<style>.container {width:90% !important;}</style>"
      ],
      "text/plain": [
       "<IPython.core.display.HTML object>"
      ]
     },
     "metadata": {},
     "output_type": "display_data"
    }
   ],
   "source": [
    "from IPython.display import display, HTML\n",
    "pd.set_option('display.max_columns', None)\n",
    "pd.options.display.max_seq_items = 2000\n",
    "display(HTML(\"<style>.container {width:90% !important;}</style>\"))\n",
    "\n",
    "os.chdir(\"/Users/mariapalafox/Box Sync/CODE_DATA/dir_MAPpaper/TSV_UNIPROT_xref\")"
   ]
  },
  {
   "cell_type": "code",
   "execution_count": 13,
   "metadata": {},
   "outputs": [],
   "source": [
    "# same as above but also drops False value rows\n",
    "def addcolumnconditionalDrop(mapList, df, dfcol, newcol):\n",
    "    mendel = []\n",
    "    for g in df[dfcol]:\n",
    "        if g in mapList:\n",
    "            mendel.append(\"True\")\n",
    "        else:\n",
    "            mendel.append(\"False\")\n",
    "    df.loc[:, newcol] = mendel\n",
    "    checkColumnValues(df, newcol)\n",
    "    print(\"dropping false\")\n",
    "    df.drop(df[df[newcol] == \"False\"].index, inplace=True)\n",
    "    df.reset_index(inplace=True, drop=True)\n",
    "    print(\"df shape post drop: \", df.shape)\n",
    "    return df"
   ]
  },
  {
   "cell_type": "code",
   "execution_count": 18,
   "metadata": {},
   "outputs": [],
   "source": [
    "def uniqueCount(df, colname):\n",
    "    print(\"len of col: \", len(df[colname]))\n",
    "    print(\"len of col set: \", len(df[colname].unique()))\n",
    "    print()"
   ]
  },
  {
   "cell_type": "code",
   "execution_count": 8,
   "metadata": {},
   "outputs": [],
   "source": [
    "# origianl experiment data, total unique primary accessions 4119\n",
    "ID = pd.read_csv(\"UniqueIDs_og_chemoproteomic_2012_11_4119.csv\")"
   ]
  },
  {
   "cell_type": "code",
   "execution_count": 24,
   "metadata": {},
   "outputs": [],
   "source": [
    "# searching in reference proteome 2018\n",
    "ukb2018 = pd.read_csv(\"UKBCCDS_FASTA_simple.csv\")"
   ]
  },
  {
   "cell_type": "code",
   "execution_count": 4,
   "metadata": {},
   "outputs": [],
   "source": [
    "v85 = pd.read_csv(\"v85Homo_sapiens.GRCh37.pep.all.csv\")\n",
    "v92 = pd.read_csv(\"v92Homo_sapiens.GRCh38.pep.all.csv\")\n",
    "v94 = pd.read_csv(\"v94Homo_sapiens.GRCh38.pep.all.csv\")\n",
    "v96 = pd.read_csv(\"v96Homo_sapiens.GRCh38.pep.all.csv\")\n",
    "v97 = pd.read_csv(\"v97Homo_sapiens.GRCh38.pep.all.csv\")"
   ]
  },
  {
   "cell_type": "code",
   "execution_count": 5,
   "metadata": {},
   "outputs": [],
   "source": [
    "t85 = pd.read_csv(\"Homo_sapiens.GRCh37.85.uniprot.tsv\", delimiter=r\"\\s+\")\n",
    "t92 = pd.read_csv(\"Homo_sapiens.GRCh38.92.uniprot.tsv\", delimiter=r\"\\s+\")\n",
    "t94 = pd.read_csv(\"Homo_sapiens.GRCh38.94.uniprot.tsv\", delimiter=r\"\\s+\")\n",
    "t96 = pd.read_csv(\"Homo_sapiens.GRCh38.96.uniprot.tsv\", delimiter=r\"\\s+\")\n",
    "t97 = pd.read_csv(\"Homo_sapiens.GRCh38.97.uniprot.tsv\", delimiter=r\"\\s+\")"
   ]
  },
  {
   "cell_type": "markdown",
   "metadata": {},
   "source": [
    "# Searching for primary accessions from chemoproteomic experiments in all ensembl xref files\n",
    "- stable ID to primary accession mapping "
   ]
  },
  {
   "cell_type": "code",
   "execution_count": 7,
   "metadata": {},
   "outputs": [
    {
     "name": "stdout",
     "output_type": "stream",
     "text": [
      "(206682, 9)\n",
      "(113729, 9)\n",
      "(115383, 9)\n",
      "(117961, 9)\n",
      "(117505, 9)\n"
     ]
    }
   ],
   "source": [
    "print(t85.shape)\n",
    "print(t92.shape)\n",
    "print(t94.shape)\n",
    "print(t96.shape)\n",
    "print(t97.shape)"
   ]
  },
  {
   "cell_type": "code",
   "execution_count": 9,
   "metadata": {},
   "outputs": [
    {
     "data": {
      "text/html": [
       "<div>\n",
       "<style scoped>\n",
       "    .dataframe tbody tr th:only-of-type {\n",
       "        vertical-align: middle;\n",
       "    }\n",
       "\n",
       "    .dataframe tbody tr th {\n",
       "        vertical-align: top;\n",
       "    }\n",
       "\n",
       "    .dataframe thead th {\n",
       "        text-align: right;\n",
       "    }\n",
       "</style>\n",
       "<table border=\"1\" class=\"dataframe\">\n",
       "  <thead>\n",
       "    <tr style=\"text-align: right;\">\n",
       "      <th></th>\n",
       "      <th>ENSPv</th>\n",
       "      <th>ENSP</th>\n",
       "      <th>ENSTv</th>\n",
       "      <th>ENST</th>\n",
       "      <th>ENSGv</th>\n",
       "      <th>ENSG</th>\n",
       "      <th>Length</th>\n",
       "      <th>proSequence</th>\n",
       "    </tr>\n",
       "  </thead>\n",
       "  <tbody>\n",
       "    <tr>\n",
       "      <th>0</th>\n",
       "      <td>ENSP00000451042.1</td>\n",
       "      <td>ENSP00000451042</td>\n",
       "      <td>ENST00000415118.1</td>\n",
       "      <td>ENST00000415118</td>\n",
       "      <td>ENSG00000223997.1</td>\n",
       "      <td>ENSG00000223997</td>\n",
       "      <td>2</td>\n",
       "      <td>EI</td>\n",
       "    </tr>\n",
       "    <tr>\n",
       "      <th>1</th>\n",
       "      <td>ENSP00000451515.1</td>\n",
       "      <td>ENSP00000451515</td>\n",
       "      <td>ENST00000434970.2</td>\n",
       "      <td>ENST00000434970</td>\n",
       "      <td>ENSG00000237235.2</td>\n",
       "      <td>ENSG00000237235</td>\n",
       "      <td>3</td>\n",
       "      <td>PSY</td>\n",
       "    </tr>\n",
       "    <tr>\n",
       "      <th>2</th>\n",
       "      <td>ENSP00000452494.1</td>\n",
       "      <td>ENSP00000452494</td>\n",
       "      <td>ENST00000448914.1</td>\n",
       "      <td>ENST00000448914</td>\n",
       "      <td>ENSG00000228985.1</td>\n",
       "      <td>ENSG00000228985</td>\n",
       "      <td>4</td>\n",
       "      <td>TGGY</td>\n",
       "    </tr>\n",
       "  </tbody>\n",
       "</table>\n",
       "</div>"
      ],
      "text/plain": [
       "               ENSPv             ENSP              ENSTv             ENST  \\\n",
       "0  ENSP00000451042.1  ENSP00000451042  ENST00000415118.1  ENST00000415118   \n",
       "1  ENSP00000451515.1  ENSP00000451515  ENST00000434970.2  ENST00000434970   \n",
       "2  ENSP00000452494.1  ENSP00000452494  ENST00000448914.1  ENST00000448914   \n",
       "\n",
       "               ENSGv             ENSG  Length proSequence  \n",
       "0  ENSG00000223997.1  ENSG00000223997       2          EI  \n",
       "1  ENSG00000237235.2  ENSG00000237235       3         PSY  \n",
       "2  ENSG00000228985.1  ENSG00000228985       4        TGGY  "
      ]
     },
     "execution_count": 9,
     "metadata": {},
     "output_type": "execute_result"
    }
   ],
   "source": [
    "# fasta files processed for each ensembl release\n",
    "v85.head(3)"
   ]
  },
  {
   "cell_type": "code",
   "execution_count": 10,
   "metadata": {},
   "outputs": [
    {
     "data": {
      "text/html": [
       "<div>\n",
       "<style scoped>\n",
       "    .dataframe tbody tr th:only-of-type {\n",
       "        vertical-align: middle;\n",
       "    }\n",
       "\n",
       "    .dataframe tbody tr th {\n",
       "        vertical-align: top;\n",
       "    }\n",
       "\n",
       "    .dataframe thead th {\n",
       "        text-align: right;\n",
       "    }\n",
       "</style>\n",
       "<table border=\"1\" class=\"dataframe\">\n",
       "  <thead>\n",
       "    <tr style=\"text-align: right;\">\n",
       "      <th></th>\n",
       "      <th>gene_stable_id</th>\n",
       "      <th>transcript_stable_id</th>\n",
       "      <th>protein_stable_id</th>\n",
       "      <th>xref</th>\n",
       "      <th>db_name</th>\n",
       "      <th>info_type</th>\n",
       "      <th>source_identity</th>\n",
       "      <th>xref_identity</th>\n",
       "      <th>linkage_type</th>\n",
       "    </tr>\n",
       "  </thead>\n",
       "  <tbody>\n",
       "    <tr>\n",
       "      <th>0</th>\n",
       "      <td>ENSG00000186092</td>\n",
       "      <td>ENST00000335137</td>\n",
       "      <td>ENSP00000334393</td>\n",
       "      <td>Q8NH21</td>\n",
       "      <td>Uniprot/SWISSPROT</td>\n",
       "      <td>DIRECT</td>\n",
       "      <td>-</td>\n",
       "      <td>-</td>\n",
       "      <td>-</td>\n",
       "    </tr>\n",
       "    <tr>\n",
       "      <th>1</th>\n",
       "      <td>ENSG00000237683</td>\n",
       "      <td>ENST00000423372</td>\n",
       "      <td>ENSP00000473460</td>\n",
       "      <td>B7Z7W4</td>\n",
       "      <td>Uniprot/SPTREMBL</td>\n",
       "      <td>SEQUENCE_MATCH</td>\n",
       "      <td>56</td>\n",
       "      <td>100</td>\n",
       "      <td>-</td>\n",
       "    </tr>\n",
       "    <tr>\n",
       "      <th>2</th>\n",
       "      <td>ENSG00000237683</td>\n",
       "      <td>ENST00000423372</td>\n",
       "      <td>ENSP00000473460</td>\n",
       "      <td>R4GN28</td>\n",
       "      <td>Uniprot/SPTREMBL</td>\n",
       "      <td>SEQUENCE_MATCH</td>\n",
       "      <td>100</td>\n",
       "      <td>100</td>\n",
       "      <td>-</td>\n",
       "    </tr>\n",
       "  </tbody>\n",
       "</table>\n",
       "</div>"
      ],
      "text/plain": [
       "    gene_stable_id transcript_stable_id protein_stable_id    xref  \\\n",
       "0  ENSG00000186092      ENST00000335137   ENSP00000334393  Q8NH21   \n",
       "1  ENSG00000237683      ENST00000423372   ENSP00000473460  B7Z7W4   \n",
       "2  ENSG00000237683      ENST00000423372   ENSP00000473460  R4GN28   \n",
       "\n",
       "             db_name       info_type source_identity xref_identity  \\\n",
       "0  Uniprot/SWISSPROT          DIRECT               -             -   \n",
       "1   Uniprot/SPTREMBL  SEQUENCE_MATCH              56           100   \n",
       "2   Uniprot/SPTREMBL  SEQUENCE_MATCH             100           100   \n",
       "\n",
       "  linkage_type  \n",
       "0            -  \n",
       "1            -  \n",
       "2            -  "
      ]
     },
     "execution_count": 10,
     "metadata": {},
     "output_type": "execute_result"
    }
   ],
   "source": [
    "# cross ref files\n",
    "t85.head(3)"
   ]
  },
  {
   "cell_type": "code",
   "execution_count": 12,
   "metadata": {},
   "outputs": [
    {
     "data": {
      "text/plain": [
       "(4119, 1)"
      ]
     },
     "execution_count": 12,
     "metadata": {},
     "output_type": "execute_result"
    }
   ],
   "source": [
    "ID.shape"
   ]
  },
  {
   "cell_type": "code",
   "execution_count": 15,
   "metadata": {},
   "outputs": [
    {
     "name": "stdout",
     "output_type": "stream",
     "text": [
      "4119\n"
     ]
    }
   ],
   "source": [
    "# making ID list to file\n",
    "idls = list(ID.unique_IDs)\n",
    "print(len(idls))"
   ]
  },
  {
   "cell_type": "code",
   "execution_count": 17,
   "metadata": {},
   "outputs": [
    {
     "name": "stdout",
     "output_type": "stream",
     "text": [
      "  found_4119set   Count\n",
      "0         False  196216\n",
      "1          True   10466\n",
      "dropping false\n",
      "df shape post drop:  (10466, 10)\n",
      "  found_4119set   Count\n",
      "0         False  103081\n",
      "1          True   10648\n",
      "dropping false\n",
      "df shape post drop:  (10648, 10)\n",
      "  found_4119set   Count\n",
      "0         False  104507\n",
      "1          True   10876\n",
      "dropping false\n",
      "df shape post drop:  (10876, 10)\n",
      "  found_4119set   Count\n",
      "0         False  107028\n",
      "1          True   10933\n",
      "dropping false\n",
      "df shape post drop:  (10933, 10)\n",
      "  found_4119set   Count\n",
      "0         False  106671\n",
      "1          True   10834\n",
      "dropping false\n",
      "df shape post drop:  (10834, 10)\n"
     ]
    }
   ],
   "source": [
    "found85 = addcolumnconditionalDrop(idls, t85, 'xref', 'found_4119set')\n",
    "found92 = addcolumnconditionalDrop(idls, t92, 'xref', 'found_4119set')\n",
    "found94 = addcolumnconditionalDrop(idls, t94, 'xref', 'found_4119set')\n",
    "found96 = addcolumnconditionalDrop(idls, t96, 'xref', 'found_4119set')\n",
    "found97 = addcolumnconditionalDrop(idls, t97, 'xref', 'found_4119set')"
   ]
  },
  {
   "cell_type": "markdown",
   "metadata": {},
   "source": [
    "## how many unique IDs out of 4119 total found ?"
   ]
  },
  {
   "cell_type": "code",
   "execution_count": 19,
   "metadata": {},
   "outputs": [
    {
     "name": "stdout",
     "output_type": "stream",
     "text": [
      "len of col:  10466\n",
      "len of col set:  4087\n",
      "\n",
      "len of col:  10648\n",
      "len of col set:  4075\n",
      "\n",
      "len of col:  10876\n",
      "len of col set:  4080\n",
      "\n",
      "len of col:  10933\n",
      "len of col set:  4081\n",
      "\n",
      "len of col:  10834\n",
      "len of col set:  4082\n",
      "\n"
     ]
    }
   ],
   "source": [
    "# how many unique IDs found?\n",
    "uniqueCount(found85, 'xref')\n",
    "uniqueCount(found92, 'xref')\n",
    "uniqueCount(found94, 'xref')\n",
    "uniqueCount(found96, 'xref')\n",
    "uniqueCount(found97, 'xref')"
   ]
  },
  {
   "cell_type": "code",
   "execution_count": 21,
   "metadata": {},
   "outputs": [
    {
     "name": "stdout",
     "output_type": "stream",
     "text": [
      "             db_name  Count\n",
      "0  Uniprot/SWISSPROT  10446\n",
      "1   Uniprot/SPTREMBL     20\n",
      "             db_name  Count\n",
      "0  Uniprot/SWISSPROT  10625\n",
      "1   Uniprot/SPTREMBL     23\n",
      "             db_name  Count\n",
      "0  Uniprot/SWISSPROT  10854\n",
      "1   Uniprot/SPTREMBL     22\n",
      "             db_name  Count\n",
      "0  Uniprot/SWISSPROT  10911\n",
      "1   Uniprot/SPTREMBL     22\n",
      "             db_name  Count\n",
      "0  Uniprot/SWISSPROT  10812\n",
      "1   Uniprot/SPTREMBL     22\n"
     ]
    }
   ],
   "source": [
    "# how many rows have TREMBL db_name \n",
    "checkColumnValues(found85,'db_name')\n",
    "checkColumnValues(found92,'db_name')\n",
    "checkColumnValues(found94,'db_name')\n",
    "checkColumnValues(found96,'db_name')\n",
    "checkColumnValues(found97,'db_name')"
   ]
  },
  {
   "cell_type": "code",
   "execution_count": 26,
   "metadata": {},
   "outputs": [
    {
     "data": {
      "text/plain": [
       "(18433, 2)"
      ]
     },
     "execution_count": 26,
     "metadata": {},
     "output_type": "execute_result"
    }
   ],
   "source": [
    "# searhcing for IDs in CCDS UKB 2018 reference proteome\n",
    "ukb2018.shape"
   ]
  },
  {
   "cell_type": "code",
   "execution_count": 27,
   "metadata": {},
   "outputs": [
    {
     "name": "stdout",
     "output_type": "stream",
     "text": [
      "  found_4119set  Count\n",
      "0         False  14433\n",
      "1          True   4000\n",
      "dropping false\n",
      "df shape post drop:  (4000, 3)\n"
     ]
    }
   ],
   "source": [
    "found2018 = addcolumnconditionalDrop(idls, ukb2018, 'ID', 'found_4119set')"
   ]
  },
  {
   "cell_type": "code",
   "execution_count": 28,
   "metadata": {},
   "outputs": [
    {
     "name": "stdout",
     "output_type": "stream",
     "text": [
      "len of col:  4000\n",
      "len of col set:  4000\n",
      "\n"
     ]
    }
   ],
   "source": [
    "uniqueCount(found2018, 'ID')"
   ]
  }
 ],
 "metadata": {
  "kernelspec": {
   "display_name": "Python 3",
   "language": "python",
   "name": "python3"
  },
  "language_info": {
   "codemirror_mode": {
    "name": "ipython",
    "version": 3
   },
   "file_extension": ".py",
   "mimetype": "text/x-python",
   "name": "python",
   "nbconvert_exporter": "python",
   "pygments_lexer": "ipython3",
   "version": "3.7.1"
  }
 },
 "nbformat": 4,
 "nbformat_minor": 2
}
