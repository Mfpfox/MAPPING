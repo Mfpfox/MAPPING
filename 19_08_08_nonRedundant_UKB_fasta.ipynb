{
 "cells": [
  {
   "cell_type": "markdown",
   "metadata": {},
   "source": [
    "# creating nonRedundant UKB fasta for MS library search\n",
    "\n",
    "8.8.19\n",
    "\n",
    "mfpfox\n",
    "\n",
    "## input\n",
    "- (\"countsfromfastaCCDS_filter_counts_all_AA.csv\")\n",
    "\n",
    "## output\n",
    "- UKBccds_NONredundantSequence_18400.csv\n",
    "- UKBccds_NONredundantSequence_18400.fasta\n",
    "\n",
    "\n",
    "### fasta format\n",
    "```bash\n",
    ">sp|O95139|NDUB6_HUMAN NADH dehydrogenase [ubiquinone] 1 beta subcomplex subunit 6 OS=Homo sapiens OX=9606 GN=NDUFB6 PE=1 SV=3\n",
    "MTGYTPDEKLRLQQLRELRRRWLKDQELSPREPVLPPQKMGPMEKFWNKFLENKSPWRKM\n",
    "VHGVYKKSIFVFTHVLVPVWIIHYYMKYHVSEKPYGIVEKKSRIFPGDTILETGEVIPPM\n",
    "KEFPDQHH\n",
    "\n",
    "# version i am making will have below format\n",
    ">sp|O95139|O95789 \n",
    "MTGYTPDEKLRLQQLRELRRRWLKDQELSPREPVLPPQKMGPMEKFWNKFLENKSPWRKM\n",
    "VHGVYKKSIFVFTHVLVPVWIIHYYMKYHVSEKPYGIVEKKSRIFPGDTILETGEVIPPM\n",
    "KEFPDQHH\n",
    "```"
   ]
  },
  {
   "cell_type": "code",
   "execution_count": 43,
   "metadata": {},
   "outputs": [],
   "source": [
    "import pandas as pd\n",
    "import re \n",
    "import sys\n",
    "import os\n",
    "import csv"
   ]
  },
  {
   "cell_type": "code",
   "execution_count": 2,
   "metadata": {},
   "outputs": [
    {
     "name": "stdout",
     "output_type": "stream",
     "text": [
      "['countsfromfastaCCDS_summary_filt_counts.csv', 'Screen Shot 2019-04-25 at 12.30.44 PM.png', 'sumsAA_CCDS_sumsAA_common.csv', 'countsfromfastaCCDS_filter_counts_all_AA.csv', 'CYSpositionsCCDS.csv', 'countsfromfastaCCDS_summary_filt_normalize.csv', 'sumsAA_CCDS_sumsAA.csv', 'countsfromfastaCCDS_filter_normalize_all_AA.csv', 'countsfromfastaCCDSfailQC_data.csv']\n"
     ]
    }
   ],
   "source": [
    "os.chdir(\"/Users/mariapalafox/Box Sync/CODE_DATA/db_UKBccds_set/COUNTING_pipeline/\")\n",
    "print(os.listdir())"
   ]
  },
  {
   "cell_type": "code",
   "execution_count": 3,
   "metadata": {},
   "outputs": [],
   "source": [
    "ukb = pd.read_csv(\"countsfromfastaCCDS_filter_counts_all_AA.csv\")"
   ]
  },
  {
   "cell_type": "code",
   "execution_count": 4,
   "metadata": {},
   "outputs": [
    {
     "data": {
      "text/plain": [
       "Index(['Unnamed: 0', 'ID', 'entryName', 'Length', 'proSequence', 'A', 'B', 'C',\n",
       "       'D', 'E', 'F', 'G', 'H', 'I', 'K', 'L', 'M', 'N', 'P', 'Q', 'R', 'S',\n",
       "       'T', 'U', 'V', 'W', 'X', 'Y', 'Z'],\n",
       "      dtype='object')"
      ]
     },
     "execution_count": 4,
     "metadata": {},
     "output_type": "execute_result"
    }
   ],
   "source": [
    "ukb.columns"
   ]
  },
  {
   "cell_type": "code",
   "execution_count": 46,
   "metadata": {
    "scrolled": true
   },
   "outputs": [],
   "source": [
    "keepme = ['ID', 'proSequence']\n",
    "uniprot = ukb[keepme]\n"
   ]
  },
  {
   "cell_type": "code",
   "execution_count": 8,
   "metadata": {},
   "outputs": [],
   "source": [
    "# how many duplicates are there\n",
    "duplicates = uniprot[uniprot.duplicated(['proSequence'],keep=False)]\n",
    "duplicates = duplicates.sort_values(['proSequence'],ascending=True)"
   ]
  },
  {
   "cell_type": "code",
   "execution_count": 9,
   "metadata": {},
   "outputs": [
    {
     "name": "stdout",
     "output_type": "stream",
     "text": [
      "(18432, 2)\n",
      "(56, 2)\n"
     ]
    }
   ],
   "source": [
    "print(uniprot.shape)\n",
    "print(duplicates.shape)"
   ]
  },
  {
   "cell_type": "code",
   "execution_count": 18,
   "metadata": {},
   "outputs": [
    {
     "data": {
      "text/plain": [
       "24"
      ]
     },
     "execution_count": 18,
     "metadata": {},
     "output_type": "execute_result"
    }
   ],
   "source": [
    "uniquedups = duplicates['proSequence'].unique()\n",
    "len(uniquedups)"
   ]
  },
  {
   "cell_type": "code",
   "execution_count": 21,
   "metadata": {},
   "outputs": [
    {
     "data": {
      "text/html": [
       "<div>\n",
       "<style scoped>\n",
       "    .dataframe tbody tr th:only-of-type {\n",
       "        vertical-align: middle;\n",
       "    }\n",
       "\n",
       "    .dataframe tbody tr th {\n",
       "        vertical-align: top;\n",
       "    }\n",
       "\n",
       "    .dataframe thead th {\n",
       "        text-align: right;\n",
       "    }\n",
       "</style>\n",
       "<table border=\"1\" class=\"dataframe\">\n",
       "  <thead>\n",
       "    <tr style=\"text-align: right;\">\n",
       "      <th></th>\n",
       "      <th>ID</th>\n",
       "      <th>proSequence</th>\n",
       "    </tr>\n",
       "  </thead>\n",
       "  <tbody>\n",
       "    <tr>\n",
       "      <th>883</th>\n",
       "      <td>P86791</td>\n",
       "      <td>MAAAAAGAGSGPWAAQEKQFPPALLSFFIYNPRFGPREGQEENKIL...</td>\n",
       "    </tr>\n",
       "    <tr>\n",
       "      <th>12020</th>\n",
       "      <td>P86790</td>\n",
       "      <td>MAAAAAGAGSGPWAAQEKQFPPALLSFFIYNPRFGPREGQEENKIL...</td>\n",
       "    </tr>\n",
       "    <tr>\n",
       "      <th>10521</th>\n",
       "      <td>P0DP23</td>\n",
       "      <td>MADQLTEEQIAEFKEAFSLFDKDGDGTITTKELGTVMRSLGQNPTE...</td>\n",
       "    </tr>\n",
       "    <tr>\n",
       "      <th>10243</th>\n",
       "      <td>P0DP24</td>\n",
       "      <td>MADQLTEEQIAEFKEAFSLFDKDGDGTITTKELGTVMRSLGQNPTE...</td>\n",
       "    </tr>\n",
       "    <tr>\n",
       "      <th>10244</th>\n",
       "      <td>P0DP25</td>\n",
       "      <td>MADQLTEEQIAEFKEAFSLFDKDGDGTITTKELGTVMRSLGQNPTE...</td>\n",
       "    </tr>\n",
       "  </tbody>\n",
       "</table>\n",
       "</div>"
      ],
      "text/plain": [
       "           ID                                        proSequence\n",
       "883    P86791  MAAAAAGAGSGPWAAQEKQFPPALLSFFIYNPRFGPREGQEENKIL...\n",
       "12020  P86790  MAAAAAGAGSGPWAAQEKQFPPALLSFFIYNPRFGPREGQEENKIL...\n",
       "10521  P0DP23  MADQLTEEQIAEFKEAFSLFDKDGDGTITTKELGTVMRSLGQNPTE...\n",
       "10243  P0DP24  MADQLTEEQIAEFKEAFSLFDKDGDGTITTKELGTVMRSLGQNPTE...\n",
       "10244  P0DP25  MADQLTEEQIAEFKEAFSLFDKDGDGTITTKELGTVMRSLGQNPTE..."
      ]
     },
     "execution_count": 21,
     "metadata": {},
     "output_type": "execute_result"
    }
   ],
   "source": [
    "duplicates.head(5) # looks like 24 will be merged\n",
    "# there should be final size 18400 after merge of duplicated rows"
   ]
  },
  {
   "cell_type": "code",
   "execution_count": 22,
   "metadata": {},
   "outputs": [
    {
     "name": "stdout",
     "output_type": "stream",
     "text": [
      "CPU times: user 2.25 s, sys: 29.5 ms, total: 2.28 s\n",
      "Wall time: 2.26 s\n"
     ]
    }
   ],
   "source": [
    "# combine ID and entryName col\n",
    "%time d1 = {k: g[\"ID\"].tolist() for k,g in uniprot.groupby(\"proSequence\")}"
   ]
  },
  {
   "cell_type": "code",
   "execution_count": 30,
   "metadata": {},
   "outputs": [
    {
     "data": {
      "text/plain": [
       "18400"
      ]
     },
     "execution_count": 30,
     "metadata": {},
     "output_type": "execute_result"
    }
   ],
   "source": [
    "len(d1) # perfect"
   ]
  },
  {
   "cell_type": "code",
   "execution_count": 28,
   "metadata": {},
   "outputs": [],
   "source": [
    "# turn list of ID's into a string joined by \"|\"\n",
    "for key, value in d1.items():\n",
    "    d1.update({key: \"|\".join(value)})"
   ]
  },
  {
   "cell_type": "code",
   "execution_count": 32,
   "metadata": {},
   "outputs": [
    {
     "name": "stdout",
     "output_type": "stream",
     "text": [
      "RangeIndex(start=0, stop=1, step=1)\n",
      "RangeIndex(start=0, stop=1, step=1)\n",
      "0    0\n",
      "dtype: int64\n"
     ]
    }
   ],
   "source": [
    "merged = pd.DataFrame.from_dict(d1,orient='index')\n",
    "print(merged.columns)\n",
    "\n",
    "print(merged.isna().sum())"
   ]
  },
  {
   "cell_type": "code",
   "execution_count": 37,
   "metadata": {},
   "outputs": [
    {
     "name": "stdout",
     "output_type": "stream",
     "text": [
      "Index(['level_0', 'index', 'proSequence', 'ID_s'], dtype='object')\n"
     ]
    }
   ],
   "source": [
    "merged.reset_index(inplace=True)\n",
    "print(merged.columns)"
   ]
  },
  {
   "cell_type": "code",
   "execution_count": 39,
   "metadata": {},
   "outputs": [
    {
     "data": {
      "text/html": [
       "<div>\n",
       "<style scoped>\n",
       "    .dataframe tbody tr th:only-of-type {\n",
       "        vertical-align: middle;\n",
       "    }\n",
       "\n",
       "    .dataframe tbody tr th {\n",
       "        vertical-align: top;\n",
       "    }\n",
       "\n",
       "    .dataframe thead th {\n",
       "        text-align: right;\n",
       "    }\n",
       "</style>\n",
       "<table border=\"1\" class=\"dataframe\">\n",
       "  <thead>\n",
       "    <tr style=\"text-align: right;\">\n",
       "      <th></th>\n",
       "      <th>proSequence</th>\n",
       "      <th>ID_s</th>\n",
       "    </tr>\n",
       "  </thead>\n",
       "  <tbody>\n",
       "    <tr>\n",
       "      <th>0</th>\n",
       "      <td>MAAAAAAAAAAGAAGGRGSGPGRRRHLVPGAGGEAGEGAPGGAGDY...</td>\n",
       "      <td>Q86U42</td>\n",
       "    </tr>\n",
       "    <tr>\n",
       "      <th>1</th>\n",
       "      <td>MAAAAAAAAATNGTGGSSGMEVDAAVVPSVMACGVTGSVSVALHPL...</td>\n",
       "      <td>Q7L5N1</td>\n",
       "    </tr>\n",
       "    <tr>\n",
       "      <th>2</th>\n",
       "      <td>MAAAAAAAAAVGVRLRDCCSRGAVLLLFFSLSPRPPAAAAWLLGLR...</td>\n",
       "      <td>Q9NRU3</td>\n",
       "    </tr>\n",
       "  </tbody>\n",
       "</table>\n",
       "</div>"
      ],
      "text/plain": [
       "                                         proSequence    ID_s\n",
       "0  MAAAAAAAAAAGAAGGRGSGPGRRRHLVPGAGGEAGEGAPGGAGDY...  Q86U42\n",
       "1  MAAAAAAAAATNGTGGSSGMEVDAAVVPSVMACGVTGSVSVALHPL...  Q7L5N1\n",
       "2  MAAAAAAAAAVGVRLRDCCSRGAVLLLFFSLSPRPPAAAAWLLGLR...  Q9NRU3"
      ]
     },
     "execution_count": 39,
     "metadata": {},
     "output_type": "execute_result"
    }
   ],
   "source": [
    "merged = merged[['proSequence', 'ID_s']].copy()\n",
    "merged.head(3)"
   ]
  },
  {
   "cell_type": "code",
   "execution_count": 41,
   "metadata": {},
   "outputs": [
    {
     "data": {
      "text/html": [
       "<div>\n",
       "<style scoped>\n",
       "    .dataframe tbody tr th:only-of-type {\n",
       "        vertical-align: middle;\n",
       "    }\n",
       "\n",
       "    .dataframe tbody tr th {\n",
       "        vertical-align: top;\n",
       "    }\n",
       "\n",
       "    .dataframe thead th {\n",
       "        text-align: right;\n",
       "    }\n",
       "</style>\n",
       "<table border=\"1\" class=\"dataframe\">\n",
       "  <thead>\n",
       "    <tr style=\"text-align: right;\">\n",
       "      <th></th>\n",
       "      <th>ID_s</th>\n",
       "      <th>proSequence</th>\n",
       "    </tr>\n",
       "  </thead>\n",
       "  <tbody>\n",
       "    <tr>\n",
       "      <th>0</th>\n",
       "      <td>Q86U42</td>\n",
       "      <td>MAAAAAAAAAAGAAGGRGSGPGRRRHLVPGAGGEAGEGAPGGAGDY...</td>\n",
       "    </tr>\n",
       "    <tr>\n",
       "      <th>1</th>\n",
       "      <td>Q7L5N1</td>\n",
       "      <td>MAAAAAAAAATNGTGGSSGMEVDAAVVPSVMACGVTGSVSVALHPL...</td>\n",
       "    </tr>\n",
       "    <tr>\n",
       "      <th>2</th>\n",
       "      <td>Q9NRU3</td>\n",
       "      <td>MAAAAAAAAAVGVRLRDCCSRGAVLLLFFSLSPRPPAAAAWLLGLR...</td>\n",
       "    </tr>\n",
       "  </tbody>\n",
       "</table>\n",
       "</div>"
      ],
      "text/plain": [
       "     ID_s                                        proSequence\n",
       "0  Q86U42  MAAAAAAAAAAGAAGGRGSGPGRRRHLVPGAGGEAGEGAPGGAGDY...\n",
       "1  Q7L5N1  MAAAAAAAAATNGTGGSSGMEVDAAVVPSVMACGVTGSVSVALHPL...\n",
       "2  Q9NRU3  MAAAAAAAAAVGVRLRDCCSRGAVLLLFFSLSPRPPAAAAWLLGLR..."
      ]
     },
     "execution_count": 41,
     "metadata": {},
     "output_type": "execute_result"
    }
   ],
   "source": [
    "m = merged[['ID_s','proSequence']]\n",
    "m.head(3)"
   ]
  },
  {
   "cell_type": "code",
   "execution_count": 42,
   "metadata": {},
   "outputs": [],
   "source": [
    "m.to_csv(\"UKBccds_NONredundantSequence_18400.csv\", index=False)"
   ]
  },
  {
   "cell_type": "code",
   "execution_count": 45,
   "metadata": {},
   "outputs": [],
   "source": [
    "# put into fasta format\n",
    "with open(\"UKBccds_NONredundantSequence_18400.csv\",'r') as infile:\n",
    "    csvReader = csv.reader(infile)\n",
    "    header = next(csvReader)\n",
    "    # on data line now\n",
    "\n",
    "    out = open(\"UKBcccds_NONredundantSequence.fasta\",'w+')\n",
    "\n",
    "    for row in csvReader:\n",
    "        ID = str(row[0])\n",
    "        seq = str(row[1])\n",
    "        line = \">sp|\" + ID + \"\\n\" + seq + \"\\n\"\n",
    "        out.write(line)\n",
    "    \n",
    "out.close()"
   ]
  }
 ],
 "metadata": {
  "kernelspec": {
   "display_name": "Python 3",
   "language": "python",
   "name": "python3"
  },
  "language_info": {
   "codemirror_mode": {
    "name": "ipython",
    "version": 3
   },
   "file_extension": ".py",
   "mimetype": "text/x-python",
   "name": "python",
   "nbconvert_exporter": "python",
   "pygments_lexer": "ipython3",
   "version": "3.7.1"
  }
 },
 "nbformat": 4,
 "nbformat_minor": 2
}
