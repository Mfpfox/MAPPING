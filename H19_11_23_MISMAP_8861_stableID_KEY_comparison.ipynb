{
 "cells": [
  {
   "cell_type": "markdown",
   "metadata": {},
   "source": [
    "# Sequence comparison of ENSP 8861 with shared ENSG_ENST_ENSP KEY ID\n",
    "\n",
    "## HEAT map file made for # proSequences different\n",
    "\n",
    "## accounting of 49 Uniprot canonical sequences with no identical match in any ensembl release\n",
    "\n",
    "\n",
    "\n",
    "v1 markdown = 19_09_11_Ensembl_versionIDs_IDENTITYproseq_MISMAP_SCORING.ipynb\n"
   ]
  },
  {
   "cell_type": "code",
   "execution_count": 1,
   "metadata": {},
   "outputs": [],
   "source": [
    "# packages\n",
    "import os\n",
    "import sys\n",
    "import numpy as np\n",
    "import pandas as pd\n",
    "import csv\n",
    "import argparse\n",
    "import Bio\n",
    "from Bio import SeqIO\n",
    "from ast import literal_eval # for mismap_score func\n",
    "from statistics import mean\n",
    "import jellyfish\n",
    "import textdistance"
   ]
  },
  {
   "cell_type": "code",
   "execution_count": 2,
   "metadata": {},
   "outputs": [
    {
     "data": {
      "text/html": [
       "<style>.container {width:90% !important;}</style>"
      ],
      "text/plain": [
       "<IPython.core.display.HTML object>"
      ]
     },
     "metadata": {},
     "output_type": "display_data"
    }
   ],
   "source": [
    "from IPython.display import display, HTML\n",
    "pd.set_option('display.max_columns', None)\n",
    "pd.options.display.max_seq_items = 2000\n",
    "display(HTML(\"<style>.container {width:90% !important;}</style>\"))\n",
    "sys.path.append(\"/Users/mariapalafox/Desktop/Toolbox\")\n",
    "from all_funx import *"
   ]
  },
  {
   "cell_type": "code",
   "execution_count": 5,
   "metadata": {},
   "outputs": [],
   "source": [
    "os.chdir(\"/Users/mariapalafox/Box Sync/CODE_DATA/dir_MAPpaper/TSV_UNIPROT_xref/MULTIMAPPING_IDS/\")"
   ]
  },
  {
   "cell_type": "markdown",
   "metadata": {},
   "source": [
    "---\n",
    "---\n",
    "---"
   ]
  },
  {
   "cell_type": "markdown",
   "metadata": {},
   "source": [
    "# comparing  ENSP IDs shared between all releases, do they all have the same prosequence? does 85 have the most difference compared to other GRCh38 sequences? \n",
    "- 85 has most difference\n",
    "- all ensp IDs have at least 1 different protein sequence with another release"
   ]
  },
  {
   "cell_type": "code",
   "execution_count": 7,
   "metadata": {},
   "outputs": [],
   "source": [
    "# read in files saved above\n",
    "enspv85 = pd.read_csv(\"ENSEMBL_SEQ_v85_3953_UKBIDs.csv\")  \n",
    "enspv92 = pd.read_csv(\"ENSEMBL_SEQ_v92_3953_UKBIDs.csv\")  \n",
    "enspv94 = pd.read_csv(\"ENSEMBL_SEQ_v94_3953_UKBIDs.csv\")  \n",
    "enspv96 = pd.read_csv(\"ENSEMBL_SEQ_v96_3953_UKBIDs.csv\")  \n",
    "enspv97 = pd.read_csv(\"ENSEMBL_SEQ_v97_3953_UKBIDs.csv\")"
   ]
  },
  {
   "cell_type": "code",
   "execution_count": 40,
   "metadata": {},
   "outputs": [
    {
     "name": "stdout",
     "output_type": "stream",
     "text": [
      "(10183, 21)\n",
      "(10395, 21)\n",
      "(10612, 21)\n",
      "(10663, 21)\n",
      "(10564, 21)\n"
     ]
    }
   ],
   "source": [
    "dfs = [enspv85,enspv92,enspv94,enspv96,enspv97]\n",
    "for i in dfs: \n",
    "    print(i.shape)"
   ]
  },
  {
   "cell_type": "code",
   "execution_count": 14,
   "metadata": {},
   "outputs": [],
   "source": [
    "s85 = enspv85[enspv85['key_8861'] == True].copy()\n",
    "s92 = enspv92[enspv92['key_8861'] == True].copy()\n",
    "s94 = enspv94[enspv94['key_8861'] == True].copy()\n",
    "s96 = enspv96[enspv96['key_8861'] == True].copy()\n",
    "s97 = enspv97[enspv97['key_8861'] == True].copy()"
   ]
  },
  {
   "cell_type": "code",
   "execution_count": 19,
   "metadata": {},
   "outputs": [],
   "source": [
    "outdf = [s85, s92, s94, s96, s97]\n",
    "for i in outdf: \n",
    "    #dropUnnamed(i)\n",
    "    i.reset_index(inplace=True,drop=True)"
   ]
  },
  {
   "cell_type": "code",
   "execution_count": 26,
   "metadata": {},
   "outputs": [
    {
     "data": {
      "text/html": [
       "<div>\n",
       "<style scoped>\n",
       "    .dataframe tbody tr th:only-of-type {\n",
       "        vertical-align: middle;\n",
       "    }\n",
       "\n",
       "    .dataframe tbody tr th {\n",
       "        vertical-align: top;\n",
       "    }\n",
       "\n",
       "    .dataframe thead th {\n",
       "        text-align: right;\n",
       "    }\n",
       "</style>\n",
       "<table border=\"1\" class=\"dataframe\">\n",
       "  <thead>\n",
       "    <tr style=\"text-align: right;\">\n",
       "      <th></th>\n",
       "      <th>ENSPv</th>\n",
       "      <th>ENSP</th>\n",
       "      <th>ENSTv</th>\n",
       "      <th>ENST</th>\n",
       "      <th>ENSGv</th>\n",
       "      <th>ENSG</th>\n",
       "      <th>Length</th>\n",
       "      <th>proSequence</th>\n",
       "      <th>stableID_key</th>\n",
       "      <th>ID</th>\n",
       "      <th>pro_ver</th>\n",
       "      <th>tx_ver</th>\n",
       "      <th>gen_ver</th>\n",
       "      <th>identical_2UKBseq</th>\n",
       "      <th>Length_UKB</th>\n",
       "      <th>len_ensp_minus_ukb</th>\n",
       "      <th>hamming_distance</th>\n",
       "      <th>hamming_normalized_dist</th>\n",
       "      <th>levenshtein_distance</th>\n",
       "      <th>levenshtein_normalized_dist</th>\n",
       "      <th>key_8861</th>\n",
       "    </tr>\n",
       "  </thead>\n",
       "  <tbody>\n",
       "    <tr>\n",
       "      <th>0</th>\n",
       "      <td>ENSP00000000233.5</td>\n",
       "      <td>ENSP00000000233</td>\n",
       "      <td>ENST00000000233.5</td>\n",
       "      <td>ENST00000000233</td>\n",
       "      <td>ENSG00000004059.6</td>\n",
       "      <td>ENSG00000004059</td>\n",
       "      <td>180</td>\n",
       "      <td>MGLTVSALFSRIFGKKQMRILMVGLDAAGKTTILYKLKLGEIVTTI...</td>\n",
       "      <td>ENSG00000004059_ENST00000000233_ENSP00000000233</td>\n",
       "      <td>P84085</td>\n",
       "      <td>5</td>\n",
       "      <td>5</td>\n",
       "      <td>6</td>\n",
       "      <td>True</td>\n",
       "      <td>180</td>\n",
       "      <td>0</td>\n",
       "      <td>0.0</td>\n",
       "      <td>0.0</td>\n",
       "      <td>0.0</td>\n",
       "      <td>0.0</td>\n",
       "      <td>True</td>\n",
       "    </tr>\n",
       "    <tr>\n",
       "      <th>1</th>\n",
       "      <td>ENSP00000001008.4</td>\n",
       "      <td>ENSP00000001008</td>\n",
       "      <td>ENST00000001008.4</td>\n",
       "      <td>ENST00000001008</td>\n",
       "      <td>ENSG00000004478.5</td>\n",
       "      <td>ENSG00000004478</td>\n",
       "      <td>459</td>\n",
       "      <td>MTAEEMKATESGAQSAPLPMEGVDISPKQDEGVLKVIKREGTGTEM...</td>\n",
       "      <td>ENSG00000004478_ENST00000001008_ENSP00000001008</td>\n",
       "      <td>Q02790</td>\n",
       "      <td>4</td>\n",
       "      <td>4</td>\n",
       "      <td>5</td>\n",
       "      <td>True</td>\n",
       "      <td>459</td>\n",
       "      <td>0</td>\n",
       "      <td>0.0</td>\n",
       "      <td>0.0</td>\n",
       "      <td>0.0</td>\n",
       "      <td>0.0</td>\n",
       "      <td>True</td>\n",
       "    </tr>\n",
       "    <tr>\n",
       "      <th>2</th>\n",
       "      <td>ENSP00000003302.4</td>\n",
       "      <td>ENSP00000003302</td>\n",
       "      <td>ENST00000003302.4</td>\n",
       "      <td>ENST00000003302</td>\n",
       "      <td>ENSG00000048028.7</td>\n",
       "      <td>ENSG00000048028</td>\n",
       "      <td>1077</td>\n",
       "      <td>MTAELQQDDAAGAADGHGSSCQMLLNQLREITGIQDPSFLHEALKA...</td>\n",
       "      <td>ENSG00000048028_ENST00000003302_ENSP00000003302</td>\n",
       "      <td>Q96RU2</td>\n",
       "      <td>4</td>\n",
       "      <td>4</td>\n",
       "      <td>7</td>\n",
       "      <td>True</td>\n",
       "      <td>1077</td>\n",
       "      <td>0</td>\n",
       "      <td>0.0</td>\n",
       "      <td>0.0</td>\n",
       "      <td>0.0</td>\n",
       "      <td>0.0</td>\n",
       "      <td>True</td>\n",
       "    </tr>\n",
       "  </tbody>\n",
       "</table>\n",
       "</div>"
      ],
      "text/plain": [
       "               ENSPv             ENSP              ENSTv             ENST  \\\n",
       "0  ENSP00000000233.5  ENSP00000000233  ENST00000000233.5  ENST00000000233   \n",
       "1  ENSP00000001008.4  ENSP00000001008  ENST00000001008.4  ENST00000001008   \n",
       "2  ENSP00000003302.4  ENSP00000003302  ENST00000003302.4  ENST00000003302   \n",
       "\n",
       "               ENSGv             ENSG  Length  \\\n",
       "0  ENSG00000004059.6  ENSG00000004059     180   \n",
       "1  ENSG00000004478.5  ENSG00000004478     459   \n",
       "2  ENSG00000048028.7  ENSG00000048028    1077   \n",
       "\n",
       "                                         proSequence  \\\n",
       "0  MGLTVSALFSRIFGKKQMRILMVGLDAAGKTTILYKLKLGEIVTTI...   \n",
       "1  MTAEEMKATESGAQSAPLPMEGVDISPKQDEGVLKVIKREGTGTEM...   \n",
       "2  MTAELQQDDAAGAADGHGSSCQMLLNQLREITGIQDPSFLHEALKA...   \n",
       "\n",
       "                                      stableID_key      ID  pro_ver  tx_ver  \\\n",
       "0  ENSG00000004059_ENST00000000233_ENSP00000000233  P84085        5       5   \n",
       "1  ENSG00000004478_ENST00000001008_ENSP00000001008  Q02790        4       4   \n",
       "2  ENSG00000048028_ENST00000003302_ENSP00000003302  Q96RU2        4       4   \n",
       "\n",
       "   gen_ver  identical_2UKBseq  Length_UKB  len_ensp_minus_ukb  \\\n",
       "0        6               True         180                   0   \n",
       "1        5               True         459                   0   \n",
       "2        7               True        1077                   0   \n",
       "\n",
       "   hamming_distance  hamming_normalized_dist  levenshtein_distance  \\\n",
       "0               0.0                      0.0                   0.0   \n",
       "1               0.0                      0.0                   0.0   \n",
       "2               0.0                      0.0                   0.0   \n",
       "\n",
       "   levenshtein_normalized_dist  key_8861  \n",
       "0                          0.0      True  \n",
       "1                          0.0      True  \n",
       "2                          0.0      True  "
      ]
     },
     "execution_count": 26,
     "metadata": {},
     "output_type": "execute_result"
    }
   ],
   "source": [
    "s85.head(3)"
   ]
  },
  {
   "cell_type": "code",
   "execution_count": 22,
   "metadata": {},
   "outputs": [
    {
     "name": "stdout",
     "output_type": "stream",
     "text": [
      "   proSequence  Count\n",
      "0         True   8729\n",
      "1        False    132\n"
     ]
    }
   ],
   "source": [
    "test85_92 = s85.where(s85.proSequence==s92.proSequence).notna()\n",
    "checkColumnValues(test85_92,'proSequence')"
   ]
  },
  {
   "cell_type": "code",
   "execution_count": 23,
   "metadata": {},
   "outputs": [
    {
     "name": "stdout",
     "output_type": "stream",
     "text": [
      "   proSequence  Count\n",
      "0         True   8728\n",
      "1        False    133\n"
     ]
    }
   ],
   "source": [
    "test85_94 = s85.where(s85.proSequence==s94.proSequence).notna()\n",
    "checkColumnValues(test85_94,'proSequence')"
   ]
  },
  {
   "cell_type": "code",
   "execution_count": 24,
   "metadata": {},
   "outputs": [
    {
     "name": "stdout",
     "output_type": "stream",
     "text": [
      "   proSequence  Count\n",
      "0         True   8710\n",
      "1        False    151\n"
     ]
    }
   ],
   "source": [
    "test85_96 = s85.where(s85.proSequence==s96.proSequence).notna()\n",
    "checkColumnValues(test85_96,'proSequence')"
   ]
  },
  {
   "cell_type": "code",
   "execution_count": 25,
   "metadata": {},
   "outputs": [
    {
     "name": "stdout",
     "output_type": "stream",
     "text": [
      "   proSequence  Count\n",
      "0         True   8699\n",
      "1        False    162\n"
     ]
    }
   ],
   "source": [
    "test85_97 = s85.where(s85.proSequence==s97.proSequence).notna()\n",
    "checkColumnValues(test85_97,'proSequence')"
   ]
  },
  {
   "cell_type": "markdown",
   "metadata": {},
   "source": [
    "# creating dictionary from ENSP and Sequence columns in all release files\n",
    "**more robust way of testing differences**\n",
    "## all have the same ENSG_ENST_ENSP IDs - 8861"
   ]
  },
  {
   "cell_type": "code",
   "execution_count": 27,
   "metadata": {},
   "outputs": [],
   "source": [
    "dict_85 = dict(zip(s85.stableID_key, s85.proSequence))\n",
    "dict_92 = dict(zip(s92.stableID_key, s92.proSequence))\n",
    "dict_94 = dict(zip(s94.stableID_key, s94.proSequence))\n",
    "dict_96 = dict(zip(s96.stableID_key, s96.proSequence))\n",
    "dict_97 = dict(zip(s97.stableID_key, s97.proSequence))"
   ]
  },
  {
   "cell_type": "code",
   "execution_count": 35,
   "metadata": {},
   "outputs": [],
   "source": [
    "def Average(ls): \n",
    "    avg =  mean(ls) \n",
    "    finalavg = round(avg,2)\n",
    "    return finalavg\n",
    "\n",
    "def identicalSequences_inEnsembl(dfEnsp, ref_dic, newcolresult):\n",
    "    res = []\n",
    "    hamN = []\n",
    "    levN = []\n",
    "    serSeq = dfEnsp['proSequence'].copy()\n",
    "    serID = dfEnsp['stableID_key'].copy()\n",
    "    for inx, val in serSeq.items():\n",
    "        pep = str(val)\n",
    "        p = pep.strip()\n",
    "        idd = str(serID[inx])\n",
    "        # check pep to dict pep sequence\n",
    "        mypep = ref_dic[idd]\n",
    "        str(mypep)\n",
    "        #mypep = mypep.strip()\n",
    "        # identical\n",
    "        if mypep == p:\n",
    "            res.append('True')\n",
    "        # not identical to other release ENSP\n",
    "        # only does score for different sequences\n",
    "        if mypep != p: \n",
    "            res.append('False')\n",
    "            # calc. distance scores for enesembl differing sequences\n",
    "            # normalized hamming = # mismatched positions/ len of longer sequence\n",
    "            hamN.append(textdistance.hamming.normalized_distance(mypep, p))\n",
    "            # levenshtein score is edit based but not not penalized position, insertion at pos 1 is jsut 1 diff\n",
    "            levN.append(textdistance.levenshtein.normalized_distance(mypep,p))\n",
    "    \n",
    "    # add result col of seq match\n",
    "    dfEnsp.loc[:,newcolresult] = res\n",
    "    # select only False to matching seq rows\n",
    "    dfFalse = dfEnsp[dfEnsp[newcolresult] == 'False']\n",
    "    dfFALSE_list = dfFalse['ENSP'].tolist()\n",
    "    print(\"ENSP IDs that have different protein sequences btw releases: \", dfFALSE_list)\n",
    "    checkColumnValues(dfEnsp, newcolresult)\n",
    "    print(\"hamming Normalized score average of different ensp sequences: \", Average(hamN))\n",
    "    print(\"levenshtein Normalized score average of different ensp sequences: \", Average(levN))\n",
    "    print()\n",
    "    #print(\"returns False for pro seq match dataframe\")\n",
    "    return dfFalse"
   ]
  },
  {
   "cell_type": "code",
   "execution_count": 33,
   "metadata": {
    "scrolled": true
   },
   "outputs": [
    {
     "name": "stdout",
     "output_type": "stream",
     "text": [
      "ENSP IDs that have different protein sequences btw releases:  ['ENSP00000156825', 'ENSP00000216780', 'ENSP00000222224', 'ENSP00000225573', 'ENSP00000233242', 'ENSP00000250377', 'ENSP00000251157', 'ENSP00000260777', 'ENSP00000262878', 'ENSP00000262887', 'ENSP00000263036', 'ENSP00000264108', 'ENSP00000264202', 'ENSP00000264904', 'ENSP00000265447', 'ENSP00000266027', 'ENSP00000278616', 'ENSP00000279146', 'ENSP00000289473', 'ENSP00000291281', 'ENSP00000300648', 'ENSP00000313098', 'ENSP00000313420', 'ENSP00000319361', 'ENSP00000322938', 'ENSP00000324697', 'ENSP00000325677', 'ENSP00000328690', 'ENSP00000331023', 'ENSP00000336775', 'ENSP00000337598', 'ENSP00000338552', 'ENSP00000339247', 'ENSP00000341292', 'ENSP00000341730', 'ENSP00000342035', 'ENSP00000342351', 'ENSP00000345881', 'ENSP00000349486', 'ENSP00000350199', 'ENSP00000350563', 'ENSP00000350846', 'ENSP00000351159', 'ENSP00000351483', 'ENSP00000352575', 'ENSP00000353483', 'ENSP00000354907', 'ENSP00000357679', 'ENSP00000358832', 'ENSP00000359319', 'ENSP00000359510', 'ENSP00000361032', 'ENSP00000361435', 'ENSP00000362008', 'ENSP00000362914', 'ENSP00000363676', 'ENSP00000364547', 'ENSP00000365606', 'ENSP00000366756', 'ENSP00000367028', 'ENSP00000368021', 'ENSP00000368022', 'ENSP00000368027', 'ENSP00000368032', 'ENSP00000368040', 'ENSP00000368100', 'ENSP00000373222', 'ENSP00000374213', 'ENSP00000374370', 'ENSP00000376249', 'ENSP00000376250', 'ENSP00000376636', 'ENSP00000378720', 'ENSP00000379158', 'ENSP00000380242', 'ENSP00000380386', 'ENSP00000380557', 'ENSP00000382269', 'ENSP00000383076', 'ENSP00000384190', 'ENSP00000384194', 'ENSP00000384408', 'ENSP00000384654', 'ENSP00000385544', 'ENSP00000386071', 'ENSP00000387612', 'ENSP00000388058', 'ENSP00000392601', 'ENSP00000393596', 'ENSP00000393978', 'ENSP00000394888', 'ENSP00000398250', 'ENSP00000399139', 'ENSP00000399162', 'ENSP00000399532', 'ENSP00000399970', 'ENSP00000400065', 'ENSP00000400526', 'ENSP00000408464', 'ENSP00000410204', 'ENSP00000410219', 'ENSP00000410522', 'ENSP00000411719', 'ENSP00000413436', 'ENSP00000419184', 'ENSP00000426081', 'ENSP00000441119', 'ENSP00000441258', 'ENSP00000441954', 'ENSP00000442317', 'ENSP00000442360', 'ENSP00000443160', 'ENSP00000445806', 'ENSP00000446474', 'ENSP00000446525', 'ENSP00000446576', 'ENSP00000447546', 'ENSP00000447946', 'ENSP00000449380', 'ENSP00000450125', 'ENSP00000450697', 'ENSP00000458417', 'ENSP00000458815', 'ENSP00000458843', 'ENSP00000459208', 'ENSP00000459367', 'ENSP00000459391', 'ENSP00000459532', 'ENSP00000460028', 'ENSP00000461700', 'ENSP00000461884', 'ENSP00000470952']\n",
      "  proSeq_sameas85  Count\n",
      "0            True   8729\n",
      "1           False    132\n",
      "hamming Normalized score average of different ensp sequences:  0.48\n",
      "levenshtein Normalized score average of different ensp sequences:  0.13\n",
      "\n",
      "returns False for pro seq match dataframe\n",
      "ENSP IDs that have different protein sequences btw releases:  ['ENSP00000156825', 'ENSP00000216780', 'ENSP00000222224', 'ENSP00000225573', 'ENSP00000233242', 'ENSP00000250377', 'ENSP00000251157', 'ENSP00000260777', 'ENSP00000262878', 'ENSP00000262887', 'ENSP00000263036', 'ENSP00000264108', 'ENSP00000264202', 'ENSP00000264904', 'ENSP00000265447', 'ENSP00000266027', 'ENSP00000278616', 'ENSP00000279146', 'ENSP00000289473', 'ENSP00000291281', 'ENSP00000300648', 'ENSP00000313098', 'ENSP00000313420', 'ENSP00000319361', 'ENSP00000322938', 'ENSP00000324697', 'ENSP00000325677', 'ENSP00000328690', 'ENSP00000331023', 'ENSP00000336775', 'ENSP00000337598', 'ENSP00000338552', 'ENSP00000339247', 'ENSP00000341292', 'ENSP00000341730', 'ENSP00000342035', 'ENSP00000342351', 'ENSP00000345881', 'ENSP00000349486', 'ENSP00000350199', 'ENSP00000350563', 'ENSP00000350846', 'ENSP00000351159', 'ENSP00000351483', 'ENSP00000352575', 'ENSP00000353483', 'ENSP00000354907', 'ENSP00000357679', 'ENSP00000358832', 'ENSP00000359319', 'ENSP00000359510', 'ENSP00000361032', 'ENSP00000361435', 'ENSP00000362008', 'ENSP00000362914', 'ENSP00000363676', 'ENSP00000364547', 'ENSP00000365606', 'ENSP00000366756', 'ENSP00000367028', 'ENSP00000368021', 'ENSP00000368022', 'ENSP00000368027', 'ENSP00000368032', 'ENSP00000368040', 'ENSP00000368100', 'ENSP00000373222', 'ENSP00000374213', 'ENSP00000374370', 'ENSP00000376249', 'ENSP00000376250', 'ENSP00000376636', 'ENSP00000377192', 'ENSP00000378720', 'ENSP00000379158', 'ENSP00000380242', 'ENSP00000380386', 'ENSP00000380557', 'ENSP00000382269', 'ENSP00000383076', 'ENSP00000384190', 'ENSP00000384194', 'ENSP00000384408', 'ENSP00000384654', 'ENSP00000385544', 'ENSP00000386071', 'ENSP00000387612', 'ENSP00000388058', 'ENSP00000392601', 'ENSP00000393596', 'ENSP00000393978', 'ENSP00000394888', 'ENSP00000398250', 'ENSP00000399139', 'ENSP00000399162', 'ENSP00000399532', 'ENSP00000399970', 'ENSP00000400065', 'ENSP00000400526', 'ENSP00000408464', 'ENSP00000410204', 'ENSP00000410219', 'ENSP00000410522', 'ENSP00000411719', 'ENSP00000413436', 'ENSP00000419184', 'ENSP00000426081', 'ENSP00000441119', 'ENSP00000441258', 'ENSP00000441954', 'ENSP00000442317', 'ENSP00000442360', 'ENSP00000443160', 'ENSP00000445806', 'ENSP00000446474', 'ENSP00000446525', 'ENSP00000446576', 'ENSP00000447546', 'ENSP00000447946', 'ENSP00000449380', 'ENSP00000450125', 'ENSP00000450697', 'ENSP00000458417', 'ENSP00000458815', 'ENSP00000458843', 'ENSP00000459208', 'ENSP00000459367', 'ENSP00000459391', 'ENSP00000459532', 'ENSP00000460028', 'ENSP00000461700', 'ENSP00000461884', 'ENSP00000470952']\n",
      "  proSeq_sameas85  Count\n",
      "0            True   8728\n",
      "1           False    133\n",
      "hamming Normalized score average of different ensp sequences:  0.48\n",
      "levenshtein Normalized score average of different ensp sequences:  0.13\n",
      "\n",
      "returns False for pro seq match dataframe\n",
      "ENSP IDs that have different protein sequences btw releases:  ['ENSP00000156825', 'ENSP00000216780', 'ENSP00000222224', 'ENSP00000225573', 'ENSP00000228284', 'ENSP00000229854', 'ENSP00000233242', 'ENSP00000250377', 'ENSP00000251157', 'ENSP00000251527', 'ENSP00000260777', 'ENSP00000262878', 'ENSP00000262887', 'ENSP00000263036', 'ENSP00000264108', 'ENSP00000264202', 'ENSP00000264904', 'ENSP00000265447', 'ENSP00000265537', 'ENSP00000266027', 'ENSP00000278616', 'ENSP00000279146', 'ENSP00000286091', 'ENSP00000289473', 'ENSP00000291281', 'ENSP00000300648', 'ENSP00000313098', 'ENSP00000313420', 'ENSP00000319361', 'ENSP00000322938', 'ENSP00000324697', 'ENSP00000325677', 'ENSP00000328690', 'ENSP00000331023', 'ENSP00000336775', 'ENSP00000337598', 'ENSP00000338552', 'ENSP00000338806', 'ENSP00000339247', 'ENSP00000341292', 'ENSP00000341730', 'ENSP00000342035', 'ENSP00000342351', 'ENSP00000345881', 'ENSP00000347847', 'ENSP00000349486', 'ENSP00000350199', 'ENSP00000350563', 'ENSP00000350846', 'ENSP00000351159', 'ENSP00000351483', 'ENSP00000352575', 'ENSP00000353483', 'ENSP00000354907', 'ENSP00000357679', 'ENSP00000358106', 'ENSP00000358832', 'ENSP00000359319', 'ENSP00000359510', 'ENSP00000361032', 'ENSP00000361435', 'ENSP00000362008', 'ENSP00000362914', 'ENSP00000363676', 'ENSP00000364547', 'ENSP00000365606', 'ENSP00000366756', 'ENSP00000367028', 'ENSP00000368021', 'ENSP00000368022', 'ENSP00000368027', 'ENSP00000368032', 'ENSP00000368040', 'ENSP00000368100', 'ENSP00000372326', 'ENSP00000373222', 'ENSP00000374213', 'ENSP00000374370', 'ENSP00000376249', 'ENSP00000376250', 'ENSP00000376636', 'ENSP00000377192', 'ENSP00000377343', 'ENSP00000378720', 'ENSP00000379158', 'ENSP00000380242', 'ENSP00000380386', 'ENSP00000380557', 'ENSP00000382269', 'ENSP00000383076', 'ENSP00000384190', 'ENSP00000384194', 'ENSP00000384408', 'ENSP00000384654', 'ENSP00000385544', 'ENSP00000386071', 'ENSP00000387612', 'ENSP00000388058', 'ENSP00000392601', 'ENSP00000393596', 'ENSP00000393978', 'ENSP00000394888', 'ENSP00000398250', 'ENSP00000399139', 'ENSP00000399162', 'ENSP00000399532', 'ENSP00000399970', 'ENSP00000400065', 'ENSP00000400526', 'ENSP00000402425', 'ENSP00000404920', 'ENSP00000408108', 'ENSP00000408429', 'ENSP00000408464', 'ENSP00000410204', 'ENSP00000410219', 'ENSP00000410522', 'ENSP00000411719', 'ENSP00000413436', 'ENSP00000419184', 'ENSP00000422753', 'ENSP00000426081', 'ENSP00000430868', 'ENSP00000441119', 'ENSP00000441258', 'ENSP00000441954', 'ENSP00000442317', 'ENSP00000442360', 'ENSP00000443160', 'ENSP00000445806', 'ENSP00000446474', 'ENSP00000446525', 'ENSP00000446576', 'ENSP00000447546', 'ENSP00000447946', 'ENSP00000449380', 'ENSP00000450125', 'ENSP00000450560', 'ENSP00000450697', 'ENSP00000455628', 'ENSP00000458417', 'ENSP00000458815', 'ENSP00000458843', 'ENSP00000459208', 'ENSP00000459367', 'ENSP00000459391', 'ENSP00000459532', 'ENSP00000460028', 'ENSP00000461700', 'ENSP00000461884', 'ENSP00000470952']\n",
      "  proSeq_sameas85  Count\n",
      "0            True   8710\n",
      "1           False    151\n",
      "hamming Normalized score average of different ensp sequences:  0.52\n",
      "levenshtein Normalized score average of different ensp sequences:  0.15\n",
      "\n",
      "returns False for pro seq match dataframe\n"
     ]
    },
    {
     "name": "stdout",
     "output_type": "stream",
     "text": [
      "ENSP IDs that have different protein sequences btw releases:  ['ENSP00000156825', 'ENSP00000216780', 'ENSP00000222224', 'ENSP00000225573', 'ENSP00000228284', 'ENSP00000229854', 'ENSP00000233242', 'ENSP00000250377', 'ENSP00000251157', 'ENSP00000251527', 'ENSP00000256578', 'ENSP00000260777', 'ENSP00000262878', 'ENSP00000262887', 'ENSP00000263036', 'ENSP00000263741', 'ENSP00000264108', 'ENSP00000264202', 'ENSP00000264904', 'ENSP00000265447', 'ENSP00000265537', 'ENSP00000266027', 'ENSP00000278616', 'ENSP00000279146', 'ENSP00000286091', 'ENSP00000289473', 'ENSP00000291281', 'ENSP00000300648', 'ENSP00000300933', 'ENSP00000313098', 'ENSP00000313420', 'ENSP00000319361', 'ENSP00000322938', 'ENSP00000324697', 'ENSP00000325677', 'ENSP00000328690', 'ENSP00000331023', 'ENSP00000336775', 'ENSP00000337598', 'ENSP00000338552', 'ENSP00000338806', 'ENSP00000339247', 'ENSP00000340824', 'ENSP00000341292', 'ENSP00000341730', 'ENSP00000342035', 'ENSP00000342351', 'ENSP00000345230', 'ENSP00000345881', 'ENSP00000347847', 'ENSP00000349486', 'ENSP00000350199', 'ENSP00000350563', 'ENSP00000350846', 'ENSP00000351159', 'ENSP00000351483', 'ENSP00000352575', 'ENSP00000353094', 'ENSP00000353483', 'ENSP00000354907', 'ENSP00000357679', 'ENSP00000358106', 'ENSP00000358832', 'ENSP00000359319', 'ENSP00000359510', 'ENSP00000361032', 'ENSP00000361435', 'ENSP00000362008', 'ENSP00000362773', 'ENSP00000362914', 'ENSP00000363624', 'ENSP00000363676', 'ENSP00000364547', 'ENSP00000365606', 'ENSP00000366756', 'ENSP00000367028', 'ENSP00000367332', 'ENSP00000368021', 'ENSP00000368022', 'ENSP00000368027', 'ENSP00000368032', 'ENSP00000368040', 'ENSP00000368100', 'ENSP00000372326', 'ENSP00000373222', 'ENSP00000374213', 'ENSP00000374370', 'ENSP00000376249', 'ENSP00000376250', 'ENSP00000376636', 'ENSP00000377192', 'ENSP00000377343', 'ENSP00000378720', 'ENSP00000379158', 'ENSP00000380242', 'ENSP00000380386', 'ENSP00000380557', 'ENSP00000382269', 'ENSP00000383076', 'ENSP00000384190', 'ENSP00000384194', 'ENSP00000384408', 'ENSP00000384654', 'ENSP00000385544', 'ENSP00000386071', 'ENSP00000387612', 'ENSP00000388058', 'ENSP00000392601', 'ENSP00000393596', 'ENSP00000393978', 'ENSP00000394888', 'ENSP00000398250', 'ENSP00000399139', 'ENSP00000399162', 'ENSP00000399532', 'ENSP00000399970', 'ENSP00000400065', 'ENSP00000400526', 'ENSP00000402425', 'ENSP00000404920', 'ENSP00000408108', 'ENSP00000408429', 'ENSP00000408464', 'ENSP00000410204', 'ENSP00000410219', 'ENSP00000410522', 'ENSP00000411719', 'ENSP00000413436', 'ENSP00000419184', 'ENSP00000422753', 'ENSP00000426081', 'ENSP00000430868', 'ENSP00000436541', 'ENSP00000441119', 'ENSP00000441258', 'ENSP00000441954', 'ENSP00000441973', 'ENSP00000442317', 'ENSP00000442360', 'ENSP00000443160', 'ENSP00000445806', 'ENSP00000446474', 'ENSP00000446525', 'ENSP00000446576', 'ENSP00000447546', 'ENSP00000447946', 'ENSP00000449380', 'ENSP00000450125', 'ENSP00000450560', 'ENSP00000450697', 'ENSP00000455628', 'ENSP00000458417', 'ENSP00000458815', 'ENSP00000458843', 'ENSP00000459208', 'ENSP00000459367', 'ENSP00000459391', 'ENSP00000459532', 'ENSP00000460028', 'ENSP00000461700', 'ENSP00000461884', 'ENSP00000470952']\n",
      "  proSeq_sameas85  Count\n",
      "0            True   8699\n",
      "1           False    162\n",
      "hamming Normalized score average of different ensp sequences:  0.55\n",
      "levenshtein Normalized score average of different ensp sequences:  0.15\n",
      "\n",
      "returns False for pro seq match dataframe\n"
     ]
    }
   ],
   "source": [
    "result_92vs85 = identicalSequences_inEnsembl(s92, dict_85, 'proSeq_sameas85')\n",
    "result_94vs85 = identicalSequences_inEnsembl(s94, dict_85, 'proSeq_sameas85')\n",
    "result_96vs85 = identicalSequences_inEnsembl(s96, dict_85, 'proSeq_sameas85')\n",
    "result_97vs85 = identicalSequences_inEnsembl(s97, dict_85, 'proSeq_sameas85')"
   ]
  },
  {
   "cell_type": "code",
   "execution_count": 34,
   "metadata": {},
   "outputs": [
    {
     "name": "stdout",
     "output_type": "stream",
     "text": [
      "ENSP IDs that have different protein sequences btw releases:  ['ENSP00000156825', 'ENSP00000216780', 'ENSP00000222224', 'ENSP00000225573', 'ENSP00000233242', 'ENSP00000250377', 'ENSP00000251157', 'ENSP00000260777', 'ENSP00000262878', 'ENSP00000262887', 'ENSP00000263036', 'ENSP00000264108', 'ENSP00000264202', 'ENSP00000264904', 'ENSP00000265447', 'ENSP00000266027', 'ENSP00000278616', 'ENSP00000279146', 'ENSP00000289473', 'ENSP00000291281', 'ENSP00000300648', 'ENSP00000313098', 'ENSP00000313420', 'ENSP00000319361', 'ENSP00000322938', 'ENSP00000324697', 'ENSP00000325677', 'ENSP00000328690', 'ENSP00000331023', 'ENSP00000336775', 'ENSP00000337598', 'ENSP00000338552', 'ENSP00000339247', 'ENSP00000341292', 'ENSP00000341730', 'ENSP00000342035', 'ENSP00000342351', 'ENSP00000345881', 'ENSP00000349486', 'ENSP00000350199', 'ENSP00000350563', 'ENSP00000350846', 'ENSP00000351159', 'ENSP00000351483', 'ENSP00000352575', 'ENSP00000353483', 'ENSP00000354907', 'ENSP00000357679', 'ENSP00000358832', 'ENSP00000359319', 'ENSP00000359510', 'ENSP00000361032', 'ENSP00000361435', 'ENSP00000362008', 'ENSP00000362914', 'ENSP00000363676', 'ENSP00000364547', 'ENSP00000365606', 'ENSP00000366756', 'ENSP00000367028', 'ENSP00000368021', 'ENSP00000368022', 'ENSP00000368027', 'ENSP00000368032', 'ENSP00000368040', 'ENSP00000368100', 'ENSP00000373222', 'ENSP00000374213', 'ENSP00000374370', 'ENSP00000376249', 'ENSP00000376250', 'ENSP00000376636', 'ENSP00000378720', 'ENSP00000379158', 'ENSP00000380242', 'ENSP00000380386', 'ENSP00000380557', 'ENSP00000382269', 'ENSP00000383076', 'ENSP00000384190', 'ENSP00000384194', 'ENSP00000384408', 'ENSP00000384654', 'ENSP00000385544', 'ENSP00000386071', 'ENSP00000387612', 'ENSP00000388058', 'ENSP00000392601', 'ENSP00000393596', 'ENSP00000393978', 'ENSP00000394888', 'ENSP00000398250', 'ENSP00000399139', 'ENSP00000399162', 'ENSP00000399532', 'ENSP00000399970', 'ENSP00000400065', 'ENSP00000400526', 'ENSP00000408464', 'ENSP00000410204', 'ENSP00000410219', 'ENSP00000410522', 'ENSP00000411719', 'ENSP00000413436', 'ENSP00000419184', 'ENSP00000426081', 'ENSP00000441119', 'ENSP00000441258', 'ENSP00000441954', 'ENSP00000442317', 'ENSP00000442360', 'ENSP00000443160', 'ENSP00000445806', 'ENSP00000446474', 'ENSP00000446525', 'ENSP00000446576', 'ENSP00000447546', 'ENSP00000447946', 'ENSP00000449380', 'ENSP00000450125', 'ENSP00000450697', 'ENSP00000458417', 'ENSP00000458815', 'ENSP00000458843', 'ENSP00000459208', 'ENSP00000459367', 'ENSP00000459391', 'ENSP00000459532', 'ENSP00000460028', 'ENSP00000461700', 'ENSP00000461884', 'ENSP00000470952']\n",
      "  proSeq_sameas92  Count\n",
      "0            True   8729\n",
      "1           False    132\n",
      "hamming Normalized score average of different ensp sequences:  0.48\n",
      "levenshtein Normalized score average of different ensp sequences:  0.13\n",
      "\n",
      "returns False for pro seq match dataframe\n",
      "ENSP IDs that have different protein sequences btw releases:  ['ENSP00000377192']\n",
      "  proSeq_sameas92  Count\n",
      "0            True   8860\n",
      "1           False      1\n",
      "hamming Normalized score average of different ensp sequences:  0.94\n",
      "levenshtein Normalized score average of different ensp sequences:  0.06\n",
      "\n",
      "returns False for pro seq match dataframe\n",
      "ENSP IDs that have different protein sequences btw releases:  ['ENSP00000228284', 'ENSP00000229854', 'ENSP00000251527', 'ENSP00000265537', 'ENSP00000286091', 'ENSP00000338806', 'ENSP00000347847', 'ENSP00000358106', 'ENSP00000372326', 'ENSP00000377192', 'ENSP00000377343', 'ENSP00000402425', 'ENSP00000404920', 'ENSP00000408108', 'ENSP00000408429', 'ENSP00000422753', 'ENSP00000430868', 'ENSP00000450560', 'ENSP00000455628']\n",
      "  proSeq_sameas92  Count\n",
      "0            True   8842\n",
      "1           False     19\n",
      "hamming Normalized score average of different ensp sequences:  0.83\n",
      "levenshtein Normalized score average of different ensp sequences:  0.24\n",
      "\n",
      "returns False for pro seq match dataframe\n",
      "ENSP IDs that have different protein sequences btw releases:  ['ENSP00000228284', 'ENSP00000229854', 'ENSP00000251527', 'ENSP00000256578', 'ENSP00000263741', 'ENSP00000265537', 'ENSP00000286091', 'ENSP00000300933', 'ENSP00000338806', 'ENSP00000340824', 'ENSP00000345230', 'ENSP00000347847', 'ENSP00000353094', 'ENSP00000358106', 'ENSP00000362773', 'ENSP00000363624', 'ENSP00000367332', 'ENSP00000372326', 'ENSP00000377192', 'ENSP00000377343', 'ENSP00000402425', 'ENSP00000404920', 'ENSP00000408108', 'ENSP00000408429', 'ENSP00000422753', 'ENSP00000430868', 'ENSP00000436541', 'ENSP00000441973', 'ENSP00000450560', 'ENSP00000455628']\n",
      "  proSeq_sameas92  Count\n",
      "0            True   8831\n",
      "1           False     30\n",
      "hamming Normalized score average of different ensp sequences:  0.84\n",
      "levenshtein Normalized score average of different ensp sequences:  0.22\n",
      "\n",
      "returns False for pro seq match dataframe\n"
     ]
    }
   ],
   "source": [
    "result_85vs92 = identicalSequences_inEnsembl(s85, dict_92, 'proSeq_sameas92')\n",
    "result_94vs92 = identicalSequences_inEnsembl(s94, dict_92, 'proSeq_sameas92')\n",
    "result_96vs92 = identicalSequences_inEnsembl(s96, dict_92, 'proSeq_sameas92')\n",
    "result_97vs92 = identicalSequences_inEnsembl(s97, dict_92, 'proSeq_sameas92')"
   ]
  },
  {
   "cell_type": "code",
   "execution_count": 36,
   "metadata": {},
   "outputs": [
    {
     "name": "stdout",
     "output_type": "stream",
     "text": [
      "ENSP IDs that have different protein sequences btw releases:  ['ENSP00000228284', 'ENSP00000229854', 'ENSP00000251527', 'ENSP00000265537', 'ENSP00000286091', 'ENSP00000338806', 'ENSP00000347847', 'ENSP00000358106', 'ENSP00000372326', 'ENSP00000377343', 'ENSP00000402425', 'ENSP00000404920', 'ENSP00000408108', 'ENSP00000408429', 'ENSP00000422753', 'ENSP00000430868', 'ENSP00000450560', 'ENSP00000455628']\n",
      "  proSeq_sameas94  Count\n",
      "0            True   8843\n",
      "1           False     18\n",
      "hamming Normalized score average of different ensp sequences:  0.83\n",
      "levenshtein Normalized score average of different ensp sequences:  0.25\n",
      "\n",
      "ENSP IDs that have different protein sequences btw releases:  ['ENSP00000228284', 'ENSP00000229854', 'ENSP00000251527', 'ENSP00000256578', 'ENSP00000263741', 'ENSP00000265537', 'ENSP00000286091', 'ENSP00000300933', 'ENSP00000338806', 'ENSP00000340824', 'ENSP00000345230', 'ENSP00000347847', 'ENSP00000353094', 'ENSP00000358106', 'ENSP00000362773', 'ENSP00000363624', 'ENSP00000367332', 'ENSP00000372326', 'ENSP00000377343', 'ENSP00000402425', 'ENSP00000404920', 'ENSP00000408108', 'ENSP00000408429', 'ENSP00000422753', 'ENSP00000430868', 'ENSP00000436541', 'ENSP00000441973', 'ENSP00000450560', 'ENSP00000455628']\n",
      "  proSeq_sameas94  Count\n",
      "0            True   8832\n",
      "1           False     29\n",
      "hamming Normalized score average of different ensp sequences:  0.83\n",
      "levenshtein Normalized score average of different ensp sequences:  0.23\n",
      "\n"
     ]
    }
   ],
   "source": [
    "result_96vs94 = identicalSequences_inEnsembl(s96, dict_94, 'proSeq_sameas94')\n",
    "result_97vs94 = identicalSequences_inEnsembl(s97, dict_94, 'proSeq_sameas94')"
   ]
  },
  {
   "cell_type": "code",
   "execution_count": 37,
   "metadata": {},
   "outputs": [
    {
     "name": "stdout",
     "output_type": "stream",
     "text": [
      "ENSP IDs that have different protein sequences btw releases:  ['ENSP00000256578', 'ENSP00000263741', 'ENSP00000300933', 'ENSP00000340824', 'ENSP00000345230', 'ENSP00000353094', 'ENSP00000362773', 'ENSP00000363624', 'ENSP00000367332', 'ENSP00000436541', 'ENSP00000441973']\n",
      "  proSeq_sameas96  Count\n",
      "0            True   8850\n",
      "1           False     11\n",
      "hamming Normalized score average of different ensp sequences:  0.85\n",
      "levenshtein Normalized score average of different ensp sequences:  0.18\n",
      "\n",
      "ENSP IDs that have different protein sequences btw releases:  ['ENSP00000256578', 'ENSP00000263741', 'ENSP00000300933', 'ENSP00000340824', 'ENSP00000345230', 'ENSP00000353094', 'ENSP00000362773', 'ENSP00000363624', 'ENSP00000367332', 'ENSP00000436541', 'ENSP00000441973']\n",
      "  proSeq_sameas97  Count\n",
      "0            True   8850\n",
      "1           False     11\n",
      "hamming Normalized score average of different ensp sequences:  0.85\n",
      "levenshtein Normalized score average of different ensp sequences:  0.18\n",
      "\n"
     ]
    }
   ],
   "source": [
    "result_97vs96 = identicalSequences_inEnsembl(s97, dict_96, 'proSeq_sameas96')\n",
    "result_96vs97 = identicalSequences_inEnsembl(s96, dict_97, 'proSeq_sameas97')"
   ]
  },
  {
   "cell_type": "markdown",
   "metadata": {},
   "source": [
    "# all output saved to AllENSPcommon8861_proSequence_differences.txt\n",
    "    - dir_M/TSV../AllENSPcommon8861_proSequence_differences.txt"
   ]
  },
  {
   "cell_type": "markdown",
   "metadata": {},
   "source": [
    "---\n",
    "---\n",
    "---\n",
    "\n",
    "# are uniprot canonical sequences represented by at least 1 ENSP seq in each release?\n",
    "\n",
    "## save the ENSP IDs that do not have a canonical match in each release, save ENSP IDs that do not have canonical match in ALL releases"
   ]
  },
  {
   "cell_type": "code",
   "execution_count": 42,
   "metadata": {},
   "outputs": [],
   "source": [
    "# read in files saved above\n",
    "v85 = pd.read_csv(\"ENSEMBL_SEQ_v85_3953_UKBIDs.csv\")  \n",
    "v92 = pd.read_csv(\"ENSEMBL_SEQ_v92_3953_UKBIDs.csv\")  \n",
    "v94 = pd.read_csv(\"ENSEMBL_SEQ_v94_3953_UKBIDs.csv\")  \n",
    "v96 = pd.read_csv(\"ENSEMBL_SEQ_v96_3953_UKBIDs.csv\")  \n",
    "v97 = pd.read_csv(\"ENSEMBL_SEQ_v97_3953_UKBIDs.csv\")"
   ]
  },
  {
   "cell_type": "code",
   "execution_count": 44,
   "metadata": {},
   "outputs": [
    {
     "data": {
      "text/html": [
       "<div>\n",
       "<style scoped>\n",
       "    .dataframe tbody tr th:only-of-type {\n",
       "        vertical-align: middle;\n",
       "    }\n",
       "\n",
       "    .dataframe tbody tr th {\n",
       "        vertical-align: top;\n",
       "    }\n",
       "\n",
       "    .dataframe thead th {\n",
       "        text-align: right;\n",
       "    }\n",
       "</style>\n",
       "<table border=\"1\" class=\"dataframe\">\n",
       "  <thead>\n",
       "    <tr style=\"text-align: right;\">\n",
       "      <th></th>\n",
       "      <th>Unnamed: 0</th>\n",
       "      <th>ENSPv</th>\n",
       "      <th>ENSP</th>\n",
       "      <th>ENSTv</th>\n",
       "      <th>ENST</th>\n",
       "      <th>ENSGv</th>\n",
       "      <th>ENSG</th>\n",
       "      <th>Length</th>\n",
       "      <th>proSequence</th>\n",
       "      <th>stableID_key</th>\n",
       "      <th>ID</th>\n",
       "      <th>pro_ver</th>\n",
       "      <th>tx_ver</th>\n",
       "      <th>gen_ver</th>\n",
       "      <th>identical_2UKBseq</th>\n",
       "      <th>Length_UKB</th>\n",
       "      <th>len_ensp_minus_ukb</th>\n",
       "      <th>hamming_distance</th>\n",
       "      <th>hamming_normalized_dist</th>\n",
       "      <th>levenshtein_distance</th>\n",
       "      <th>levenshtein_normalized_dist</th>\n",
       "      <th>key_8861</th>\n",
       "    </tr>\n",
       "  </thead>\n",
       "  <tbody>\n",
       "    <tr>\n",
       "      <th>0</th>\n",
       "      <td>0</td>\n",
       "      <td>ENSP00000000233.5</td>\n",
       "      <td>ENSP00000000233</td>\n",
       "      <td>ENST00000000233.5</td>\n",
       "      <td>ENST00000000233</td>\n",
       "      <td>ENSG00000004059.6</td>\n",
       "      <td>ENSG00000004059</td>\n",
       "      <td>180</td>\n",
       "      <td>MGLTVSALFSRIFGKKQMRILMVGLDAAGKTTILYKLKLGEIVTTI...</td>\n",
       "      <td>ENSG00000004059_ENST00000000233_ENSP00000000233</td>\n",
       "      <td>P84085</td>\n",
       "      <td>5</td>\n",
       "      <td>5</td>\n",
       "      <td>6</td>\n",
       "      <td>True</td>\n",
       "      <td>180</td>\n",
       "      <td>0</td>\n",
       "      <td>0.0</td>\n",
       "      <td>0.0</td>\n",
       "      <td>0.0</td>\n",
       "      <td>0.0</td>\n",
       "      <td>True</td>\n",
       "    </tr>\n",
       "    <tr>\n",
       "      <th>1</th>\n",
       "      <td>1</td>\n",
       "      <td>ENSP00000001008.4</td>\n",
       "      <td>ENSP00000001008</td>\n",
       "      <td>ENST00000001008.4</td>\n",
       "      <td>ENST00000001008</td>\n",
       "      <td>ENSG00000004478.5</td>\n",
       "      <td>ENSG00000004478</td>\n",
       "      <td>459</td>\n",
       "      <td>MTAEEMKATESGAQSAPLPMEGVDISPKQDEGVLKVIKREGTGTEM...</td>\n",
       "      <td>ENSG00000004478_ENST00000001008_ENSP00000001008</td>\n",
       "      <td>Q02790</td>\n",
       "      <td>4</td>\n",
       "      <td>4</td>\n",
       "      <td>5</td>\n",
       "      <td>True</td>\n",
       "      <td>459</td>\n",
       "      <td>0</td>\n",
       "      <td>0.0</td>\n",
       "      <td>0.0</td>\n",
       "      <td>0.0</td>\n",
       "      <td>0.0</td>\n",
       "      <td>True</td>\n",
       "    </tr>\n",
       "    <tr>\n",
       "      <th>2</th>\n",
       "      <td>2</td>\n",
       "      <td>ENSP00000003302.4</td>\n",
       "      <td>ENSP00000003302</td>\n",
       "      <td>ENST00000003302.4</td>\n",
       "      <td>ENST00000003302</td>\n",
       "      <td>ENSG00000048028.7</td>\n",
       "      <td>ENSG00000048028</td>\n",
       "      <td>1077</td>\n",
       "      <td>MTAELQQDDAAGAADGHGSSCQMLLNQLREITGIQDPSFLHEALKA...</td>\n",
       "      <td>ENSG00000048028_ENST00000003302_ENSP00000003302</td>\n",
       "      <td>Q96RU2</td>\n",
       "      <td>4</td>\n",
       "      <td>4</td>\n",
       "      <td>7</td>\n",
       "      <td>True</td>\n",
       "      <td>1077</td>\n",
       "      <td>0</td>\n",
       "      <td>0.0</td>\n",
       "      <td>0.0</td>\n",
       "      <td>0.0</td>\n",
       "      <td>0.0</td>\n",
       "      <td>True</td>\n",
       "    </tr>\n",
       "  </tbody>\n",
       "</table>\n",
       "</div>"
      ],
      "text/plain": [
       "   Unnamed: 0              ENSPv             ENSP              ENSTv  \\\n",
       "0           0  ENSP00000000233.5  ENSP00000000233  ENST00000000233.5   \n",
       "1           1  ENSP00000001008.4  ENSP00000001008  ENST00000001008.4   \n",
       "2           2  ENSP00000003302.4  ENSP00000003302  ENST00000003302.4   \n",
       "\n",
       "              ENST              ENSGv             ENSG  Length  \\\n",
       "0  ENST00000000233  ENSG00000004059.6  ENSG00000004059     180   \n",
       "1  ENST00000001008  ENSG00000004478.5  ENSG00000004478     459   \n",
       "2  ENST00000003302  ENSG00000048028.7  ENSG00000048028    1077   \n",
       "\n",
       "                                         proSequence  \\\n",
       "0  MGLTVSALFSRIFGKKQMRILMVGLDAAGKTTILYKLKLGEIVTTI...   \n",
       "1  MTAEEMKATESGAQSAPLPMEGVDISPKQDEGVLKVIKREGTGTEM...   \n",
       "2  MTAELQQDDAAGAADGHGSSCQMLLNQLREITGIQDPSFLHEALKA...   \n",
       "\n",
       "                                      stableID_key      ID  pro_ver  tx_ver  \\\n",
       "0  ENSG00000004059_ENST00000000233_ENSP00000000233  P84085        5       5   \n",
       "1  ENSG00000004478_ENST00000001008_ENSP00000001008  Q02790        4       4   \n",
       "2  ENSG00000048028_ENST00000003302_ENSP00000003302  Q96RU2        4       4   \n",
       "\n",
       "   gen_ver  identical_2UKBseq  Length_UKB  len_ensp_minus_ukb  \\\n",
       "0        6               True         180                   0   \n",
       "1        5               True         459                   0   \n",
       "2        7               True        1077                   0   \n",
       "\n",
       "   hamming_distance  hamming_normalized_dist  levenshtein_distance  \\\n",
       "0               0.0                      0.0                   0.0   \n",
       "1               0.0                      0.0                   0.0   \n",
       "2               0.0                      0.0                   0.0   \n",
       "\n",
       "   levenshtein_normalized_dist  key_8861  \n",
       "0                          0.0      True  \n",
       "1                          0.0      True  \n",
       "2                          0.0      True  "
      ]
     },
     "execution_count": 44,
     "metadata": {},
     "output_type": "execute_result"
    }
   ],
   "source": [
    "v85.head(3)"
   ]
  },
  {
   "cell_type": "code",
   "execution_count": 43,
   "metadata": {},
   "outputs": [],
   "source": [
    "dflivt = [v85, v92, v94, v96, v97]\n",
    "for i in dflivt:\n",
    "    sortbycol(i, 'ENSP')"
   ]
  },
  {
   "cell_type": "code",
   "execution_count": 45,
   "metadata": {},
   "outputs": [],
   "source": [
    "v85ALL_ukbset = set(v85['ID'].tolist())\n",
    "v92ALL_ukbset = set(v92['ID'].tolist())\n",
    "v94ALL_ukbset = set(v94['ID'].tolist())\n",
    "v96ALL_ukbset = set(v96['ID'].tolist())\n",
    "v97ALL_ukbset = set(v97['ID'].tolist())"
   ]
  },
  {
   "cell_type": "code",
   "execution_count": 46,
   "metadata": {},
   "outputs": [
    {
     "name": "stdout",
     "output_type": "stream",
     "text": [
      "3953\n",
      "3953\n",
      "3953\n",
      "3953\n",
      "3953\n"
     ]
    }
   ],
   "source": [
    "print(len(v85ALL_ukbset))\n",
    "print(len(v92ALL_ukbset))\n",
    "print(len(v94ALL_ukbset))\n",
    "print(len(v96ALL_ukbset))\n",
    "print(len(v97ALL_ukbset))"
   ]
  },
  {
   "cell_type": "code",
   "execution_count": 47,
   "metadata": {},
   "outputs": [
    {
     "data": {
      "text/plain": [
       "True"
      ]
     },
     "execution_count": 47,
     "metadata": {},
     "output_type": "execute_result"
    }
   ],
   "source": [
    "v97ALL_ukbset == v85ALL_ukbset"
   ]
  },
  {
   "cell_type": "code",
   "execution_count": 48,
   "metadata": {},
   "outputs": [],
   "source": [
    "all3953 = list(v97ALL_ukbset)"
   ]
  },
  {
   "cell_type": "code",
   "execution_count": 49,
   "metadata": {},
   "outputs": [],
   "source": [
    "v85TRUE = v85[v85['identical_2UKBseq'] == True].copy()\n",
    "v92TRUE = v92[v92['identical_2UKBseq'] == True].copy()\n",
    "v94TRUE = v94[v94['identical_2UKBseq'] == True].copy()\n",
    "v96TRUE = v96[v96['identical_2UKBseq'] == True].copy()\n",
    "v97TRUE = v97[v97['identical_2UKBseq'] == True].copy()"
   ]
  },
  {
   "cell_type": "code",
   "execution_count": 50,
   "metadata": {},
   "outputs": [
    {
     "data": {
      "text/plain": [
       "Index(['Unnamed: 0', 'ENSPv', 'ENSP', 'ENSTv', 'ENST', 'ENSGv', 'ENSG',\n",
       "       'Length', 'proSequence', 'stableID_key', 'ID', 'pro_ver', 'tx_ver',\n",
       "       'gen_ver', 'identical_2UKBseq', 'Length_UKB', 'len_ensp_minus_ukb',\n",
       "       'hamming_distance', 'hamming_normalized_dist', 'levenshtein_distance',\n",
       "       'levenshtein_normalized_dist', 'key_8861'],\n",
       "      dtype='object')"
      ]
     },
     "execution_count": 50,
     "metadata": {},
     "output_type": "execute_result"
    }
   ],
   "source": [
    "v85TRUE.columns"
   ]
  },
  {
   "cell_type": "code",
   "execution_count": 51,
   "metadata": {},
   "outputs": [],
   "source": [
    "v85TRUE_ukbset = set(v85TRUE['ID'].tolist())\n",
    "v92TRUE_ukbset = set(v92TRUE['ID'].tolist())\n",
    "v94TRUE_ukbset = set(v94TRUE['ID'].tolist())\n",
    "v96TRUE_ukbset = set(v96TRUE['ID'].tolist())\n",
    "v97TRUE_ukbset = set(v97TRUE['ID'].tolist())"
   ]
  },
  {
   "cell_type": "code",
   "execution_count": 52,
   "metadata": {},
   "outputs": [
    {
     "name": "stdout",
     "output_type": "stream",
     "text": [
      "3861\n",
      "3853\n",
      "3869\n",
      "3865\n",
      "3860\n"
     ]
    }
   ],
   "source": [
    "print(len(v85TRUE_ukbset))\n",
    "print(len(v92TRUE_ukbset))\n",
    "print(len(v94TRUE_ukbset))\n",
    "print(len(v96TRUE_ukbset))\n",
    "print(len(v97TRUE_ukbset))\n",
    "v85TRUE_ukbset = list(v85TRUE_ukbset)\n",
    "v92TRUE_ukbset = list(v92TRUE_ukbset)\n",
    "v94TRUE_ukbset = list(v94TRUE_ukbset)\n",
    "v96TRUE_ukbset = list(v96TRUE_ukbset)\n",
    "v97TRUE_ukbset = list(v97TRUE_ukbset)"
   ]
  },
  {
   "cell_type": "code",
   "execution_count": 53,
   "metadata": {},
   "outputs": [
    {
     "name": "stdout",
     "output_type": "stream",
     "text": [
      "-92\n",
      "-100\n",
      "-84\n",
      "-88\n",
      "-93\n"
     ]
    }
   ],
   "source": [
    "print(len(v85TRUE_ukbset) - 3953)\n",
    "print(len(v92TRUE_ukbset) - 3953)\n",
    "print(len(v94TRUE_ukbset) - 3953)\n",
    "print(len(v96TRUE_ukbset) - 3953)\n",
    "print(len(v97TRUE_ukbset) - 3953)"
   ]
  },
  {
   "cell_type": "code",
   "execution_count": null,
   "metadata": {},
   "outputs": [],
   "source": [
    "# which uniprot IDs do not have canonical seq match from each release\n",
    "def diffList(L1, L2):\n",
    "    return list(set(L1) - set(L2))"
   ]
  },
  {
   "cell_type": "code",
   "execution_count": 54,
   "metadata": {},
   "outputs": [
    {
     "name": "stdout",
     "output_type": "stream",
     "text": [
      "different number of IDs :  92\n",
      "92\n",
      "different number of IDs :  100\n",
      "100\n",
      "different number of IDs :  84\n",
      "84\n",
      "different number of IDs :  88\n",
      "88\n",
      "different number of IDs :  93\n",
      "93\n",
      "different number of IDs :  92\n",
      "different number of IDs :  100\n",
      "different number of IDs :  84\n",
      "different number of IDs :  88\n",
      "different number of IDs :  93\n"
     ]
    }
   ],
   "source": [
    "print(len(diffList(all3953,v85TRUE_ukbset)))\n",
    "print(len(diffList(all3953,v92TRUE_ukbset)))\n",
    "print(len(diffList(all3953,v94TRUE_ukbset)))\n",
    "print(len(diffList(all3953,v96TRUE_ukbset)))\n",
    "print(len(diffList(all3953,v97TRUE_ukbset)))\n",
    "v85_nomatch = diffList(all3953,v85TRUE_ukbset)\n",
    "v92_nomatch = diffList(all3953,v92TRUE_ukbset)\n",
    "v94_nomatch = diffList(all3953,v94TRUE_ukbset)\n",
    "v96_nomatch = diffList(all3953,v96TRUE_ukbset)\n",
    "v97_nomatch = diffList(all3953,v97TRUE_ukbset)"
   ]
  },
  {
   "cell_type": "code",
   "execution_count": 55,
   "metadata": {},
   "outputs": [
    {
     "data": {
      "text/plain": [
       "49"
      ]
     },
     "execution_count": 55,
     "metadata": {},
     "output_type": "execute_result"
    }
   ],
   "source": [
    "# what uniprot IDs are not in any of the releases as 100% identical to canonical\n",
    "shared = set(v85_nomatch) & set(v92_nomatch) & set(v94_nomatch) & set(v96_nomatch) & set(v97_nomatch)\n",
    "len(shared)"
   ]
  },
  {
   "cell_type": "code",
   "execution_count": 56,
   "metadata": {},
   "outputs": [
    {
     "data": {
      "text/plain": [
       "['Q14135',\n",
       " 'Q15170',\n",
       " 'O14965',\n",
       " 'O43708',\n",
       " 'Q9BZ29',\n",
       " 'O15061',\n",
       " 'Q9BX63',\n",
       " 'Q8IY17',\n",
       " 'Q86TG7',\n",
       " 'P11532',\n",
       " 'Q8NBJ7',\n",
       " 'A6NNF4',\n",
       " 'P07686',\n",
       " 'Q9UMY4',\n",
       " 'P36639',\n",
       " 'Q8NCA5',\n",
       " 'Q6PKG0',\n",
       " 'P11586',\n",
       " 'P02765',\n",
       " 'Q99729',\n",
       " 'Q9UNH6',\n",
       " 'Q9BV68',\n",
       " 'Q68E01',\n",
       " 'O15392',\n",
       " 'Q9UM54',\n",
       " 'Q8WWI1',\n",
       " 'Q12912',\n",
       " 'Q9UNH7',\n",
       " 'Q96ME1',\n",
       " 'A0FGR8',\n",
       " 'Q13459',\n",
       " 'P18887',\n",
       " 'Q14558',\n",
       " 'P30837',\n",
       " 'Q9NRG7',\n",
       " 'Q9Y520',\n",
       " 'P53990',\n",
       " 'Q9Y679',\n",
       " 'P16278',\n",
       " 'Q8NBT2',\n",
       " 'P17927',\n",
       " 'P20839',\n",
       " 'Q9UJ41',\n",
       " 'Q03001',\n",
       " 'Q9P2N6',\n",
       " 'Q8WX93',\n",
       " 'O75400',\n",
       " 'O60645',\n",
       " 'P11182']"
      ]
     },
     "execution_count": 56,
     "metadata": {},
     "output_type": "execute_result"
    }
   ],
   "source": [
    "shared = list(shared)\n",
    "# these IDs should not be in the True files from each release at all \n",
    "shared"
   ]
  },
  {
   "cell_type": "code",
   "execution_count": 57,
   "metadata": {},
   "outputs": [],
   "source": [
    "# Checking if shared uniprot ID (not in True release set) exists in list  \n",
    "# QC\n",
    "def canonicalMatchNotFound(els, sharedls):\n",
    "    for id in sharedls:\n",
    "        ukbid = id\n",
    "        if ukbid in els:\n",
    "            print (\"Element Exists\")\n",
    "    print(\"done checking list\")"
   ]
  },
  {
   "cell_type": "code",
   "execution_count": 58,
   "metadata": {},
   "outputs": [
    {
     "name": "stdout",
     "output_type": "stream",
     "text": [
      "done checking list\n",
      "done checking list\n",
      "done checking list\n",
      "done checking list\n",
      "done checking list\n"
     ]
    }
   ],
   "source": [
    "canonicalMatchNotFound(v85TRUE_ukbset, shared)\n",
    "canonicalMatchNotFound(v92TRUE_ukbset, shared)\n",
    "canonicalMatchNotFound(v94TRUE_ukbset, shared)\n",
    "canonicalMatchNotFound(v96TRUE_ukbset, shared)\n",
    "canonicalMatchNotFound(v97TRUE_ukbset, shared)"
   ]
  },
  {
   "cell_type": "code",
   "execution_count": 59,
   "metadata": {},
   "outputs": [
    {
     "data": {
      "text/plain": [
       "['Q14135',\n",
       " 'Q15170',\n",
       " 'O14965',\n",
       " 'O43708',\n",
       " 'Q9BZ29',\n",
       " 'O15061',\n",
       " 'Q9BX63',\n",
       " 'Q8IY17',\n",
       " 'Q86TG7',\n",
       " 'P11532',\n",
       " 'Q8NBJ7',\n",
       " 'A6NNF4',\n",
       " 'P07686',\n",
       " 'Q9UMY4',\n",
       " 'P36639',\n",
       " 'Q8NCA5',\n",
       " 'Q6PKG0',\n",
       " 'P11586',\n",
       " 'P02765',\n",
       " 'Q99729',\n",
       " 'Q9UNH6',\n",
       " 'Q9BV68',\n",
       " 'Q68E01',\n",
       " 'O15392',\n",
       " 'Q9UM54',\n",
       " 'Q8WWI1',\n",
       " 'Q12912',\n",
       " 'Q9UNH7',\n",
       " 'Q96ME1',\n",
       " 'A0FGR8',\n",
       " 'Q13459',\n",
       " 'P18887',\n",
       " 'Q14558',\n",
       " 'P30837',\n",
       " 'Q9NRG7',\n",
       " 'Q9Y520',\n",
       " 'P53990',\n",
       " 'Q9Y679',\n",
       " 'P16278',\n",
       " 'Q8NBT2',\n",
       " 'P17927',\n",
       " 'P20839',\n",
       " 'Q9UJ41',\n",
       " 'Q03001',\n",
       " 'Q9P2N6',\n",
       " 'Q8WX93',\n",
       " 'O75400',\n",
       " 'O60645',\n",
       " 'P11182']"
      ]
     },
     "execution_count": 59,
     "metadata": {},
     "output_type": "execute_result"
    }
   ],
   "source": [
    "shared"
   ]
  },
  {
   "cell_type": "markdown",
   "metadata": {},
   "source": [
    "## testing 1 Uniprot ID that is 'notin97' release fasta"
   ]
  },
  {
   "cell_type": "code",
   "execution_count": 60,
   "metadata": {},
   "outputs": [
    {
     "name": "stdout",
     "output_type": "stream",
     "text": [
      "482\n"
     ]
    }
   ],
   "source": [
    "ucan = 'MAAVRMLRTWSRNAGKLICVRYFQTCGNVHVLKPNYVCFFGYPSFKYSHPHHFLKTTAALRGQVVQFKLSDIGEGIREVTVKEWYVKEGDTVSQFDSICEVQSDKASVTITSRYDGVIKKLYYNLDDIAYVGKPLVDIETEALKDSEEDVVETPAVSHDEHTHQEIKGRKTLATPAVRRLAMENNIKLSEVVGSGKDGRILKEDILNYLEKQTGAILPPSPKVEIMPPPPKPKDMTVPILVSKPPVFTGKDKTEPIKGFQKAMVKTMSAALKIPHFGYCDEIDLTELVKLREELKPIAFARGIKLSFMPFFLKAASLGLLQFPILNASVDENCQNITYKASHNIGIAMDTEQGLIVPNVKNVQICSIFDIATELNRLQKLGSVGQLSTTDLTGGTFTLSNIGSIGGTFAKPVIMPPEVAIGALGSIKAIPRFNQKGEVYKAQIMNVSWSADHRVIDGATMSRFSNLWKSYLENPAFMLLDLK'\n",
    "print(len(ucan))"
   ]
  },
  {
   "cell_type": "code",
   "execution_count": 61,
   "metadata": {},
   "outputs": [],
   "source": [
    "P11182_v97 = \"MAAVRMLRTWSRNAGKLICVRYFQTCGNVHVLKPNYVCFFGYPSFKYSHPHHFLKTTAALRGQVVQFKLSDIGEGIREVTVKEWYVKEGDTVSQFDSICEVQSDKASVTITSRYDGVIKKLYYNLDDIAYVGKPLVDIETEALKDSEEDVVETPAVSHDEHTHQEIKGRKTLATPAVRRLAMENNIKLSEVVGSGKDGRILKEDILNYLEKQTGAILPPSPKVEIMPPPPKPKDMTVPILVSKPPVFTGKDKTEPIKGFQKAMVKTMSAALKIPHFGYCDEIDLTELVKLREELKPIAFARGIKLSFMPFFLKAASLGLLQFPILNASVDENCQNITYKASHNIGIAMDTEQGLIVPNVKNVQICSIFDIATELNRLQKLGSVSQLSTTDLTGGTFTLSNIGSIGGTFAKPVIMPPEVAIGALGSIKAIPRFNQKGEVYKAQIMNVSWSADHRVIDGATMSRFSNLWKSYLENPAFMLLDLK\"\n",
    "\n",
    "P11182uniprot = \"MAAVRMLRTWSRNAGKLICVRYFQTCGNVHVLKPNYVCFFGYPSFKYSHPHHFLKTTAALRGQVVQFKLSDIGEGIREVTVKEWYVKEGDTVSQFDSICEVQSDKASVTITSRYDGVIKKLYYNLDDIAYVGKPLVDIETEALKDSEEDVVETPAVSHDEHTHQEIKGRKTLATPAVRRLAMENNIKLSEVVGSGKDGRILKEDILNYLEKQTGAILPPSPKVEIMPPPPKPKDMTVPILVSKPPVFTGKDKTEPIKGFQKAMVKTMSAALKIPHFGYCDEIDLTELVKLREELKPIAFARGIKLSFMPFFLKAASLGLLQFPILNASVDENCQNITYKASHNIGIAMDTEQGLIVPNVKNVQICSIFDIATELNRLQKLGSVGQLSTTDLTGGTFTLSNIGSIGGTFAKPVIMPPEVAIGALGSIKAIPRFNQKGEVYKAQIMNVSWSADHRVIDGATMSRFSNLWKSYLENPAFMLLDLK\""
   ]
  },
  {
   "cell_type": "code",
   "execution_count": 62,
   "metadata": {},
   "outputs": [
    {
     "data": {
      "text/plain": [
       "False"
      ]
     },
     "execution_count": 62,
     "metadata": {},
     "output_type": "execute_result"
    }
   ],
   "source": [
    "P11182_v97 == P11182uniprot"
   ]
  },
  {
   "cell_type": "code",
   "execution_count": 63,
   "metadata": {},
   "outputs": [
    {
     "name": "stdout",
     "output_type": "stream",
     "text": [
      "482\n"
     ]
    }
   ],
   "source": [
    "print(len(P11182_v97))"
   ]
  },
  {
   "cell_type": "code",
   "execution_count": 64,
   "metadata": {},
   "outputs": [
    {
     "name": "stdout",
     "output_type": "stream",
     "text": [
      "482\n"
     ]
    }
   ],
   "source": [
    "print(len(P11182uniprot))"
   ]
  },
  {
   "cell_type": "code",
   "execution_count": 65,
   "metadata": {},
   "outputs": [
    {
     "data": {
      "text/plain": [
       "['- S', '+ G']"
      ]
     },
     "execution_count": 65,
     "metadata": {},
     "output_type": "execute_result"
    }
   ],
   "source": [
    "import difflib\n",
    "output_list = [li for li in difflib.ndiff(P11182_v97, P11182uniprot) if li[0] != ' ']\n",
    "output_list"
   ]
  },
  {
   "cell_type": "markdown",
   "metadata": {},
   "source": [
    "# checking from 49 list of uniprot IDs with no canonical match in any releases"
   ]
  },
  {
   "cell_type": "code",
   "execution_count": 67,
   "metadata": {},
   "outputs": [
    {
     "data": {
      "text/html": [
       "<div>\n",
       "<style scoped>\n",
       "    .dataframe tbody tr th:only-of-type {\n",
       "        vertical-align: middle;\n",
       "    }\n",
       "\n",
       "    .dataframe tbody tr th {\n",
       "        vertical-align: top;\n",
       "    }\n",
       "\n",
       "    .dataframe thead th {\n",
       "        text-align: right;\n",
       "    }\n",
       "</style>\n",
       "<table border=\"1\" class=\"dataframe\">\n",
       "  <thead>\n",
       "    <tr style=\"text-align: right;\">\n",
       "      <th></th>\n",
       "      <th>Unnamed: 0</th>\n",
       "      <th>ENSPv</th>\n",
       "      <th>ENSP</th>\n",
       "      <th>ENSTv</th>\n",
       "      <th>ENST</th>\n",
       "      <th>ENSGv</th>\n",
       "      <th>ENSG</th>\n",
       "      <th>Length</th>\n",
       "      <th>proSequence</th>\n",
       "      <th>stableID_key</th>\n",
       "      <th>ID</th>\n",
       "      <th>pro_ver</th>\n",
       "      <th>tx_ver</th>\n",
       "      <th>gen_ver</th>\n",
       "      <th>identical_2UKBseq</th>\n",
       "      <th>Length_UKB</th>\n",
       "      <th>len_ensp_minus_ukb</th>\n",
       "      <th>hamming_distance</th>\n",
       "      <th>hamming_normalized_dist</th>\n",
       "      <th>levenshtein_distance</th>\n",
       "      <th>levenshtein_normalized_dist</th>\n",
       "      <th>key_8861</th>\n",
       "    </tr>\n",
       "  </thead>\n",
       "  <tbody>\n",
       "    <tr>\n",
       "      <th>8177</th>\n",
       "      <td>8177</td>\n",
       "      <td>ENSP00000432583.2</td>\n",
       "      <td>ENSP00000432583</td>\n",
       "      <td>ENST00000531821.6</td>\n",
       "      <td>ENST00000531821</td>\n",
       "      <td>ENSG00000213967.10</td>\n",
       "      <td>ENSG00000213967</td>\n",
       "      <td>77</td>\n",
       "      <td>MGLLTFRDVAIEFSLEEWQCLDTAQKNLYRNVMLENYRNLAFLGIA...</td>\n",
       "      <td>ENSG00000213967_ENST00000531821_ENSP00000432583</td>\n",
       "      <td>A6NNF4</td>\n",
       "      <td>2</td>\n",
       "      <td>6</td>\n",
       "      <td>10</td>\n",
       "      <td>False</td>\n",
       "      <td>738</td>\n",
       "      <td>-661</td>\n",
       "      <td>662.0</td>\n",
       "      <td>0.897019</td>\n",
       "      <td>661.0</td>\n",
       "      <td>0.895664</td>\n",
       "      <td>True</td>\n",
       "    </tr>\n",
       "    <tr>\n",
       "      <th>9476</th>\n",
       "      <td>9476</td>\n",
       "      <td>ENSP00000471516.1</td>\n",
       "      <td>ENSP00000471516</td>\n",
       "      <td>ENST00000594466.5</td>\n",
       "      <td>ENST00000594466</td>\n",
       "      <td>ENSG00000213967.10</td>\n",
       "      <td>ENSG00000213967</td>\n",
       "      <td>616</td>\n",
       "      <td>MGLLTFRDVAIEFSLEEWQCLDTAQKNLYRNVMLENYRNLAFLGIA...</td>\n",
       "      <td>ENSG00000213967_ENST00000594466_ENSP00000471516</td>\n",
       "      <td>A6NNF4</td>\n",
       "      <td>1</td>\n",
       "      <td>5</td>\n",
       "      <td>10</td>\n",
       "      <td>False</td>\n",
       "      <td>738</td>\n",
       "      <td>-122</td>\n",
       "      <td>122.0</td>\n",
       "      <td>0.165312</td>\n",
       "      <td>122.0</td>\n",
       "      <td>0.165312</td>\n",
       "      <td>False</td>\n",
       "    </tr>\n",
       "  </tbody>\n",
       "</table>\n",
       "</div>"
      ],
      "text/plain": [
       "      Unnamed: 0              ENSPv             ENSP              ENSTv  \\\n",
       "8177        8177  ENSP00000432583.2  ENSP00000432583  ENST00000531821.6   \n",
       "9476        9476  ENSP00000471516.1  ENSP00000471516  ENST00000594466.5   \n",
       "\n",
       "                 ENST               ENSGv             ENSG  Length  \\\n",
       "8177  ENST00000531821  ENSG00000213967.10  ENSG00000213967      77   \n",
       "9476  ENST00000594466  ENSG00000213967.10  ENSG00000213967     616   \n",
       "\n",
       "                                            proSequence  \\\n",
       "8177  MGLLTFRDVAIEFSLEEWQCLDTAQKNLYRNVMLENYRNLAFLGIA...   \n",
       "9476  MGLLTFRDVAIEFSLEEWQCLDTAQKNLYRNVMLENYRNLAFLGIA...   \n",
       "\n",
       "                                         stableID_key      ID  pro_ver  \\\n",
       "8177  ENSG00000213967_ENST00000531821_ENSP00000432583  A6NNF4        2   \n",
       "9476  ENSG00000213967_ENST00000594466_ENSP00000471516  A6NNF4        1   \n",
       "\n",
       "      tx_ver  gen_ver  identical_2UKBseq  Length_UKB  len_ensp_minus_ukb  \\\n",
       "8177       6       10              False         738                -661   \n",
       "9476       5       10              False         738                -122   \n",
       "\n",
       "      hamming_distance  hamming_normalized_dist  levenshtein_distance  \\\n",
       "8177             662.0                 0.897019                 661.0   \n",
       "9476             122.0                 0.165312                 122.0   \n",
       "\n",
       "      levenshtein_normalized_dist  key_8861  \n",
       "8177                     0.895664      True  \n",
       "9476                     0.165312     False  "
      ]
     },
     "execution_count": 67,
     "metadata": {},
     "output_type": "execute_result"
    }
   ],
   "source": [
    "test = 'A6NNF4'\n",
    "v97[v97['ID']== test]\n",
    "# not in 97"
   ]
  },
  {
   "cell_type": "code",
   "execution_count": 68,
   "metadata": {},
   "outputs": [
    {
     "data": {
      "text/html": [
       "<div>\n",
       "<style scoped>\n",
       "    .dataframe tbody tr th:only-of-type {\n",
       "        vertical-align: middle;\n",
       "    }\n",
       "\n",
       "    .dataframe tbody tr th {\n",
       "        vertical-align: top;\n",
       "    }\n",
       "\n",
       "    .dataframe thead th {\n",
       "        text-align: right;\n",
       "    }\n",
       "</style>\n",
       "<table border=\"1\" class=\"dataframe\">\n",
       "  <thead>\n",
       "    <tr style=\"text-align: right;\">\n",
       "      <th></th>\n",
       "      <th>Unnamed: 0</th>\n",
       "      <th>ENSPv</th>\n",
       "      <th>ENSP</th>\n",
       "      <th>ENSTv</th>\n",
       "      <th>ENST</th>\n",
       "      <th>ENSGv</th>\n",
       "      <th>ENSG</th>\n",
       "      <th>Length</th>\n",
       "      <th>proSequence</th>\n",
       "      <th>stableID_key</th>\n",
       "      <th>ID</th>\n",
       "      <th>pro_ver</th>\n",
       "      <th>tx_ver</th>\n",
       "      <th>gen_ver</th>\n",
       "      <th>identical_2UKBseq</th>\n",
       "      <th>Length_UKB</th>\n",
       "      <th>len_ensp_minus_ukb</th>\n",
       "      <th>hamming_distance</th>\n",
       "      <th>hamming_normalized_dist</th>\n",
       "      <th>levenshtein_distance</th>\n",
       "      <th>levenshtein_normalized_dist</th>\n",
       "      <th>key_8861</th>\n",
       "    </tr>\n",
       "  </thead>\n",
       "  <tbody>\n",
       "    <tr>\n",
       "      <th>8242</th>\n",
       "      <td>8242</td>\n",
       "      <td>ENSP00000432583.2</td>\n",
       "      <td>ENSP00000432583</td>\n",
       "      <td>ENST00000531821.6</td>\n",
       "      <td>ENST00000531821</td>\n",
       "      <td>ENSG00000213967.10</td>\n",
       "      <td>ENSG00000213967</td>\n",
       "      <td>77</td>\n",
       "      <td>MGLLTFRDVAIEFSLEEWQCLDTAQKNLYRNVMLENYRNLAFLGIA...</td>\n",
       "      <td>ENSG00000213967_ENST00000531821_ENSP00000432583</td>\n",
       "      <td>A6NNF4</td>\n",
       "      <td>2</td>\n",
       "      <td>6</td>\n",
       "      <td>10</td>\n",
       "      <td>False</td>\n",
       "      <td>738</td>\n",
       "      <td>-661</td>\n",
       "      <td>662.0</td>\n",
       "      <td>0.897019</td>\n",
       "      <td>661.0</td>\n",
       "      <td>0.895664</td>\n",
       "      <td>True</td>\n",
       "    </tr>\n",
       "    <tr>\n",
       "      <th>9549</th>\n",
       "      <td>9549</td>\n",
       "      <td>ENSP00000471516.1</td>\n",
       "      <td>ENSP00000471516</td>\n",
       "      <td>ENST00000594466.5</td>\n",
       "      <td>ENST00000594466</td>\n",
       "      <td>ENSG00000213967.10</td>\n",
       "      <td>ENSG00000213967</td>\n",
       "      <td>616</td>\n",
       "      <td>MGLLTFRDVAIEFSLEEWQCLDTAQKNLYRNVMLENYRNLAFLGIA...</td>\n",
       "      <td>ENSG00000213967_ENST00000594466_ENSP00000471516</td>\n",
       "      <td>A6NNF4</td>\n",
       "      <td>1</td>\n",
       "      <td>5</td>\n",
       "      <td>10</td>\n",
       "      <td>False</td>\n",
       "      <td>738</td>\n",
       "      <td>-122</td>\n",
       "      <td>122.0</td>\n",
       "      <td>0.165312</td>\n",
       "      <td>122.0</td>\n",
       "      <td>0.165312</td>\n",
       "      <td>False</td>\n",
       "    </tr>\n",
       "  </tbody>\n",
       "</table>\n",
       "</div>"
      ],
      "text/plain": [
       "      Unnamed: 0              ENSPv             ENSP              ENSTv  \\\n",
       "8242        8242  ENSP00000432583.2  ENSP00000432583  ENST00000531821.6   \n",
       "9549        9549  ENSP00000471516.1  ENSP00000471516  ENST00000594466.5   \n",
       "\n",
       "                 ENST               ENSGv             ENSG  Length  \\\n",
       "8242  ENST00000531821  ENSG00000213967.10  ENSG00000213967      77   \n",
       "9549  ENST00000594466  ENSG00000213967.10  ENSG00000213967     616   \n",
       "\n",
       "                                            proSequence  \\\n",
       "8242  MGLLTFRDVAIEFSLEEWQCLDTAQKNLYRNVMLENYRNLAFLGIA...   \n",
       "9549  MGLLTFRDVAIEFSLEEWQCLDTAQKNLYRNVMLENYRNLAFLGIA...   \n",
       "\n",
       "                                         stableID_key      ID  pro_ver  \\\n",
       "8242  ENSG00000213967_ENST00000531821_ENSP00000432583  A6NNF4        2   \n",
       "9549  ENSG00000213967_ENST00000594466_ENSP00000471516  A6NNF4        1   \n",
       "\n",
       "      tx_ver  gen_ver  identical_2UKBseq  Length_UKB  len_ensp_minus_ukb  \\\n",
       "8242       6       10              False         738                -661   \n",
       "9549       5       10              False         738                -122   \n",
       "\n",
       "      hamming_distance  hamming_normalized_dist  levenshtein_distance  \\\n",
       "8242             662.0                 0.897019                 661.0   \n",
       "9549             122.0                 0.165312                 122.0   \n",
       "\n",
       "      levenshtein_normalized_dist  key_8861  \n",
       "8242                     0.895664      True  \n",
       "9549                     0.165312     False  "
      ]
     },
     "execution_count": 68,
     "metadata": {},
     "output_type": "execute_result"
    }
   ],
   "source": [
    "v96[v96['ID']== test]\n",
    "# no identical match in 96"
   ]
  },
  {
   "cell_type": "code",
   "execution_count": 69,
   "metadata": {},
   "outputs": [
    {
     "data": {
      "text/html": [
       "<div>\n",
       "<style scoped>\n",
       "    .dataframe tbody tr th:only-of-type {\n",
       "        vertical-align: middle;\n",
       "    }\n",
       "\n",
       "    .dataframe tbody tr th {\n",
       "        vertical-align: top;\n",
       "    }\n",
       "\n",
       "    .dataframe thead th {\n",
       "        text-align: right;\n",
       "    }\n",
       "</style>\n",
       "<table border=\"1\" class=\"dataframe\">\n",
       "  <thead>\n",
       "    <tr style=\"text-align: right;\">\n",
       "      <th></th>\n",
       "      <th>Unnamed: 0</th>\n",
       "      <th>ENSPv</th>\n",
       "      <th>ENSP</th>\n",
       "      <th>ENSTv</th>\n",
       "      <th>ENST</th>\n",
       "      <th>ENSGv</th>\n",
       "      <th>ENSG</th>\n",
       "      <th>Length</th>\n",
       "      <th>proSequence</th>\n",
       "      <th>stableID_key</th>\n",
       "      <th>ID</th>\n",
       "      <th>pro_ver</th>\n",
       "      <th>tx_ver</th>\n",
       "      <th>gen_ver</th>\n",
       "      <th>identical_2UKBseq</th>\n",
       "      <th>Length_UKB</th>\n",
       "      <th>len_ensp_minus_ukb</th>\n",
       "      <th>hamming_distance</th>\n",
       "      <th>hamming_normalized_dist</th>\n",
       "      <th>levenshtein_distance</th>\n",
       "      <th>levenshtein_normalized_dist</th>\n",
       "      <th>key_8861</th>\n",
       "    </tr>\n",
       "  </thead>\n",
       "  <tbody>\n",
       "    <tr>\n",
       "      <th>8247</th>\n",
       "      <td>8247</td>\n",
       "      <td>ENSP00000432583.2</td>\n",
       "      <td>ENSP00000432583</td>\n",
       "      <td>ENST00000531821.6</td>\n",
       "      <td>ENST00000531821</td>\n",
       "      <td>ENSG00000213967.10</td>\n",
       "      <td>ENSG00000213967</td>\n",
       "      <td>77</td>\n",
       "      <td>MGLLTFRDVAIEFSLEEWQCLDTAQKNLYRNVMLENYRNLAFLGIA...</td>\n",
       "      <td>ENSG00000213967_ENST00000531821_ENSP00000432583</td>\n",
       "      <td>A6NNF4</td>\n",
       "      <td>2</td>\n",
       "      <td>6</td>\n",
       "      <td>10</td>\n",
       "      <td>False</td>\n",
       "      <td>738</td>\n",
       "      <td>-661</td>\n",
       "      <td>662.0</td>\n",
       "      <td>0.897019</td>\n",
       "      <td>661.0</td>\n",
       "      <td>0.895664</td>\n",
       "      <td>True</td>\n",
       "    </tr>\n",
       "    <tr>\n",
       "      <th>9552</th>\n",
       "      <td>9552</td>\n",
       "      <td>ENSP00000471516.1</td>\n",
       "      <td>ENSP00000471516</td>\n",
       "      <td>ENST00000594466.5</td>\n",
       "      <td>ENST00000594466</td>\n",
       "      <td>ENSG00000213967.10</td>\n",
       "      <td>ENSG00000213967</td>\n",
       "      <td>616</td>\n",
       "      <td>MGLLTFRDVAIEFSLEEWQCLDTAQKNLYRNVMLENYRNLAFLGIA...</td>\n",
       "      <td>ENSG00000213967_ENST00000594466_ENSP00000471516</td>\n",
       "      <td>A6NNF4</td>\n",
       "      <td>1</td>\n",
       "      <td>5</td>\n",
       "      <td>10</td>\n",
       "      <td>False</td>\n",
       "      <td>738</td>\n",
       "      <td>-122</td>\n",
       "      <td>122.0</td>\n",
       "      <td>0.165312</td>\n",
       "      <td>122.0</td>\n",
       "      <td>0.165312</td>\n",
       "      <td>False</td>\n",
       "    </tr>\n",
       "  </tbody>\n",
       "</table>\n",
       "</div>"
      ],
      "text/plain": [
       "      Unnamed: 0              ENSPv             ENSP              ENSTv  \\\n",
       "8247        8247  ENSP00000432583.2  ENSP00000432583  ENST00000531821.6   \n",
       "9552        9552  ENSP00000471516.1  ENSP00000471516  ENST00000594466.5   \n",
       "\n",
       "                 ENST               ENSGv             ENSG  Length  \\\n",
       "8247  ENST00000531821  ENSG00000213967.10  ENSG00000213967      77   \n",
       "9552  ENST00000594466  ENSG00000213967.10  ENSG00000213967     616   \n",
       "\n",
       "                                            proSequence  \\\n",
       "8247  MGLLTFRDVAIEFSLEEWQCLDTAQKNLYRNVMLENYRNLAFLGIA...   \n",
       "9552  MGLLTFRDVAIEFSLEEWQCLDTAQKNLYRNVMLENYRNLAFLGIA...   \n",
       "\n",
       "                                         stableID_key      ID  pro_ver  \\\n",
       "8247  ENSG00000213967_ENST00000531821_ENSP00000432583  A6NNF4        2   \n",
       "9552  ENSG00000213967_ENST00000594466_ENSP00000471516  A6NNF4        1   \n",
       "\n",
       "      tx_ver  gen_ver  identical_2UKBseq  Length_UKB  len_ensp_minus_ukb  \\\n",
       "8247       6       10              False         738                -661   \n",
       "9552       5       10              False         738                -122   \n",
       "\n",
       "      hamming_distance  hamming_normalized_dist  levenshtein_distance  \\\n",
       "8247             662.0                 0.897019                 661.0   \n",
       "9552             122.0                 0.165312                 122.0   \n",
       "\n",
       "      levenshtein_normalized_dist  key_8861  \n",
       "8247                     0.895664      True  \n",
       "9552                     0.165312     False  "
      ]
     },
     "execution_count": 69,
     "metadata": {},
     "output_type": "execute_result"
    }
   ],
   "source": [
    "v94[v94['ID']== test]"
   ]
  },
  {
   "cell_type": "code",
   "execution_count": 70,
   "metadata": {},
   "outputs": [
    {
     "data": {
      "text/html": [
       "<div>\n",
       "<style scoped>\n",
       "    .dataframe tbody tr th:only-of-type {\n",
       "        vertical-align: middle;\n",
       "    }\n",
       "\n",
       "    .dataframe tbody tr th {\n",
       "        vertical-align: top;\n",
       "    }\n",
       "\n",
       "    .dataframe thead th {\n",
       "        text-align: right;\n",
       "    }\n",
       "</style>\n",
       "<table border=\"1\" class=\"dataframe\">\n",
       "  <thead>\n",
       "    <tr style=\"text-align: right;\">\n",
       "      <th></th>\n",
       "      <th>Unnamed: 0</th>\n",
       "      <th>ENSPv</th>\n",
       "      <th>ENSP</th>\n",
       "      <th>ENSTv</th>\n",
       "      <th>ENST</th>\n",
       "      <th>ENSGv</th>\n",
       "      <th>ENSG</th>\n",
       "      <th>Length</th>\n",
       "      <th>proSequence</th>\n",
       "      <th>stableID_key</th>\n",
       "      <th>ID</th>\n",
       "      <th>pro_ver</th>\n",
       "      <th>tx_ver</th>\n",
       "      <th>gen_ver</th>\n",
       "      <th>identical_2UKBseq</th>\n",
       "      <th>Length_UKB</th>\n",
       "      <th>len_ensp_minus_ukb</th>\n",
       "      <th>hamming_distance</th>\n",
       "      <th>hamming_normalized_dist</th>\n",
       "      <th>levenshtein_distance</th>\n",
       "      <th>levenshtein_normalized_dist</th>\n",
       "      <th>key_8861</th>\n",
       "    </tr>\n",
       "  </thead>\n",
       "  <tbody>\n",
       "    <tr>\n",
       "      <th>8232</th>\n",
       "      <td>8232</td>\n",
       "      <td>ENSP00000432583.2</td>\n",
       "      <td>ENSP00000432583</td>\n",
       "      <td>ENST00000531821.6</td>\n",
       "      <td>ENST00000531821</td>\n",
       "      <td>ENSG00000213967.10</td>\n",
       "      <td>ENSG00000213967</td>\n",
       "      <td>77</td>\n",
       "      <td>MGLLTFRDVAIEFSLEEWQCLDTAQKNLYRNVMLENYRNLAFLGIA...</td>\n",
       "      <td>ENSG00000213967_ENST00000531821_ENSP00000432583</td>\n",
       "      <td>A6NNF4</td>\n",
       "      <td>2</td>\n",
       "      <td>6</td>\n",
       "      <td>10</td>\n",
       "      <td>False</td>\n",
       "      <td>738</td>\n",
       "      <td>-661</td>\n",
       "      <td>662.0</td>\n",
       "      <td>0.897019</td>\n",
       "      <td>661.0</td>\n",
       "      <td>0.895664</td>\n",
       "      <td>True</td>\n",
       "    </tr>\n",
       "    <tr>\n",
       "      <th>9528</th>\n",
       "      <td>9528</td>\n",
       "      <td>ENSP00000471516.1</td>\n",
       "      <td>ENSP00000471516</td>\n",
       "      <td>ENST00000594466.5</td>\n",
       "      <td>ENST00000594466</td>\n",
       "      <td>ENSG00000213967.10</td>\n",
       "      <td>ENSG00000213967</td>\n",
       "      <td>616</td>\n",
       "      <td>MGLLTFRDVAIEFSLEEWQCLDTAQKNLYRNVMLENYRNLAFLGIA...</td>\n",
       "      <td>ENSG00000213967_ENST00000594466_ENSP00000471516</td>\n",
       "      <td>A6NNF4</td>\n",
       "      <td>1</td>\n",
       "      <td>5</td>\n",
       "      <td>10</td>\n",
       "      <td>False</td>\n",
       "      <td>738</td>\n",
       "      <td>-122</td>\n",
       "      <td>122.0</td>\n",
       "      <td>0.165312</td>\n",
       "      <td>122.0</td>\n",
       "      <td>0.165312</td>\n",
       "      <td>False</td>\n",
       "    </tr>\n",
       "  </tbody>\n",
       "</table>\n",
       "</div>"
      ],
      "text/plain": [
       "      Unnamed: 0              ENSPv             ENSP              ENSTv  \\\n",
       "8232        8232  ENSP00000432583.2  ENSP00000432583  ENST00000531821.6   \n",
       "9528        9528  ENSP00000471516.1  ENSP00000471516  ENST00000594466.5   \n",
       "\n",
       "                 ENST               ENSGv             ENSG  Length  \\\n",
       "8232  ENST00000531821  ENSG00000213967.10  ENSG00000213967      77   \n",
       "9528  ENST00000594466  ENSG00000213967.10  ENSG00000213967     616   \n",
       "\n",
       "                                            proSequence  \\\n",
       "8232  MGLLTFRDVAIEFSLEEWQCLDTAQKNLYRNVMLENYRNLAFLGIA...   \n",
       "9528  MGLLTFRDVAIEFSLEEWQCLDTAQKNLYRNVMLENYRNLAFLGIA...   \n",
       "\n",
       "                                         stableID_key      ID  pro_ver  \\\n",
       "8232  ENSG00000213967_ENST00000531821_ENSP00000432583  A6NNF4        2   \n",
       "9528  ENSG00000213967_ENST00000594466_ENSP00000471516  A6NNF4        1   \n",
       "\n",
       "      tx_ver  gen_ver  identical_2UKBseq  Length_UKB  len_ensp_minus_ukb  \\\n",
       "8232       6       10              False         738                -661   \n",
       "9528       5       10              False         738                -122   \n",
       "\n",
       "      hamming_distance  hamming_normalized_dist  levenshtein_distance  \\\n",
       "8232             662.0                 0.897019                 661.0   \n",
       "9528             122.0                 0.165312                 122.0   \n",
       "\n",
       "      levenshtein_normalized_dist  key_8861  \n",
       "8232                     0.895664      True  \n",
       "9528                     0.165312     False  "
      ]
     },
     "execution_count": 70,
     "metadata": {},
     "output_type": "execute_result"
    }
   ],
   "source": [
    "v92[v92['ID']== test]"
   ]
  },
  {
   "cell_type": "code",
   "execution_count": 71,
   "metadata": {},
   "outputs": [
    {
     "data": {
      "text/html": [
       "<div>\n",
       "<style scoped>\n",
       "    .dataframe tbody tr th:only-of-type {\n",
       "        vertical-align: middle;\n",
       "    }\n",
       "\n",
       "    .dataframe tbody tr th {\n",
       "        vertical-align: top;\n",
       "    }\n",
       "\n",
       "    .dataframe thead th {\n",
       "        text-align: right;\n",
       "    }\n",
       "</style>\n",
       "<table border=\"1\" class=\"dataframe\">\n",
       "  <thead>\n",
       "    <tr style=\"text-align: right;\">\n",
       "      <th></th>\n",
       "      <th>Unnamed: 0</th>\n",
       "      <th>ENSPv</th>\n",
       "      <th>ENSP</th>\n",
       "      <th>ENSTv</th>\n",
       "      <th>ENST</th>\n",
       "      <th>ENSGv</th>\n",
       "      <th>ENSG</th>\n",
       "      <th>Length</th>\n",
       "      <th>proSequence</th>\n",
       "      <th>stableID_key</th>\n",
       "      <th>ID</th>\n",
       "      <th>pro_ver</th>\n",
       "      <th>tx_ver</th>\n",
       "      <th>gen_ver</th>\n",
       "      <th>identical_2UKBseq</th>\n",
       "      <th>Length_UKB</th>\n",
       "      <th>len_ensp_minus_ukb</th>\n",
       "      <th>hamming_distance</th>\n",
       "      <th>hamming_normalized_dist</th>\n",
       "      <th>levenshtein_distance</th>\n",
       "      <th>levenshtein_normalized_dist</th>\n",
       "      <th>key_8861</th>\n",
       "    </tr>\n",
       "  </thead>\n",
       "  <tbody>\n",
       "    <tr>\n",
       "      <th>2268</th>\n",
       "      <td>2268</td>\n",
       "      <td>ENSP00000317125.7</td>\n",
       "      <td>ENSP00000317125</td>\n",
       "      <td>ENST00000322487.7</td>\n",
       "      <td>ENST00000322487</td>\n",
       "      <td>ENSG00000213967.6</td>\n",
       "      <td>ENSG00000213967</td>\n",
       "      <td>738</td>\n",
       "      <td>MGLLTFRDVAIEFSLEEWQCLDTAQKNLYRNVMLENYRNLAFLGIA...</td>\n",
       "      <td>ENSG00000213967_ENST00000322487_ENSP00000317125</td>\n",
       "      <td>A6NNF4</td>\n",
       "      <td>7</td>\n",
       "      <td>7</td>\n",
       "      <td>6</td>\n",
       "      <td>False</td>\n",
       "      <td>738</td>\n",
       "      <td>0</td>\n",
       "      <td>1.0</td>\n",
       "      <td>0.001355</td>\n",
       "      <td>1.0</td>\n",
       "      <td>0.001355</td>\n",
       "      <td>False</td>\n",
       "    </tr>\n",
       "    <tr>\n",
       "      <th>8507</th>\n",
       "      <td>8507</td>\n",
       "      <td>ENSP00000432583.2</td>\n",
       "      <td>ENSP00000432583</td>\n",
       "      <td>ENST00000531821.2</td>\n",
       "      <td>ENST00000531821</td>\n",
       "      <td>ENSG00000213967.6</td>\n",
       "      <td>ENSG00000213967</td>\n",
       "      <td>77</td>\n",
       "      <td>MGLLTFRDVAIEFSLEEWQCLDTAQKNLYRNVMLENYRNLAFLGIA...</td>\n",
       "      <td>ENSG00000213967_ENST00000531821_ENSP00000432583</td>\n",
       "      <td>A6NNF4</td>\n",
       "      <td>2</td>\n",
       "      <td>2</td>\n",
       "      <td>6</td>\n",
       "      <td>False</td>\n",
       "      <td>738</td>\n",
       "      <td>-661</td>\n",
       "      <td>662.0</td>\n",
       "      <td>0.897019</td>\n",
       "      <td>661.0</td>\n",
       "      <td>0.895664</td>\n",
       "      <td>True</td>\n",
       "    </tr>\n",
       "  </tbody>\n",
       "</table>\n",
       "</div>"
      ],
      "text/plain": [
       "      Unnamed: 0              ENSPv             ENSP              ENSTv  \\\n",
       "2268        2268  ENSP00000317125.7  ENSP00000317125  ENST00000322487.7   \n",
       "8507        8507  ENSP00000432583.2  ENSP00000432583  ENST00000531821.2   \n",
       "\n",
       "                 ENST              ENSGv             ENSG  Length  \\\n",
       "2268  ENST00000322487  ENSG00000213967.6  ENSG00000213967     738   \n",
       "8507  ENST00000531821  ENSG00000213967.6  ENSG00000213967      77   \n",
       "\n",
       "                                            proSequence  \\\n",
       "2268  MGLLTFRDVAIEFSLEEWQCLDTAQKNLYRNVMLENYRNLAFLGIA...   \n",
       "8507  MGLLTFRDVAIEFSLEEWQCLDTAQKNLYRNVMLENYRNLAFLGIA...   \n",
       "\n",
       "                                         stableID_key      ID  pro_ver  \\\n",
       "2268  ENSG00000213967_ENST00000322487_ENSP00000317125  A6NNF4        7   \n",
       "8507  ENSG00000213967_ENST00000531821_ENSP00000432583  A6NNF4        2   \n",
       "\n",
       "      tx_ver  gen_ver  identical_2UKBseq  Length_UKB  len_ensp_minus_ukb  \\\n",
       "2268       7        6              False         738                   0   \n",
       "8507       2        6              False         738                -661   \n",
       "\n",
       "      hamming_distance  hamming_normalized_dist  levenshtein_distance  \\\n",
       "2268               1.0                 0.001355                   1.0   \n",
       "8507             662.0                 0.897019                 661.0   \n",
       "\n",
       "      levenshtein_normalized_dist  key_8861  \n",
       "2268                     0.001355     False  \n",
       "8507                     0.895664      True  "
      ]
     },
     "execution_count": 71,
     "metadata": {},
     "output_type": "execute_result"
    }
   ],
   "source": [
    "v85[v85['ID']== test]\n",
    "# v85 has ENSP with same length but differs by 1 substituion"
   ]
  },
  {
   "cell_type": "code",
   "execution_count": 72,
   "metadata": {},
   "outputs": [],
   "source": [
    "# for A6NNF4 same length confirming 1 substition diff\n",
    "v85seq = 'MGLLTFRDVAIEFSLEEWQCLDTAQKNLYRNVMLENYRNLAFLGIAVSKPDLIICLEKEKEPWNMKRDEMVDEPPGICPHFAQDIWPEQGVEDSFQKVILRRFEKCGHENLQLRKGCKSVDECKVHKEGYNGLNQCFTTTQGKASQCGKYLKVFYKFINLNRYKIRHTRKKPFKCKNCVKSFCMFSHKTQHKSIYTTEKSYKCKECGKTFNWSSTLTNHKKTHTEEKPYKCEEYGKAFNQSSNYTTHKVTHTGEKPYKCEECGKAFSQSSTLTIHKRIHTGEKPCKCEECGKAFSQPSALTIHKRMHIGEKPYKCEECGKAFVWSSTLTRHKRLHSGEKPYKCEECAKAFSQFGHLTTHRIIHTGEKPYKCEECGKAFIWPSTLTKHKRIHTGEKPYKCEECGKAFHRSSNLTKHKIIHTGEKPYKCEECGKAFIWSSNLTEHKKIHTREKPYKCEECSKAFSRSSALTTHKRMHTGEKPYKCEECGKAFSQSSTLTAHKIIHTGEKPYKCEECGKAFILSSTLSKHKRIHTGEKPYKCEECGKTFNQSSNLSTHKIIHTGEKPYKCEECGKAFNRSSNLSTHKIIHTGEKPYKCDECGKSFIWSSTLFKHKIIHTGEKPYKCEECGKAFNHSQILLHIRHKRMHTGEKPYKCEECGKSFNLSSTFIKHKVIHTGVKLYKCEECGKVFFWSSALTRHKKIHAGQQPYKWEKIGKAFNQSSHLTTDKITHIGEKSYKCE'\n",
    "uniprotseq = 'MGLLTFRDVAIEFSLEEWQCLDTAQKNLYRNVMLENYRNLAFLGIAVSKPDLIICLEKEKEPWNMKRDEMVDEPPGICPHFAQDIWPEQGVEDSFQKVILRRFEKCGHENLQLRKGCKSVDECKVHKEGYNGLNQCFTTTQGKASQCGKYLKVFYKFINLNRYKIRHTRKKPFKCKNCVKSFCMFSHKTQHKSIYTTEKSYKCKECGKTFNWSSTLTNHKKTHTEEKPYKCEEYGKAFNQSSNYTTHKVTHTGEKPYKCEECGKAFSQSSTLTIHKRIHTGEKPCKCEECGKAFSQPSALTIHKRMHIGEKPYKCEECGKAFVWSSTLTRHKRLHSGEKPYKCEECAKAFSQFGHLTTHRIIHTGEKPYKCEECGKAFIWPSTLTKHKRIHTGEKPYKCEECGKAFHRSSNLTKHKIIHTGEKPYKCEECGKAFIWSSNLTEHKKIHTREKPYKCEECSKAFSRSSALTTHKRMHTGEKPYKCEECGKAFSQSSTLTAHKIIHTGEKPYKCEECGKAFILSSTLSKHKRIHTGEKPYKCEECGKTFNQSSNLSTHKIIHTGEKPYKCEECGKAFNRSSNLSTHKIIHTGEKPYKCDECGKSFIWSSTLFKHKRIHTGEKPYKCEECGKAFNHSQILLHIRHKRMHTGEKPYKCEECGKSFNLSSTFIKHKVIHTGVKLYKCEECGKVFFWSSALTRHKKIHAGQQPYKWEKIGKAFNQSSHLTTDKITHIGEKSYKCE'"
   ]
  },
  {
   "cell_type": "markdown",
   "metadata": {},
   "source": [
    "```bash\n",
    "grep A6NNF4 MISMAP_SCORE_UniprotFastaCKabund_w_UniprotCYSLYSpositionsLabeled_3979.csv \n",
    "3664,A6NNF4,738,MGLLTFRDVAIEFSLEEWQCLDTAQKNLYRNVMLENYRNLAFLGIAVSKPDLIICLEKEKEPWNMKRDEMVDEPPGICPHFAQDIWPEQGVEDSFQKVILRRFEKCGHENLQLRKGCKSVDECKVHKEGYNGLNQCFTTTQGKASQCGKYLKVFYKFINLNRYKIRHTRKKPFKCKNCVKSFCMFSHKTQHKSIYTTEKSYKCKECGKTFNWSSTLTNHKKTHTEEKPYKCEEYGKAFNQSSNYTTHKVTHTGEKPYKCEECGKAFSQSSTLTIHKRIHTGEKPCKCEECGKAFSQPSALTIHKRMHIGEKPYKCEECGKAFVWSSTLTRHKRLHSGEKPYKCEECAKAFSQFGHLTTHRIIHTGEKPYKCEECGKAFIWPSTLTKHKRIHTGEKPYKCEECGKAFHRSSNLTKHKIIHTGEKPYKCEECGKAFIWSSNLTEHKKIHTREKPYKCEECSKAFSRSSALTTHKRMHTGEKPYKCEECGKAFSQSSTLTAHKIIHTGEKPYKCEECGKAFILSSTLSKHKRIHTGEKPYKCEECGKTFNQSSNLSTHKIIHTGEKPYKCEECGKAFNRSSNLSTHKIIHTGEKPYKCDECGKSFIWSSTLFKHKRIHTGEKPYKCEECGKAFNHSQILLHIRHKRMHTGEKPYKCEECGKSFNLSSTFIKHKVIHTGVKLYKCEECGKVFFWSSALTRHKKIHAGQQPYKWEKIGKAFNQSSHLTTDKITHIGEKSYKCE,0.065,0.1477,True,1,{55: 'C'}\n",
    "```"
   ]
  },
  {
   "cell_type": "code",
   "execution_count": 73,
   "metadata": {},
   "outputs": [
    {
     "data": {
      "text/plain": [
       "['- I', '+ R']"
      ]
     },
     "execution_count": 73,
     "metadata": {},
     "output_type": "execute_result"
    }
   ],
   "source": [
    "import difflib\n",
    "output_list = [li for li in difflib.ndiff(v85seq, uniprotseq) if li[0] != ' ']\n",
    "output_list\n",
    "# difference between the 2 sequences is I changed to R in uniprot seq"
   ]
  },
  {
   "cell_type": "markdown",
   "metadata": {},
   "source": [
    "# SEE 19_09_12_QC_MISMAP_RESULTS for more quality testing on sequence comparison results"
   ]
  },
  {
   "cell_type": "markdown",
   "metadata": {},
   "source": [
    "---\n",
    "---\n",
    "---"
   ]
  },
  {
   "cell_type": "markdown",
   "metadata": {},
   "source": [
    "---\n",
    "---\n",
    "---"
   ]
  }
 ],
 "metadata": {
  "kernelspec": {
   "display_name": "Python 3",
   "language": "python",
   "name": "python3"
  },
  "language_info": {
   "codemirror_mode": {
    "name": "ipython",
    "version": 3
   },
   "file_extension": ".py",
   "mimetype": "text/x-python",
   "name": "python",
   "nbconvert_exporter": "python",
   "pygments_lexer": "ipython3",
   "version": "3.7.4"
  }
 },
 "nbformat": 4,
 "nbformat_minor": 2
}
