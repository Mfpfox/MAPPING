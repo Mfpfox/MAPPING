{
 "cells": [
  {
   "cell_type": "markdown",
   "metadata": {},
   "source": [
    "# Mapping legacy cysteine and lysine CpDAA data to a reference fasta file\n",
    "\n",
    "11.05.19\n",
    "\n",
    "@mfpfox\n",
    "\n",
    "---\n",
    "\n",
    "###### track version hisotry with \n",
    "> ‘entry name tracker’ tool \n",
    "\n",
    "\n",
    "**VOCAB:**\n",
    "* **primary (citable) accession number** = stable identifiers used to cite UKB entries. each entry is assigned a unique accession number. \n",
    "    more info below <https://www.uniprot.org/help/accession_numbers>\n",
    "\n",
    "* **protein isoform name** = \n",
    "    - Given that for most genes there is no accepted, standardized nomenclature that covers all individual isoforms, our policy is to identify them using simple numbering, beginning with isoform 1. Example: Q15406\n",
    "    - When a comprehensive nomenclature does exist for all isoforms, then this will be applied. Example: P04150\n",
    "    - In either case all isoform-specific synonyms used in the literature will also be recorded, in order to facilitate the identification of specific isoform sequences by users. Example: P08235\n",
    "\n",
    "\n",
    "* **UKB stable ID == primary accession for entry**\n",
    "\n",
    "---\n",
    "\n",
    "## are all uniprot proteins unique??\n",
    "###### only detected 3979 duplicated protein sequence:\n",
    "**P86791 & P86790**\n",
    "\n",
    "<https://uswest.ensembl.org/Homo_sapiens/Transcript/ProteinSummary?db=core;g=ENSG00000122674;r=7:5898733-5926550;t=ENST00000325974>\n",
    "> P86791 (CCZ1_HUMAN) ENST00000325974﻿; ENSP00000325681﻿; ENSG00000122674\n",
    "    \n",
    "    > CCZ1 homolog, vacuolar protein trafficking and biogenesis associated [Source:HGNC Symbol;Acc:HGNC:21691]\n",
    "\n",
    "https://uswest.ensembl.org/Homo_sapiens/Transcript/ProteinSummary?db=core;g=ENSG00000146574;r=7:6794134-6826770;t=ENST00000316731>\n",
    "> P86790 (CCZ1B_HUMAN) ENST00000316731﻿; ENSP00000314544﻿; ENSG00000146574\n",
    "\n",
    "    > CCZ1 homolog B, vacuolar protein trafficking and biogenesis associated [Source:HGNC Symbol;Acc:HGNC:21717]\n",
    "\n",
    "---\n",
    "---\n",
    "---"
   ]
  },
  {
   "cell_type": "markdown",
   "metadata": {},
   "source": [
    "# PROBLEM (before obtaining copy of fasta file from 11_2012)\n",
    "\n",
    "## from Keri's Cys paper: database (release-2012_11)\n",
    "\n",
    "### only available release from 2012 is 01_2012, see UKB README from FTP site below...\n",
    "<ftp://ftp.uniprot.org/pub/databases/uniprot/previous_releases/>\n",
    "\n",
    "### also testing 01_2013 which is less time between actual data release vs 01_2012\n",
    "<ftp://ftp.uniprot.org/pub/databases/uniprot/previous_releases/release-2013_01/knowledgebase/>\n",
    "\n",
    "\n",
    "Universal Protein Resource (UniProt)\n",
    "====================================\n",
    "\n",
    "The Universal Protein Resource (UniProt), a collaboration between the European\n",
    "Bioinformatics Institute (EBI), the SIB Swiss Institute of Bioinformatics, and\n",
    "the Protein Information Resource (PIR), is comprised of three databases, each\n",
    "optimized for different uses. The UniProt Knowledgebase (UniProtKB) is the\n",
    "central access point for extensively curated protein information, including\n",
    "function, classification and cross-references. The UniProt Reference Clusters\n",
    "(UniRef) combine closely related sequences into a single record to speed up\n",
    "sequence similarity searches. The UniProt Archive (UniParc) is a comprehensive\n",
    "repository of all protein sequences, consisting only of unique identifiers and\n",
    "sequences.\n",
    "\n",
    "The UniProt Knowledgebase (UniProtKB) has been created from Swiss-Prot, TrEMBL\n",
    "and PIR-PSD. It consists of two parts, one containing fully manually annotated\n",
    "records and another one with computationally analysed records awaiting full\n",
    "manual annotation. The two sections will be referred to as the Swiss-Prot\n",
    "section of the UniProt Knowledgebase (UniProtKB/Swiss-Prot) and TrEMBL section\n",
    "of the UniProt Knowledgebase (UniProtKB/TrEMBL), respectively. PIR-PSD release\n",
    "80.0 of 31-Dec-2004 has been fully integrated into these sections. This was the\n",
    "last release of PIR-PSD.\n",
    "\n",
    "This directory, \n",
    "/uniprot/previous_releases/, \n",
    "contains previous releases of the UniProt Knowledgebase\n",
    "and of UniRef.\n",
    "**Archives of each release are kept for 2 years.\n",
    "For older releases only major and first releases of each year are kept.**\n",
    "\n",
    "The directory itself contains two subdirectories:\n",
    "\n",
    "subdirectory /knowledgebase:\n",
    "\n",
    "contains three compressed tar files,\n",
    "knowledgebaseYYYY_AA.tar.gz archiving \n",
    "   uniprot_sprot.dat, \n",
    "   uniprot_trembl.dat\n",
    "   and the /docs directory \n",
    "uniprot_sprot-onlyYYYY_AA.tar.gz archiving\n",
    "   uniprot_sprot.dat,\n",
    "   uniprot_sprot.fasta,\n",
    "   uniprot_sprot_varsplic.fasta\n",
    "   and uniprot_sprot.xml\n",
    "knowledgebase-docs-onlyYYYY_AA.tar.gz (from release 2019_02) archiving\n",
    "   the /docs directory\n",
    "and the files,\n",
    "  UniProtKB_SwissProt-relstat.html (from release 2011_01)\n",
    "  UniProtKB_TrEMBL-relstat.html (from release 2011_01)\n",
    "for releaseYYYY_AA \n",
    "\n",
    "subdirectory /uniref:\n",
    "\n",
    "contains one compressed tar file, unirefYYYY_AA.tar.gz,\n",
    "archiving 3 separate files\n",
    "   uniref50.xml,\n",
    "   uniref90.xml \n",
    "   uniref100.xml \n",
    "for releaseYYYY_AA\n",
    "\n",
    "Note:\n",
    "The current release of the UniProt Knowledgebase and UniRef is \n",
    "available at /uniprot/current_release (in flat file, XML and FASTA formats,\n",
    "as well as by taxonomic division).\n"
   ]
  },
  {
   "cell_type": "markdown",
   "metadata": {},
   "source": [
    "## 2012_01 & 2013_01 processing [fasta to csv]\n",
    "\n",
    "downloaded 11.5.19, shell notes \n",
    "```bash\n",
    "python /Users/mariapalafox/Desktop/Toolbox/processUniprotFasta.py uniprot_sprot.fasta uniprot_sprot_fasta.csv uniprot\n",
    "\n",
    "grep '_HUMAN' uniprot_sprot_fasta.csv > human_uniprot_sprot.csv\n",
    "\n",
    "# 2012\n",
    "wc -l human_uniprot_sprot.csv  # 20242 human_uniprot_sprot.csv (no header)\n",
    "\n",
    "# 2013\n",
    "wc -l human_uniprot_sprot.csv # 20232 human_uniprot_sprot.csv (no header)\n",
    "\n",
    "# added header\n",
    "cat header.csv human_uniprot_sprot.csv > human_sprot_2012_01.csv or 2013 version saved\n",
    "\n",
    "```"
   ]
  },
  {
   "cell_type": "markdown",
   "metadata": {},
   "source": [
    "## comparing to set of 4119 IDs from merged CK detected subset data:\n",
    "```python\n",
    "# importing 2012 fasta canonical seq\n",
    "ukb12 = pd.read_csv(\"human_sprot_2012_01.csv\")\n",
    "# importing 2013 fasta canonical seq\n",
    "ukb13 = pd.read_csv(\"human_sprot_2013_01.csv\")\n",
    "```\n",
    "### results of ID searching:\n",
    "#### 01_2013 has 4088/4119 (-31) \n",
    "#### 01_2012 has 4090/4119 (-29)\n",
    "#### 2018 has 4000/4119 (-119) \n",
    "\n",
    "---\n",
    "---\n",
    "---\n",
    "---\n",
    "---\n",
    "---"
   ]
  },
  {
   "cell_type": "markdown",
   "metadata": {},
   "source": [
    "# ABOUT Cravatt lab original fasta file\n",
    "[uniprot fasta format](https://www.uniprot.org/help/fasta-headers)\n",
    "\n",
    "- included '>tr' rows, for UniProtKB/TrEMBL\n",
    "    - some ID may not be found because we are only searching in 2018 SWISSPROT CCDS set\n",
    " \n",
    "| database |ID count |\n",
    "|----------|-------|\n",
    "| swissprot| 18832 |\n",
    "| trembl   | 1149  |\n",
    "| total    | 19981 |\n",
    "| tot. detected | 4119|\n",
    "| tot. in 11_2012 | 4093|\n",
    "\n",
    "## [idea!]\n",
    "\n",
    "**grab the SV=# information from 1st line of entry, which will help analysis to explain why seqeunces are different, \"Q12345 pos not found because teh SV was 1 in 2012 and 10 in 2018**\n",
    "\n",
    "**grab the PE=# info for protein existence level information**"
   ]
  },
  {
   "cell_type": "markdown",
   "metadata": {},
   "source": [
    "# accounting in MAPPING_tables.xlsx\n",
    "- directory of project: \"/Users/mariapalafox/Box Sync/CODE_DATA/dir_MAPpaper/\"\n",
    "\n",
    "## DETECTED subsets - input files: \n",
    "1. LYS_reactivity_2012_4579.csv\n",
    "2. LYS_pan_target_2012_8360.csv\n",
    "3. CYS_reactivity_2012_1541.csv\n",
    "4. CYS_pan_target_2012_6157.csv\n",
    "\n",
    "### 2018 total C and K in canonical sequence file:\n",
    "**Kpos_CCDSset.csv** == 614,333 lysines in 2018 CCDS UKB\n",
    "\n",
    "**Cpos_CCDSset.csv** == 242,940 cysteines in 2018 CCDS UKB\n",
    "\n",
    "---"
   ]
  },
  {
   "cell_type": "markdown",
   "metadata": {},
   "source": [
    "# REASON why some Nature positions dont match CCDS CYS LYS positions: \n",
    "1. entry ID has been updated\n",
    "2. entry has been merged with another \n",
    "3. sequence corresponding to entry has changed so CYS no longer in same pos\n",
    "\n",
    "**biostar related comment:** \"The reason why these numbers do not correspond to the numbers from the release notes is that there have been deletions, merges and demerges, and entries that were present in 2014_09 may no longer exist now.\"\n",
    "\n",
    "---\n",
    "---\n",
    "---"
   ]
  },
  {
   "cell_type": "code",
   "execution_count": 1,
   "metadata": {},
   "outputs": [],
   "source": [
    "import os\n",
    "import sys\n",
    "import pandas as pd\n",
    "import numpy as np"
   ]
  },
  {
   "cell_type": "code",
   "execution_count": 2,
   "metadata": {},
   "outputs": [],
   "source": [
    "sys.path.append(\"/Users/mariapalafox/Desktop/Toolbox\")\n",
    "from all_funx import *"
   ]
  },
  {
   "cell_type": "code",
   "execution_count": 3,
   "metadata": {},
   "outputs": [
    {
     "data": {
      "text/html": [
       "<style>.container {width:90% !important;}</style>"
      ],
      "text/plain": [
       "<IPython.core.display.HTML object>"
      ]
     },
     "metadata": {},
     "output_type": "display_data"
    }
   ],
   "source": [
    "from IPython.display import display\n",
    "pd.set_option('display.max_columns', None)\n",
    "pd.options.display.max_seq_items = 2000\n",
    "\n",
    "from IPython.core.display import display, HTML\n",
    "display(HTML(\"<style>.container {width:90% !important;}</style>\"))"
   ]
  },
  {
   "cell_type": "code",
   "execution_count": 4,
   "metadata": {},
   "outputs": [
    {
     "name": "stdout",
     "output_type": "stream",
     "text": [
      "['CCDS2018_all_Cpos.csv', 'CYS_pan_target_2012_6157.csv', '.DS_Store', 'LYS_reactivity_2012_4579.csv', 'sprot_11_2012_detectedIDs_4093.csv', 'CYS_reactivity_2012_1541.csv', 'pos_found_K_pan.csv', 'CravattLAB', 'pos_found_K_react.csv', 'MAPPED_CK_v1', 'LYS_pantarget_11_2012IDs_8350.csv', 'NATURE2012_UKBccds2018_files', 'POS_NOT_FOUND_DROP_THESE_IDS.csv', 'pos_found_C_pan.csv', 'CCDS2018_all_Kpos.csv', 'LYS_pan_target_2012_8360.csv', '2012_01_UKB_Swiss_release', 'CYS_reactivity_11_2012IDs_1483.csv', 'sprot_11_2012_all_Cpos.csv', 'pos_found_C_react.csv', 'Reprocesssing2012_Nature_allCYSLYSdata.xlsx', 'LYS_reactivity_11_2012IDs_4576.csv', 'UKB_CCDS_2018_06_fasta.csv', 'sprot_11_2012_all_Kpos.csv', 'CYS_pantarget_11_2012IDs_6157.csv', '2013_01_UKB_Swiss_release', 'cravattlab_11_2012.csv', 'UniqueIDs_og_data_2012_11_uniprot_sprot_4119.csv']\n"
     ]
    }
   ],
   "source": [
    "os.chdir(\"/Users/mariapalafox/Box Sync/CODE_DATA/dir_MAPpaper/CYS_LYS_2012_to2018UKBpositions/\")\n",
    "print(os.listdir())"
   ]
  },
  {
   "cell_type": "markdown",
   "metadata": {},
   "source": [
    "# [0] how many uniprot IDs total were detected in chemoproteomic experiments?"
   ]
  },
  {
   "cell_type": "code",
   "execution_count": 53,
   "metadata": {},
   "outputs": [],
   "source": [
    "# importing 2018 fasta canonical seq\n",
    "ukb18 = pd.read_csv(\"UKB_CCDS_2018_06_fasta.csv\")\n",
    "\n",
    "# importing 2018 CK positions\n",
    "#Cysnature = pd.read_csv(\"CCDS2018_all_Cpos.csv\", header=None)\n",
    "#Lysnature = pd.read_csv(\"CCDS2018_all_Kpos.csv\", header=None)\n",
    "\n",
    "# importing 2012 database searched to generate CK positions\n",
    "chempro = pd.read_csv(\"cravattlab_11_2012.csv\")\n",
    "\n",
    "# importing cys react and pan/target\n",
    "Creact = pd.read_csv(\"CYS_reactivity_2012_1541.csv\",header=None)\n",
    "Cpan = pd.read_csv(\"CYS_pan_target_2012_6157.csv\",header=None)\n",
    "\n",
    "# importing lys react and pan/target\n",
    "Kreact = pd.read_csv(\"LYS_reactivity_2012_4579.csv\",header=None)\n",
    "Kpan = pd.read_csv(\"LYS_pan_target_2012_8360.csv\",header=None)"
   ]
  },
  {
   "cell_type": "markdown",
   "metadata": {},
   "source": [
    "**merge all chemoproteomic data IDs into set of all unique IDs ever detected \"origianl ID count\"**"
   ]
  },
  {
   "cell_type": "code",
   "execution_count": 7,
   "metadata": {},
   "outputs": [
    {
     "data": {
      "text/html": [
       "<div>\n",
       "<style scoped>\n",
       "    .dataframe tbody tr th:only-of-type {\n",
       "        vertical-align: middle;\n",
       "    }\n",
       "\n",
       "    .dataframe tbody tr th {\n",
       "        vertical-align: top;\n",
       "    }\n",
       "\n",
       "    .dataframe thead th {\n",
       "        text-align: right;\n",
       "    }\n",
       "</style>\n",
       "<table border=\"1\" class=\"dataframe\">\n",
       "  <thead>\n",
       "    <tr style=\"text-align: right;\">\n",
       "      <th></th>\n",
       "      <th>0</th>\n",
       "    </tr>\n",
       "  </thead>\n",
       "  <tbody>\n",
       "    <tr>\n",
       "      <th>0</th>\n",
       "      <td>Q9Y6W6_C177</td>\n",
       "    </tr>\n",
       "    <tr>\n",
       "      <th>1</th>\n",
       "      <td>Q9Y6M9_C42</td>\n",
       "    </tr>\n",
       "    <tr>\n",
       "      <th>2</th>\n",
       "      <td>Q9Y6J0_C1197</td>\n",
       "    </tr>\n",
       "  </tbody>\n",
       "</table>\n",
       "</div>"
      ],
      "text/plain": [
       "              0\n",
       "0   Q9Y6W6_C177\n",
       "1    Q9Y6M9_C42\n",
       "2  Q9Y6J0_C1197"
      ]
     },
     "execution_count": 7,
     "metadata": {},
     "output_type": "execute_result"
    }
   ],
   "source": [
    "idCR = Creact[[0]] \n",
    "idCP = Cpan[[0]]\n",
    "idKR = Kreact[[0]] \n",
    "idKP = Kpan[[0]]\n",
    "mer2012 = pd.concat([idCR, idCP, idKR, idKP])\n",
    "mer2012.head(3)"
   ]
  },
  {
   "cell_type": "code",
   "execution_count": 8,
   "metadata": {},
   "outputs": [],
   "source": [
    "def splitID(df1, col):\n",
    "    new1 = df1[col].str.split(\"_\", n=1, expand = True)\n",
    "    df1[\"ID\"] = new1[0]\n",
    "    # return set of IDs\n",
    "    setID = set(df1.ID)\n",
    "    return setID"
   ]
  },
  {
   "cell_type": "code",
   "execution_count": 10,
   "metadata": {},
   "outputs": [
    {
     "name": "stdout",
     "output_type": "stream",
     "text": [
      "4119\n"
     ]
    }
   ],
   "source": [
    "# split merged chemo data to isolate all unique IDs\n",
    "IDsetog = splitID(mer2012, 0)\n",
    "print(len(IDsetog))"
   ]
  },
  {
   "cell_type": "code",
   "execution_count": 11,
   "metadata": {},
   "outputs": [],
   "source": [
    "IDog = list(IDsetog)\n",
    "IDog = pd.DataFrame(IDog)"
   ]
  },
  {
   "cell_type": "code",
   "execution_count": 12,
   "metadata": {},
   "outputs": [
    {
     "data": {
      "text/html": [
       "<div>\n",
       "<style scoped>\n",
       "    .dataframe tbody tr th:only-of-type {\n",
       "        vertical-align: middle;\n",
       "    }\n",
       "\n",
       "    .dataframe tbody tr th {\n",
       "        vertical-align: top;\n",
       "    }\n",
       "\n",
       "    .dataframe thead th {\n",
       "        text-align: right;\n",
       "    }\n",
       "</style>\n",
       "<table border=\"1\" class=\"dataframe\">\n",
       "  <thead>\n",
       "    <tr style=\"text-align: right;\">\n",
       "      <th></th>\n",
       "      <th>unique_IDs</th>\n",
       "    </tr>\n",
       "  </thead>\n",
       "  <tbody>\n",
       "    <tr>\n",
       "      <th>0</th>\n",
       "      <td>Q8IZ69</td>\n",
       "    </tr>\n",
       "    <tr>\n",
       "      <th>1</th>\n",
       "      <td>Q9UHQ1</td>\n",
       "    </tr>\n",
       "    <tr>\n",
       "      <th>2</th>\n",
       "      <td>Q96RL7</td>\n",
       "    </tr>\n",
       "    <tr>\n",
       "      <th>3</th>\n",
       "      <td>Q9UL12</td>\n",
       "    </tr>\n",
       "    <tr>\n",
       "      <th>4</th>\n",
       "      <td>Q9NRL3</td>\n",
       "    </tr>\n",
       "  </tbody>\n",
       "</table>\n",
       "</div>"
      ],
      "text/plain": [
       "  unique_IDs\n",
       "0     Q8IZ69\n",
       "1     Q9UHQ1\n",
       "2     Q96RL7\n",
       "3     Q9UL12\n",
       "4     Q9NRL3"
      ]
     },
     "execution_count": 12,
     "metadata": {},
     "output_type": "execute_result"
    }
   ],
   "source": [
    "IDog.columns = ['unique_IDs']\n",
    "IDog.head(5)"
   ]
  },
  {
   "cell_type": "code",
   "execution_count": 13,
   "metadata": {},
   "outputs": [],
   "source": [
    "# saving this file to label 2012 and 2018 fasta-csv files for detected ID match\n",
    "IDog.to_csv(\"UniqueIDs_og_data_2012_11_uniprot_sprot_4119.csv\", index=False)"
   ]
  },
  {
   "cell_type": "code",
   "execution_count": 14,
   "metadata": {},
   "outputs": [
    {
     "data": {
      "text/html": [
       "<div>\n",
       "<style scoped>\n",
       "    .dataframe tbody tr th:only-of-type {\n",
       "        vertical-align: middle;\n",
       "    }\n",
       "\n",
       "    .dataframe tbody tr th {\n",
       "        vertical-align: top;\n",
       "    }\n",
       "\n",
       "    .dataframe thead th {\n",
       "        text-align: right;\n",
       "    }\n",
       "</style>\n",
       "<table border=\"1\" class=\"dataframe\">\n",
       "  <thead>\n",
       "    <tr style=\"text-align: right;\">\n",
       "      <th></th>\n",
       "      <th>ID</th>\n",
       "      <th>entryName</th>\n",
       "      <th>Length</th>\n",
       "      <th>proSequence</th>\n",
       "    </tr>\n",
       "  </thead>\n",
       "  <tbody>\n",
       "    <tr>\n",
       "      <th>0</th>\n",
       "      <td>O95139</td>\n",
       "      <td>NDUB6_HUMAN</td>\n",
       "      <td>128</td>\n",
       "      <td>MTGYTPDEKLRLQQLRELRRRWLKDQELSPREPVLPPQKMGPMEKF...</td>\n",
       "    </tr>\n",
       "    <tr>\n",
       "      <th>1</th>\n",
       "      <td>O75438</td>\n",
       "      <td>NDUB1_HUMAN</td>\n",
       "      <td>58</td>\n",
       "      <td>MVNLLQIVRDHWVHVLVPMGFVIGCYLDRKSDERLTAFRNKSMLFK...</td>\n",
       "    </tr>\n",
       "    <tr>\n",
       "      <th>2</th>\n",
       "      <td>Q8N4C6</td>\n",
       "      <td>NIN_HUMAN</td>\n",
       "      <td>2090</td>\n",
       "      <td>MDEVEQDQHEARLKELFDSFDTTGTGSLGQEELTDLCHMLSLEEVA...</td>\n",
       "    </tr>\n",
       "  </tbody>\n",
       "</table>\n",
       "</div>"
      ],
      "text/plain": [
       "       ID    entryName  Length  \\\n",
       "0  O95139  NDUB6_HUMAN     128   \n",
       "1  O75438  NDUB1_HUMAN      58   \n",
       "2  Q8N4C6    NIN_HUMAN    2090   \n",
       "\n",
       "                                         proSequence  \n",
       "0  MTGYTPDEKLRLQQLRELRRRWLKDQELSPREPVLPPQKMGPMEKF...  \n",
       "1  MVNLLQIVRDHWVHVLVPMGFVIGCYLDRKSDERLTAFRNKSMLFK...  \n",
       "2  MDEVEQDQHEARLKELFDSFDTTGTGSLGQEELTDLCHMLSLEEVA...  "
      ]
     },
     "execution_count": 14,
     "metadata": {},
     "output_type": "execute_result"
    }
   ],
   "source": [
    "# 2018 FASTA\n",
    "dropUnnamed(ukb18)\n",
    "ukb18.head(3)"
   ]
  },
  {
   "cell_type": "code",
   "execution_count": 15,
   "metadata": {},
   "outputs": [
    {
     "data": {
      "text/html": [
       "<div>\n",
       "<style scoped>\n",
       "    .dataframe tbody tr th:only-of-type {\n",
       "        vertical-align: middle;\n",
       "    }\n",
       "\n",
       "    .dataframe tbody tr th {\n",
       "        vertical-align: top;\n",
       "    }\n",
       "\n",
       "    .dataframe thead th {\n",
       "        text-align: right;\n",
       "    }\n",
       "</style>\n",
       "<table border=\"1\" class=\"dataframe\">\n",
       "  <thead>\n",
       "    <tr style=\"text-align: right;\">\n",
       "      <th></th>\n",
       "      <th>ID</th>\n",
       "      <th>entryName</th>\n",
       "      <th>Length</th>\n",
       "      <th>proSequence</th>\n",
       "    </tr>\n",
       "  </thead>\n",
       "  <tbody>\n",
       "    <tr>\n",
       "      <th>0</th>\n",
       "      <td>Q8NGR1</td>\n",
       "      <td>O13A1_HUMAN</td>\n",
       "      <td>328</td>\n",
       "      <td>MKLWMESHLIVPETRPSPRMMSNQTLVTEFILQGFSEHPEYRVFLF...</td>\n",
       "    </tr>\n",
       "    <tr>\n",
       "      <th>1</th>\n",
       "      <td>Q8N6Q8</td>\n",
       "      <td>MET25_HUMAN</td>\n",
       "      <td>603</td>\n",
       "      <td>MAASCPLPVTPDLPTLRAKLQGLLQFLRDALSISNAHTVDFYTESV...</td>\n",
       "    </tr>\n",
       "    <tr>\n",
       "      <th>2</th>\n",
       "      <td>Q9UBK2</td>\n",
       "      <td>PRGC1_HUMAN</td>\n",
       "      <td>798</td>\n",
       "      <td>MAWDMCNQDSESVWSDIECAALVGEDQPLCPDLPELDLSELDVNDL...</td>\n",
       "    </tr>\n",
       "    <tr>\n",
       "      <th>3</th>\n",
       "      <td>P35998</td>\n",
       "      <td>PRS7_HUMAN</td>\n",
       "      <td>433</td>\n",
       "      <td>MPDYLGADQRKTKEDEKDDKPIRALDEGDIALLKTYGQSTYSRQIK...</td>\n",
       "    </tr>\n",
       "  </tbody>\n",
       "</table>\n",
       "</div>"
      ],
      "text/plain": [
       "       ID    entryName  Length  \\\n",
       "0  Q8NGR1  O13A1_HUMAN     328   \n",
       "1  Q8N6Q8  MET25_HUMAN     603   \n",
       "2  Q9UBK2  PRGC1_HUMAN     798   \n",
       "3  P35998   PRS7_HUMAN     433   \n",
       "\n",
       "                                         proSequence  \n",
       "0  MKLWMESHLIVPETRPSPRMMSNQTLVTEFILQGFSEHPEYRVFLF...  \n",
       "1  MAASCPLPVTPDLPTLRAKLQGLLQFLRDALSISNAHTVDFYTESV...  \n",
       "2  MAWDMCNQDSESVWSDIECAALVGEDQPLCPDLPELDLSELDVNDL...  \n",
       "3  MPDYLGADQRKTKEDEKDDKPIRALDEGDIALLKTYGQSTYSRQIK...  "
      ]
     },
     "execution_count": 15,
     "metadata": {},
     "output_type": "execute_result"
    }
   ],
   "source": [
    "chempro.head(4)"
   ]
  },
  {
   "cell_type": "code",
   "execution_count": 16,
   "metadata": {},
   "outputs": [],
   "source": [
    "# ADDING COLUMN AND DROPPING ROWS WITH NO ID MATCH\n",
    "IDlistog = IDog.unique_IDs.tolist()\n",
    "db18 = addcolumnconditionalDrop(IDlistog, ukb18, 'ID', 'detected_2012_ID') \n",
    "dbchem = addcolumnconditionalDrop(IDlistog, chempro, 'ID', 'detected_2012_ID') "
   ]
  },
  {
   "cell_type": "markdown",
   "metadata": {},
   "source": [
    "**variables: db18- database 2018 with only rows with 4119 IDs, dbchem- MS database where all IDs should be found and all positions found**"
   ]
  },
  {
   "cell_type": "code",
   "execution_count": 17,
   "metadata": {},
   "outputs": [
    {
     "name": "stdout",
     "output_type": "stream",
     "text": [
      "4119\n"
     ]
    }
   ],
   "source": [
    "print(len(IDlistog)) # 4119 original IDs in dataset"
   ]
  },
  {
   "cell_type": "code",
   "execution_count": 47,
   "metadata": {
    "scrolled": true
   },
   "outputs": [
    {
     "name": "stdout",
     "output_type": "stream",
     "text": [
      "(4093, 5)\n",
      "Index(['ID', 'entryName', 'Length', 'proSequence', 'detected_2012_ID'], dtype='object')\n",
      "ID                  0\n",
      "entryName           0\n",
      "Length              0\n",
      "proSequence         0\n",
      "detected_2012_ID    0\n",
      "dtype: int64\n",
      "(4000, 5)\n",
      "Index(['ID', 'entryName', 'Length', 'proSequence', 'detected_2012_ID'], dtype='object')\n",
      "ID                  0\n",
      "entryName           0\n",
      "Length              0\n",
      "proSequence         0\n",
      "detected_2012_ID    0\n",
      "dtype: int64\n"
     ]
    }
   ],
   "source": [
    "describeMe(dbchem)\n",
    "describeMe(db18)"
   ]
  },
  {
   "cell_type": "markdown",
   "metadata": {},
   "source": [
    "## which IDs from merged chemoproteomic data were not found in MS database file and 2018 database?"
   ]
  },
  {
   "cell_type": "code",
   "execution_count": 20,
   "metadata": {
    "scrolled": true
   },
   "outputs": [
    {
     "name": "stdout",
     "output_type": "stream",
     "text": [
      "['Q5VTE0', 'P83881', 'P68363', 'B2RPK0', 'A6NEC2', 'Q8NHW5', 'A6NNZ2', 'P04350', 'Q6P474', 'P86791', 'P26640', 'Q9BTY7', 'Q99613', 'A6NKZ1', 'Q9BQE3', 'Q5VYJ4', 'P63241', 'P58107', 'P19105', 'Q9GZM3', 'P0C860', 'P63261', 'Q71DI3', 'A6NF79', 'P0DMV9', 'Q8IYB9']\n",
      "26\n",
      "\n",
      "\n",
      "['P62861', 'Q9ULA0', 'Q5VTE0', 'P83881', 'P07988', 'Q9Y5J9', 'J3QR44', 'P0CB43', 'E7ETI0', 'I3L499', 'Q6P474', 'Q96I15', 'O94854', 'A6NKZ1', 'Q8WX92', 'H0YGG7', 'P49411', 'P30460', 'P61758', 'O43847', 'P62158', 'F5H5P2', 'Q8N5W9', 'H3BN57', 'Q5VYK3', 'P05534', 'P56556', 'P0CG05', 'Q8IXH7', 'C9J4G0', 'O00422', 'Q7Z3J2', 'Q86YG4', 'Q8WYJ6', 'H0Y2S0', 'E7EQZ4', 'I3L3Q1', 'A6NEC2', 'Q8NHW5', 'Q8NAG6', 'A6NNZ2', 'Q8IY67', 'Q9NYZ3', 'Q9Y6A9', 'Q9NVE7', 'Q6DKI1', 'A6NE09', 'Q9Y618', 'P29034', 'A6NF79', 'Q7Z460', 'P42858', 'P22061', 'E7EVK2', 'H3BQZ7', 'Q9H3P2', 'Q5VTU8', 'Q8N9T8', 'Q8NDA2', 'P57053', 'B2RPK0', 'P0CW22', 'O15027', 'Q53H96', 'Q5JZ73', 'P17405', 'Q96EY9', 'Q9H3K6', 'Q9Y4D8', 'P0DI82', 'P01892', 'P01871', 'D6RAD4', 'Q9H1Z4', 'H3BQ06', 'P16455', 'Q9NZL4', 'P55145', 'J3KR12', 'Q9H7T3', 'P62333', 'P24928', 'Q9NX70', 'O75592', 'O43504', 'Q9Y5A7', 'Q9H9E3', 'Q9Y4K4', 'Q16181', 'H7BZ11', 'A8MVX7', 'P16435', 'H3BN98', 'O60361', 'P09525', 'Q6ZNA5', 'Q6P4F2', 'Q5VYJ4', 'I3L420', 'P49454', 'A2A2Z9', 'F8VZW7', 'P49189', 'Q6NZY4', 'P08107', 'O75122', 'P30042', 'H3BVE0', 'P0C860', 'A0JLT2', 'P26440', 'B0V043', 'Q9H6E5', 'E7EVH7', 'E2QRD5', 'Q99836', 'Q9BWM7', 'P30085', 'Q86V81']\n",
      "119\n"
     ]
    }
   ],
   "source": [
    "# IDs in 2012 data but not in 01_2012 uniprot fasta\n",
    "det12_list = list(dbchem.ID)\n",
    "det18_list = list(db18.ID)\n",
    "\n",
    "notin12 = diffList(IDlistog, det12_list)\n",
    "print(notin12)\n",
    "print(len(notin12))\n",
    "print()\n",
    "\n",
    "\n",
    "notin18 = diffList(IDlistog, det18_list)\n",
    "print()\n",
    "print(notin18)\n",
    "print(len(notin18))"
   ]
  },
  {
   "cell_type": "markdown",
   "metadata": {},
   "source": [
    "### checking the IDs that were in the chemoproteo. CK set but not in the MS database from 11_2012...\n",
    "\n",
    "* Caution, could be product of pseudogene: Q5VTE0;B2RPK0;Q8NHW5;Q6P474;P58107 (uncertain of MET initiator);P0C860;Q71DI3\n",
    "\n",
    "* obsolete: A6NF79;\n",
    " \n",
    "* ribosomal protein: P83881;\n",
    "\n",
    "* homolog: Q9BTY7 (HGH1 homo); \n",
    "\n",
    "* **should be in MS database: P68363 (tubulin);A6NEC2 (aminopeptidase);A6NNZ2 (tubulin);P04350 (tubulin);P86791 (guanine exchange factor); P26640 (tRNA ligase);P63241 (mRNA binding protein);P19105 (myosin light chain);Q9GZM3 (DNA dep. RNA pol);P63261 (actin); P0DMV9 (heat shock); Q8IYB9 (zinc finger)**\n",
    "\n",
    "## moving on without these IDs"
   ]
  },
  {
   "cell_type": "code",
   "execution_count": 24,
   "metadata": {},
   "outputs": [
    {
     "data": {
      "text/html": [
       "<div>\n",
       "<style scoped>\n",
       "    .dataframe tbody tr th:only-of-type {\n",
       "        vertical-align: middle;\n",
       "    }\n",
       "\n",
       "    .dataframe tbody tr th {\n",
       "        vertical-align: top;\n",
       "    }\n",
       "\n",
       "    .dataframe thead th {\n",
       "        text-align: right;\n",
       "    }\n",
       "</style>\n",
       "<table border=\"1\" class=\"dataframe\">\n",
       "  <thead>\n",
       "    <tr style=\"text-align: right;\">\n",
       "      <th></th>\n",
       "      <th>ID</th>\n",
       "      <th>entryName</th>\n",
       "      <th>Length</th>\n",
       "      <th>proSequence</th>\n",
       "      <th>detected_2012_ID</th>\n",
       "    </tr>\n",
       "  </thead>\n",
       "  <tbody>\n",
       "    <tr>\n",
       "      <th>3417</th>\n",
       "      <td>O43809</td>\n",
       "      <td>CPSF5_HUMAN</td>\n",
       "      <td>227</td>\n",
       "      <td>MSVVPPNRSQTGWPRGVTQFGNKYIQQTKPLTLERTINLYPLTNYT...</td>\n",
       "      <td>True</td>\n",
       "    </tr>\n",
       "    <tr>\n",
       "      <th>3279</th>\n",
       "      <td>P67936</td>\n",
       "      <td>TPM4_HUMAN</td>\n",
       "      <td>248</td>\n",
       "      <td>MAGLNSLEAVKRKIQALQQQADEAEDRAQGLQRELDGERERREKAE...</td>\n",
       "      <td>True</td>\n",
       "    </tr>\n",
       "    <tr>\n",
       "      <th>2190</th>\n",
       "      <td>P48960</td>\n",
       "      <td>CD97_HUMAN</td>\n",
       "      <td>835</td>\n",
       "      <td>MGGRVFLAFCVWLTLPGAETQDSRGCARWCPQNSSCVNATACRCNP...</td>\n",
       "      <td>True</td>\n",
       "    </tr>\n",
       "    <tr>\n",
       "      <th>344</th>\n",
       "      <td>Q9NPI6</td>\n",
       "      <td>DCP1A_HUMAN</td>\n",
       "      <td>582</td>\n",
       "      <td>MEALSRAGQEMSLAALKQHDPYITSIADLTGQVALYTFCPKANQWE...</td>\n",
       "      <td>True</td>\n",
       "    </tr>\n",
       "    <tr>\n",
       "      <th>71</th>\n",
       "      <td>Q99259</td>\n",
       "      <td>DCE1_HUMAN</td>\n",
       "      <td>594</td>\n",
       "      <td>MASSTPSSSATSSNAGADPNTTNLRPTTYDTWCGVAHGCTRKLGLK...</td>\n",
       "      <td>True</td>\n",
       "    </tr>\n",
       "    <tr>\n",
       "      <th>1265</th>\n",
       "      <td>Q14240</td>\n",
       "      <td>IF4A2_HUMAN</td>\n",
       "      <td>407</td>\n",
       "      <td>MSGGSADYNREHGGPEGMDPDGVIESNWNEIVDNFDDMNLKESLLR...</td>\n",
       "      <td>True</td>\n",
       "    </tr>\n",
       "    <tr>\n",
       "      <th>1909</th>\n",
       "      <td>Q9NS86</td>\n",
       "      <td>LANC2_HUMAN</td>\n",
       "      <td>450</td>\n",
       "      <td>MGETMSKRLKLHLGGEAEMEERAFVNPFPDYEAAAGALLASGAAEE...</td>\n",
       "      <td>True</td>\n",
       "    </tr>\n",
       "    <tr>\n",
       "      <th>1230</th>\n",
       "      <td>P20042</td>\n",
       "      <td>IF2B_HUMAN</td>\n",
       "      <td>333</td>\n",
       "      <td>MSGDEMIFDPTMSKKKKKKKKPFMLDEEGDTQTEETQPSETKEVEP...</td>\n",
       "      <td>True</td>\n",
       "    </tr>\n",
       "    <tr>\n",
       "      <th>1599</th>\n",
       "      <td>Q9NZZ3</td>\n",
       "      <td>CHMP5_HUMAN</td>\n",
       "      <td>219</td>\n",
       "      <td>MNRLFGKAKPKAPPPSLTDCIGTVDSRAESIDKKISRLDAELVKYK...</td>\n",
       "      <td>True</td>\n",
       "    </tr>\n",
       "    <tr>\n",
       "      <th>3049</th>\n",
       "      <td>Q9NS87</td>\n",
       "      <td>KIF15_HUMAN</td>\n",
       "      <td>1388</td>\n",
       "      <td>MAPGCKTELRSVTNGQSNQPSNEGDAIKVFVRIRPPAERSGSADGE...</td>\n",
       "      <td>True</td>\n",
       "    </tr>\n",
       "  </tbody>\n",
       "</table>\n",
       "</div>"
      ],
      "text/plain": [
       "          ID    entryName  Length  \\\n",
       "3417  O43809  CPSF5_HUMAN     227   \n",
       "3279  P67936   TPM4_HUMAN     248   \n",
       "2190  P48960   CD97_HUMAN     835   \n",
       "344   Q9NPI6  DCP1A_HUMAN     582   \n",
       "71    Q99259   DCE1_HUMAN     594   \n",
       "1265  Q14240  IF4A2_HUMAN     407   \n",
       "1909  Q9NS86  LANC2_HUMAN     450   \n",
       "1230  P20042   IF2B_HUMAN     333   \n",
       "1599  Q9NZZ3  CHMP5_HUMAN     219   \n",
       "3049  Q9NS87  KIF15_HUMAN    1388   \n",
       "\n",
       "                                            proSequence detected_2012_ID  \n",
       "3417  MSVVPPNRSQTGWPRGVTQFGNKYIQQTKPLTLERTINLYPLTNYT...             True  \n",
       "3279  MAGLNSLEAVKRKIQALQQQADEAEDRAQGLQRELDGERERREKAE...             True  \n",
       "2190  MGGRVFLAFCVWLTLPGAETQDSRGCARWCPQNSSCVNATACRCNP...             True  \n",
       "344   MEALSRAGQEMSLAALKQHDPYITSIADLTGQVALYTFCPKANQWE...             True  \n",
       "71    MASSTPSSSATSSNAGADPNTTNLRPTTYDTWCGVAHGCTRKLGLK...             True  \n",
       "1265  MSGGSADYNREHGGPEGMDPDGVIESNWNEIVDNFDDMNLKESLLR...             True  \n",
       "1909  MGETMSKRLKLHLGGEAEMEERAFVNPFPDYEAAAGALLASGAAEE...             True  \n",
       "1230  MSGDEMIFDPTMSKKKKKKKKPFMLDEEGDTQTEETQPSETKEVEP...             True  \n",
       "1599  MNRLFGKAKPKAPPPSLTDCIGTVDSRAESIDKKISRLDAELVKYK...             True  \n",
       "3049  MAPGCKTELRSVTNGQSNQPSNEGDAIKVFVRIRPPAERSGSADGE...             True  "
      ]
     },
     "execution_count": 24,
     "metadata": {},
     "output_type": "execute_result"
    }
   ],
   "source": [
    "dbchem.reset_index(inplace=True, drop=True)\n",
    "dbchem.sample(10)"
   ]
  },
  {
   "cell_type": "code",
   "execution_count": 25,
   "metadata": {},
   "outputs": [],
   "source": [
    "dbchem.to_csv(\"sprot_11_2012_detectedIDs_4093.csv\", index=False)"
   ]
  },
  {
   "cell_type": "markdown",
   "metadata": {},
   "source": [
    "# [1] Formatting chemoproteomic data to contain only 4093 IDs also in 11_2012 ukbsp file from cravatt lab\n",
    "\n",
    "4119-26 = 4093"
   ]
  },
  {
   "cell_type": "markdown",
   "metadata": {},
   "source": [
    "## [a] make sure subset files for cys and lys are non-redundant \n",
    "- (there is redundancy however between label_type files, like positions from panReactive set are also in LMH data)"
   ]
  },
  {
   "cell_type": "code",
   "execution_count": 54,
   "metadata": {},
   "outputs": [],
   "source": [
    "# changing labels\n",
    "labels = [\"pos_ID\",\"reactivity\"]\n",
    "Creact.columns = labels\n",
    "Kreact.columns = labels\n",
    "labelpan = ['pos_ID','labelType']\n",
    "Kpan.columns=labelpan\n",
    "Cpan.columns=labelpan"
   ]
  },
  {
   "cell_type": "markdown",
   "metadata": {},
   "source": [
    "**pos counts added to MAPPING_tables.xlsx under 2012 chemoproteomic files**"
   ]
  },
  {
   "cell_type": "code",
   "execution_count": 55,
   "metadata": {},
   "outputs": [
    {
     "name": "stdout",
     "output_type": "stream",
     "text": [
      "1541\n",
      "1541\n",
      "4579\n",
      "4579\n",
      "6157\n",
      "6157\n",
      "8360\n",
      "8360\n"
     ]
    }
   ],
   "source": [
    "# check for duplicates in group files\n",
    "print(len(Creact.pos_ID))\n",
    "print(len(set(Creact.pos_ID)))\n",
    "\n",
    "print(len(Kreact.pos_ID))\n",
    "print(len(set(Kreact.pos_ID)))\n",
    "\n",
    "print(len(Cpan.pos_ID))\n",
    "print(len(set(Cpan.pos_ID)))\n",
    "\n",
    "print(len(Kpan.pos_ID))\n",
    "print(len(set(Kpan.pos_ID)))"
   ]
  },
  {
   "cell_type": "markdown",
   "metadata": {},
   "source": [
    "**NOTE:  Nature data does not have redundancy when you process the reactivity data seperate from the pan/target data**"
   ]
  },
  {
   "cell_type": "code",
   "execution_count": 56,
   "metadata": {},
   "outputs": [
    {
     "name": "stdout",
     "output_type": "stream",
     "text": [
      "6510\n",
      "9327\n"
     ]
    }
   ],
   "source": [
    "# EVER LABELED 2012 CYS \n",
    "CYSever2012 = set(list(Creact.pos_ID) + list(Cpan.pos_ID))\n",
    "print(len(CYSever2012))\n",
    "# EVER LABELED 2012 LYS\n",
    "LYSever2012 = set(list(Kreact.pos_ID) + list(Kpan.pos_ID))\n",
    "print(len(LYSever2012))"
   ]
  },
  {
   "cell_type": "code",
   "execution_count": 57,
   "metadata": {},
   "outputs": [
    {
     "name": "stdout",
     "output_type": "stream",
     "text": [
      "7698\n",
      "-1188\n",
      "12939\n",
      "3612\n"
     ]
    }
   ],
   "source": [
    "print(1541 + 6157) # redundant CYS\n",
    "print(6510 - 7698) # CYS overlap\n",
    "print(4579+8360) # redundant LYS\n",
    "print(12939 - 9327) # LYS overlap"
   ]
  },
  {
   "cell_type": "markdown",
   "metadata": {},
   "source": [
    "## [b] split pos_ID col and count # of unique positions in subsets and IDs"
   ]
  },
  {
   "cell_type": "code",
   "execution_count": 58,
   "metadata": {},
   "outputs": [],
   "source": [
    "def split_ID(df1, col):\n",
    "    new1 = df1[col].str.split(\"_\", n=1, expand = True)\n",
    "    df1[\"ID\"] = new1[0]\n",
    "    return df1"
   ]
  },
  {
   "cell_type": "code",
   "execution_count": 59,
   "metadata": {},
   "outputs": [],
   "source": [
    "def count_unique_IDs(df, col):\n",
    "    idset = set(df[col])\n",
    "    print(\"unique IDs in df: \", len(idset))\n",
    "    return idset"
   ]
  },
  {
   "cell_type": "markdown",
   "metadata": {},
   "source": [
    "**ID counts added to MAPPING_tables.xlsx under 2012 chemoproteomic files**"
   ]
  },
  {
   "cell_type": "code",
   "execution_count": 60,
   "metadata": {},
   "outputs": [
    {
     "data": {
      "text/html": [
       "<div>\n",
       "<style scoped>\n",
       "    .dataframe tbody tr th:only-of-type {\n",
       "        vertical-align: middle;\n",
       "    }\n",
       "\n",
       "    .dataframe tbody tr th {\n",
       "        vertical-align: top;\n",
       "    }\n",
       "\n",
       "    .dataframe thead th {\n",
       "        text-align: right;\n",
       "    }\n",
       "</style>\n",
       "<table border=\"1\" class=\"dataframe\">\n",
       "  <thead>\n",
       "    <tr style=\"text-align: right;\">\n",
       "      <th></th>\n",
       "      <th>pos_ID</th>\n",
       "      <th>reactivity</th>\n",
       "      <th>ID</th>\n",
       "    </tr>\n",
       "  </thead>\n",
       "  <tbody>\n",
       "    <tr>\n",
       "      <th>0</th>\n",
       "      <td>Q9Y6W6_C177</td>\n",
       "      <td>20.00 1/2/6</td>\n",
       "      <td>Q9Y6W6</td>\n",
       "    </tr>\n",
       "    <tr>\n",
       "      <th>1</th>\n",
       "      <td>Q9Y6M9_C42</td>\n",
       "      <td>5.74 1/1/6</td>\n",
       "      <td>Q9Y6M9</td>\n",
       "    </tr>\n",
       "    <tr>\n",
       "      <th>2</th>\n",
       "      <td>Q9Y6J0_C1197</td>\n",
       "      <td>20.00 1/2/6</td>\n",
       "      <td>Q9Y6J0</td>\n",
       "    </tr>\n",
       "  </tbody>\n",
       "</table>\n",
       "</div>"
      ],
      "text/plain": [
       "         pos_ID    reactivity      ID\n",
       "0   Q9Y6W6_C177  20.00 1/2/6   Q9Y6W6\n",
       "1    Q9Y6M9_C42   5.74 1/1/6   Q9Y6M9\n",
       "2  Q9Y6J0_C1197  20.00 1/2/6   Q9Y6J0"
      ]
     },
     "execution_count": 60,
     "metadata": {},
     "output_type": "execute_result"
    }
   ],
   "source": [
    "# 2012 cys react group\n",
    "crea = split_ID(Creact, 'pos_ID')\n",
    "crea.head(3)"
   ]
  },
  {
   "cell_type": "code",
   "execution_count": 61,
   "metadata": {},
   "outputs": [
    {
     "data": {
      "text/html": [
       "<div>\n",
       "<style scoped>\n",
       "    .dataframe tbody tr th:only-of-type {\n",
       "        vertical-align: middle;\n",
       "    }\n",
       "\n",
       "    .dataframe tbody tr th {\n",
       "        vertical-align: top;\n",
       "    }\n",
       "\n",
       "    .dataframe thead th {\n",
       "        text-align: right;\n",
       "    }\n",
       "</style>\n",
       "<table border=\"1\" class=\"dataframe\">\n",
       "  <thead>\n",
       "    <tr style=\"text-align: right;\">\n",
       "      <th></th>\n",
       "      <th>pos_ID</th>\n",
       "      <th>labelType</th>\n",
       "      <th>ID</th>\n",
       "    </tr>\n",
       "  </thead>\n",
       "  <tbody>\n",
       "    <tr>\n",
       "      <th>0</th>\n",
       "      <td>P26641_C266</td>\n",
       "      <td>Iodoacetamide</td>\n",
       "      <td>P26641</td>\n",
       "    </tr>\n",
       "    <tr>\n",
       "      <th>1</th>\n",
       "      <td>P07900_C374</td>\n",
       "      <td>Iodoacetamide</td>\n",
       "      <td>P07900</td>\n",
       "    </tr>\n",
       "    <tr>\n",
       "      <th>2</th>\n",
       "      <td>P23528_C139</td>\n",
       "      <td>Iodoacetamide</td>\n",
       "      <td>P23528</td>\n",
       "    </tr>\n",
       "  </tbody>\n",
       "</table>\n",
       "</div>"
      ],
      "text/plain": [
       "        pos_ID      labelType      ID\n",
       "0  P26641_C266  Iodoacetamide  P26641\n",
       "1  P07900_C374  Iodoacetamide  P07900\n",
       "2  P23528_C139  Iodoacetamide  P23528"
      ]
     },
     "execution_count": 61,
     "metadata": {},
     "output_type": "execute_result"
    }
   ],
   "source": [
    "# 2012 cys pan group\n",
    "cpant = split_ID(Cpan, 'pos_ID')\n",
    "cpant.head(3)"
   ]
  },
  {
   "cell_type": "code",
   "execution_count": 62,
   "metadata": {},
   "outputs": [
    {
     "data": {
      "text/html": [
       "<div>\n",
       "<style scoped>\n",
       "    .dataframe tbody tr th:only-of-type {\n",
       "        vertical-align: middle;\n",
       "    }\n",
       "\n",
       "    .dataframe tbody tr th {\n",
       "        vertical-align: top;\n",
       "    }\n",
       "\n",
       "    .dataframe thead th {\n",
       "        text-align: right;\n",
       "    }\n",
       "</style>\n",
       "<table border=\"1\" class=\"dataframe\">\n",
       "  <thead>\n",
       "    <tr style=\"text-align: right;\">\n",
       "      <th></th>\n",
       "      <th>pos_ID</th>\n",
       "      <th>reactivity</th>\n",
       "      <th>ID</th>\n",
       "    </tr>\n",
       "  </thead>\n",
       "  <tbody>\n",
       "    <tr>\n",
       "      <th>0</th>\n",
       "      <td>P52758_K117</td>\n",
       "      <td>0.1</td>\n",
       "      <td>P52758</td>\n",
       "    </tr>\n",
       "    <tr>\n",
       "      <th>1</th>\n",
       "      <td>P02766_K35</td>\n",
       "      <td>0.1</td>\n",
       "      <td>P02766</td>\n",
       "    </tr>\n",
       "    <tr>\n",
       "      <th>2</th>\n",
       "      <td>P51572_K79</td>\n",
       "      <td>0.2</td>\n",
       "      <td>P51572</td>\n",
       "    </tr>\n",
       "  </tbody>\n",
       "</table>\n",
       "</div>"
      ],
      "text/plain": [
       "        pos_ID  reactivity      ID\n",
       "0  P52758_K117         0.1  P52758\n",
       "1   P02766_K35         0.1  P02766\n",
       "2   P51572_K79         0.2  P51572"
      ]
     },
     "execution_count": 62,
     "metadata": {},
     "output_type": "execute_result"
    }
   ],
   "source": [
    "# 2012 lys react group\n",
    "krea = split_ID(Kreact, 'pos_ID')\n",
    "krea.head(3)"
   ]
  },
  {
   "cell_type": "code",
   "execution_count": 63,
   "metadata": {},
   "outputs": [
    {
     "data": {
      "text/html": [
       "<div>\n",
       "<style scoped>\n",
       "    .dataframe tbody tr th:only-of-type {\n",
       "        vertical-align: middle;\n",
       "    }\n",
       "\n",
       "    .dataframe tbody tr th {\n",
       "        vertical-align: top;\n",
       "    }\n",
       "\n",
       "    .dataframe thead th {\n",
       "        text-align: right;\n",
       "    }\n",
       "</style>\n",
       "<table border=\"1\" class=\"dataframe\">\n",
       "  <thead>\n",
       "    <tr style=\"text-align: right;\">\n",
       "      <th></th>\n",
       "      <th>pos_ID</th>\n",
       "      <th>labelType</th>\n",
       "      <th>ID</th>\n",
       "    </tr>\n",
       "  </thead>\n",
       "  <tbody>\n",
       "    <tr>\n",
       "      <th>0</th>\n",
       "      <td>A0AVT1_K1014</td>\n",
       "      <td>IodoL</td>\n",
       "      <td>A0AVT1</td>\n",
       "    </tr>\n",
       "    <tr>\n",
       "      <th>1</th>\n",
       "      <td>A0AVT1_K544</td>\n",
       "      <td>IodoL</td>\n",
       "      <td>A0AVT1</td>\n",
       "    </tr>\n",
       "    <tr>\n",
       "      <th>2</th>\n",
       "      <td>A0AVT1_K86</td>\n",
       "      <td>IodoL</td>\n",
       "      <td>A0AVT1</td>\n",
       "    </tr>\n",
       "  </tbody>\n",
       "</table>\n",
       "</div>"
      ],
      "text/plain": [
       "         pos_ID labelType      ID\n",
       "0  A0AVT1_K1014     IodoL  A0AVT1\n",
       "1   A0AVT1_K544     IodoL  A0AVT1\n",
       "2    A0AVT1_K86     IodoL  A0AVT1"
      ]
     },
     "execution_count": 63,
     "metadata": {},
     "output_type": "execute_result"
    }
   ],
   "source": [
    "# 2012 lys oan group\n",
    "kpant = split_ID(Kpan, 'pos_ID')\n",
    "kpant.head(3)"
   ]
  },
  {
   "cell_type": "markdown",
   "metadata": {},
   "source": [
    "## [c] label 4093 IDs chemoproteomic position data"
   ]
  },
  {
   "cell_type": "code",
   "execution_count": 65,
   "metadata": {},
   "outputs": [
    {
     "name": "stdout",
     "output_type": "stream",
     "text": [
      "4093\n"
     ]
    }
   ],
   "source": [
    "det12_list = list(dbchem.ID)\n",
    "print(len(det12_list))"
   ]
  },
  {
   "cell_type": "code",
   "execution_count": 66,
   "metadata": {},
   "outputs": [],
   "source": [
    "# ADDING COLUMN AND DROPPING ROWS WITH NO ID MATCH\n",
    "Creact = addcolumnconditionalDrop(det12_list, crea , 'ID', '11_2012_detectedID') \n",
    "Cpan = addcolumnconditionalDrop(det12_list, cpant , 'ID', '11_2012_detectedID') \n",
    "Krea = addcolumnconditionalDrop(det12_list, krea , 'ID', '11_2012_detectedID') \n",
    "Kpant = addcolumnconditionalDrop(det12_list, kpant , 'ID', '11_2012_detectedID') "
   ]
  },
  {
   "cell_type": "code",
   "execution_count": 68,
   "metadata": {},
   "outputs": [
    {
     "name": "stdout",
     "output_type": "stream",
     "text": [
      "(1483, 4)\n",
      "(6157, 4)\n",
      "(4576, 4)\n",
      "(8350, 4)\n"
     ]
    }
   ],
   "source": [
    "# RESIDUE COUNT LEVEL\n",
    "print(Creact.shape)\n",
    "print(Cpan.shape)\n",
    "print(Krea.shape)\n",
    "print(Kpant.shape)"
   ]
  },
  {
   "cell_type": "code",
   "execution_count": 74,
   "metadata": {},
   "outputs": [
    {
     "data": {
      "text/html": [
       "<div>\n",
       "<style scoped>\n",
       "    .dataframe tbody tr th:only-of-type {\n",
       "        vertical-align: middle;\n",
       "    }\n",
       "\n",
       "    .dataframe tbody tr th {\n",
       "        vertical-align: top;\n",
       "    }\n",
       "\n",
       "    .dataframe thead th {\n",
       "        text-align: right;\n",
       "    }\n",
       "</style>\n",
       "<table border=\"1\" class=\"dataframe\">\n",
       "  <thead>\n",
       "    <tr style=\"text-align: right;\">\n",
       "      <th></th>\n",
       "      <th>pos_ID</th>\n",
       "      <th>reactivity</th>\n",
       "      <th>ID</th>\n",
       "      <th>11_2012_detectedID</th>\n",
       "    </tr>\n",
       "  </thead>\n",
       "  <tbody>\n",
       "    <tr>\n",
       "      <th>0</th>\n",
       "      <td>Q9Y6W6_C177</td>\n",
       "      <td>20.00 1/2/6</td>\n",
       "      <td>Q9Y6W6</td>\n",
       "      <td>True</td>\n",
       "    </tr>\n",
       "    <tr>\n",
       "      <th>1</th>\n",
       "      <td>Q9Y6M9_C42</td>\n",
       "      <td>5.74 1/1/6</td>\n",
       "      <td>Q9Y6M9</td>\n",
       "      <td>True</td>\n",
       "    </tr>\n",
       "    <tr>\n",
       "      <th>2</th>\n",
       "      <td>Q9Y6J0_C1197</td>\n",
       "      <td>20.00 1/2/6</td>\n",
       "      <td>Q9Y6J0</td>\n",
       "      <td>True</td>\n",
       "    </tr>\n",
       "  </tbody>\n",
       "</table>\n",
       "</div>"
      ],
      "text/plain": [
       "         pos_ID    reactivity      ID 11_2012_detectedID\n",
       "0   Q9Y6W6_C177  20.00 1/2/6   Q9Y6W6               True\n",
       "1    Q9Y6M9_C42   5.74 1/1/6   Q9Y6M9               True\n",
       "2  Q9Y6J0_C1197  20.00 1/2/6   Q9Y6J0               True"
      ]
     },
     "execution_count": 74,
     "metadata": {},
     "output_type": "execute_result"
    }
   ],
   "source": [
    "Creact.to_csv(\"CYS_reactivity_11_2012IDs_1483.csv\", index=False)\n",
    "Creact.head(3)"
   ]
  },
  {
   "cell_type": "code",
   "execution_count": 75,
   "metadata": {},
   "outputs": [
    {
     "data": {
      "text/html": [
       "<div>\n",
       "<style scoped>\n",
       "    .dataframe tbody tr th:only-of-type {\n",
       "        vertical-align: middle;\n",
       "    }\n",
       "\n",
       "    .dataframe tbody tr th {\n",
       "        vertical-align: top;\n",
       "    }\n",
       "\n",
       "    .dataframe thead th {\n",
       "        text-align: right;\n",
       "    }\n",
       "</style>\n",
       "<table border=\"1\" class=\"dataframe\">\n",
       "  <thead>\n",
       "    <tr style=\"text-align: right;\">\n",
       "      <th></th>\n",
       "      <th>pos_ID</th>\n",
       "      <th>labelType</th>\n",
       "      <th>ID</th>\n",
       "      <th>11_2012_detectedID</th>\n",
       "    </tr>\n",
       "  </thead>\n",
       "  <tbody>\n",
       "    <tr>\n",
       "      <th>0</th>\n",
       "      <td>P26641_C266</td>\n",
       "      <td>Iodoacetamide</td>\n",
       "      <td>P26641</td>\n",
       "      <td>True</td>\n",
       "    </tr>\n",
       "    <tr>\n",
       "      <th>1</th>\n",
       "      <td>P07900_C374</td>\n",
       "      <td>Iodoacetamide</td>\n",
       "      <td>P07900</td>\n",
       "      <td>True</td>\n",
       "    </tr>\n",
       "    <tr>\n",
       "      <th>2</th>\n",
       "      <td>P23528_C139</td>\n",
       "      <td>Iodoacetamide</td>\n",
       "      <td>P23528</td>\n",
       "      <td>True</td>\n",
       "    </tr>\n",
       "  </tbody>\n",
       "</table>\n",
       "</div>"
      ],
      "text/plain": [
       "        pos_ID      labelType      ID 11_2012_detectedID\n",
       "0  P26641_C266  Iodoacetamide  P26641               True\n",
       "1  P07900_C374  Iodoacetamide  P07900               True\n",
       "2  P23528_C139  Iodoacetamide  P23528               True"
      ]
     },
     "execution_count": 75,
     "metadata": {},
     "output_type": "execute_result"
    }
   ],
   "source": [
    "Cpan.to_csv(\"CYS_pantarget_11_2012IDs_6157.csv\", index=False)\n",
    "Cpan.head(3)"
   ]
  },
  {
   "cell_type": "code",
   "execution_count": 77,
   "metadata": {},
   "outputs": [
    {
     "data": {
      "text/html": [
       "<div>\n",
       "<style scoped>\n",
       "    .dataframe tbody tr th:only-of-type {\n",
       "        vertical-align: middle;\n",
       "    }\n",
       "\n",
       "    .dataframe tbody tr th {\n",
       "        vertical-align: top;\n",
       "    }\n",
       "\n",
       "    .dataframe thead th {\n",
       "        text-align: right;\n",
       "    }\n",
       "</style>\n",
       "<table border=\"1\" class=\"dataframe\">\n",
       "  <thead>\n",
       "    <tr style=\"text-align: right;\">\n",
       "      <th></th>\n",
       "      <th>pos_ID</th>\n",
       "      <th>reactivity</th>\n",
       "      <th>ID</th>\n",
       "      <th>11_2012_detectedID</th>\n",
       "    </tr>\n",
       "  </thead>\n",
       "  <tbody>\n",
       "    <tr>\n",
       "      <th>0</th>\n",
       "      <td>P52758_K117</td>\n",
       "      <td>0.1</td>\n",
       "      <td>P52758</td>\n",
       "      <td>True</td>\n",
       "    </tr>\n",
       "    <tr>\n",
       "      <th>1</th>\n",
       "      <td>P02766_K35</td>\n",
       "      <td>0.1</td>\n",
       "      <td>P02766</td>\n",
       "      <td>True</td>\n",
       "    </tr>\n",
       "    <tr>\n",
       "      <th>2</th>\n",
       "      <td>P51572_K79</td>\n",
       "      <td>0.2</td>\n",
       "      <td>P51572</td>\n",
       "      <td>True</td>\n",
       "    </tr>\n",
       "  </tbody>\n",
       "</table>\n",
       "</div>"
      ],
      "text/plain": [
       "        pos_ID  reactivity      ID 11_2012_detectedID\n",
       "0  P52758_K117         0.1  P52758               True\n",
       "1   P02766_K35         0.1  P02766               True\n",
       "2   P51572_K79         0.2  P51572               True"
      ]
     },
     "execution_count": 77,
     "metadata": {},
     "output_type": "execute_result"
    }
   ],
   "source": [
    "Krea.to_csv(\"LYS_reactivity_11_2012IDs_4576.csv\", index=False)\n",
    "Krea.head(3)"
   ]
  },
  {
   "cell_type": "code",
   "execution_count": 78,
   "metadata": {},
   "outputs": [
    {
     "data": {
      "text/html": [
       "<div>\n",
       "<style scoped>\n",
       "    .dataframe tbody tr th:only-of-type {\n",
       "        vertical-align: middle;\n",
       "    }\n",
       "\n",
       "    .dataframe tbody tr th {\n",
       "        vertical-align: top;\n",
       "    }\n",
       "\n",
       "    .dataframe thead th {\n",
       "        text-align: right;\n",
       "    }\n",
       "</style>\n",
       "<table border=\"1\" class=\"dataframe\">\n",
       "  <thead>\n",
       "    <tr style=\"text-align: right;\">\n",
       "      <th></th>\n",
       "      <th>pos_ID</th>\n",
       "      <th>labelType</th>\n",
       "      <th>ID</th>\n",
       "      <th>11_2012_detectedID</th>\n",
       "    </tr>\n",
       "  </thead>\n",
       "  <tbody>\n",
       "    <tr>\n",
       "      <th>0</th>\n",
       "      <td>A0AVT1_K1014</td>\n",
       "      <td>IodoL</td>\n",
       "      <td>A0AVT1</td>\n",
       "      <td>True</td>\n",
       "    </tr>\n",
       "    <tr>\n",
       "      <th>1</th>\n",
       "      <td>A0AVT1_K544</td>\n",
       "      <td>IodoL</td>\n",
       "      <td>A0AVT1</td>\n",
       "      <td>True</td>\n",
       "    </tr>\n",
       "    <tr>\n",
       "      <th>2</th>\n",
       "      <td>A0AVT1_K86</td>\n",
       "      <td>IodoL</td>\n",
       "      <td>A0AVT1</td>\n",
       "      <td>True</td>\n",
       "    </tr>\n",
       "  </tbody>\n",
       "</table>\n",
       "</div>"
      ],
      "text/plain": [
       "         pos_ID labelType      ID 11_2012_detectedID\n",
       "0  A0AVT1_K1014     IodoL  A0AVT1               True\n",
       "1   A0AVT1_K544     IodoL  A0AVT1               True\n",
       "2    A0AVT1_K86     IodoL  A0AVT1               True"
      ]
     },
     "execution_count": 78,
     "metadata": {},
     "output_type": "execute_result"
    }
   ],
   "source": [
    "Kpan.to_csv(\"LYS_pantarget_11_2012IDs_8350.csv\", index=False)\n",
    "Kpan.head(3)"
   ]
  },
  {
   "cell_type": "markdown",
   "metadata": {},
   "source": [
    "# [2] doing 11_2012 pos checking against original chemoproteomic position data\n",
    "\n",
    "```bash\n",
    "~/Desktop/Toolbox/key_id_maker.py sprot_11_2012_detectedIDs_4093.csv sprot_11_2012_all_Cpos.csv C\n",
    "#Number of amino acids in inputfile:  (44302, 1)\n",
    "~/Desktop/Toolbox/key_id_maker.py sprot_11_2012_detectedIDs_4093.csv sprot_11_2012_all_Kpos.csv K\n",
    "#Number of amino acids in inputfile:  (165363, 1)\n",
    "```\n",
    "\n",
    "### total C in 11_2012 filtered for 4093 IDs = 44,302\n",
    "### total K in 11_2012 filtered for 4093 IDs = 165,363"
   ]
  },
  {
   "cell_type": "code",
   "execution_count": 79,
   "metadata": {},
   "outputs": [],
   "source": [
    "# Pmap_chemoproteomic_2012.py has all code below\n",
    "def split_ID(df1, col):\n",
    "    new1 = df1[col].str.split(\"_\", n=1, expand = True)\n",
    "    df1[\"ID\"] = new1[0]\n",
    "    return df1\n",
    "\n",
    "def count_unique_IDs(df, col):\n",
    "    idset = set(df[col])\n",
    "    print(\"unique IDs in df: \", len(idset))\n",
    "    return idset\n",
    "\n",
    "# aalist is from fasta sequences, chemdf is chemoproteomic data subset\n",
    "def position_overlap(aalist, chemdf, found_name, notfound_name):\n",
    "    # create list of reactivity and pan target positions\n",
    "    subsetls = list(chemdf.pos_ID)\n",
    "    print(\"chemo pos_ID length: \", len(subsetls))\n",
    "    # overlap with positions from fasta sequences\n",
    "    overlapAA = set(aalist).intersection(subsetls)\n",
    "    print(\"overlapping AA's in chemoproteomic data subset: \", len(overlapAA))\n",
    "    # make dataframe with overlap results\n",
    "    newls = list(overlapAA)\n",
    "    newdf = pd.DataFrame(newls)\n",
    "    newdf.columns = ['pos_ID']\n",
    "    # count unique ID\n",
    "    splitdf = split_ID(newdf, 'pos_ID')\n",
    "    idset = count_unique_IDs(splitdf, 'ID')\n",
    "\n",
    "    # label the subset data frame with new column whether its in fasta sequence or not\n",
    "    done_overlapped = addcolumnconditional(overlapAA, chemdf, \"pos_ID\", \"found_pos_ID\")\n",
    "\n",
    "    # seperating True and False then saving False\n",
    "    TRUEonly = done_overlapped[done_overlapped[\"found_pos_ID\"] == \"True\"]\n",
    "    FALSEonly = done_overlapped[done_overlapped[\"found_pos_ID\"] == \"False\"]\n",
    "    print(\"Found posID TRUE df shape: \", TRUEonly.shape)\n",
    "    print(\"Found posID FALSE df shape: \", FALSEonly.shape)\n",
    "\n",
    "    # saving dfs\n",
    "    FALSEonly.reset_index(drop=True,inplace=True)\n",
    "    FALSEonly.to_csv(notfound_name,index=False)\n",
    "    TRUEonly.reset_index(drop=True,inplace=True)\n",
    "    TRUEonly.to_csv(found_name,index=False)\n",
    "\n",
    "    return idset"
   ]
  },
  {
   "cell_type": "code",
   "execution_count": 84,
   "metadata": {},
   "outputs": [
    {
     "name": "stdout",
     "output_type": "stream",
     "text": [
      "\n",
      "chemo pos_ID length:  1483\n",
      "overlapping AA's in chemoproteomic data subset:  1476\n",
      "unique IDs in df:  1007\n",
      "Found posID TRUE df shape:  (1476, 5)\n",
      "Found posID FALSE df shape:  (7, 5)\n",
      "\n",
      "chemo pos_ID length:  6157\n",
      "overlapping AA's in chemoproteomic data subset:  6152\n",
      "unique IDs in df:  2884\n",
      "Found posID TRUE df shape:  (6152, 5)\n",
      "Found posID FALSE df shape:  (5, 5)\n",
      "\n",
      "chemo pos_ID length:  4576\n",
      "overlapping AA's in chemoproteomic data subset:  4576\n",
      "unique IDs in df:  1585\n",
      "Found posID TRUE df shape:  (4576, 5)\n",
      "Found posID FALSE df shape:  (0, 5)\n",
      "\n",
      "chemo pos_ID length:  8350\n",
      "overlapping AA's in chemoproteomic data subset:  8350\n",
      "unique IDs in df:  2429\n",
      "Found posID TRUE df shape:  (8350, 5)\n",
      "Found posID FALSE df shape:  (0, 5)\n",
      "\n",
      "total Cys group IDs:  3015\n",
      "total Lye group IDs:  2691\n",
      "total IDs both C and K:  4093\n"
     ]
    }
   ],
   "source": [
    "# subsets filtered for 4093 detected IDs overlapping 11_2012 fasta\n",
    "cpan = pd.read_csv(\"CYS_pantarget_11_2012IDs_6157.csv\")\n",
    "crea = pd.read_csv(\"CYS_reactivity_11_2012IDs_1483.csv\")\n",
    "kpan = pd.read_csv(\"LYS_pantarget_11_2012IDs_8350.csv\")\n",
    "krea = pd.read_csv(\"LYS_reactivity_11_2012IDs_4576.csv\")\n",
    "\n",
    "# 11_2012 release with 4093 detected IDs\n",
    "#ukbfasta = pd.read_csv(\"sprot_11_2012_detectedIDs_4093.csv\")\n",
    "fastaC = pd.read_csv(\"sprot_11_2012_all_Cpos.csv\")\n",
    "fastaK = pd.read_csv(\"sprot_11_2012_all_Kpos.csv\")\n",
    "# make into list with only pos_ID\n",
    "allC = list(fastaC.key_id)\n",
    "allK = list(fastaK.key_id)\n",
    "print()\n",
    "CRidset = position_overlap(allC, crea, \"pos_found_C_react.csv\", \"pos_not_found_C_react.csv\")\n",
    "print()\n",
    "CPidset = position_overlap(allC, cpan, \"pos_found_C_pan.csv\", \"pos_not_found_C_pan.csv\")\n",
    "print()\n",
    "KRidset = position_overlap(allK, krea, \"pos_found_K_react.csv\", \"pos_not_found_K_react.csv\")\n",
    "print()\n",
    "KPidset = position_overlap(allK, kpan, \"pos_found_K_pan.csv\", \"pos_not_found_K_pan.csv\")\n",
    "print()\n",
    "totCid = set(list(CRidset) + list(CPidset))\n",
    "print(\"total Cys group IDs: \", len(totCid))\n",
    "totKid = set(list(KRidset) + list(KPidset))\n",
    "print(\"total Lye group IDs: \", len(totKid))\n",
    "allIDs = set(list(totCid) + list(totKid))\n",
    "print(\"total IDs both C and K: \",len(allIDs))"
   ]
  },
  {
   "cell_type": "markdown",
   "metadata": {},
   "source": [
    "# Only the cys reactivity and pantarget subsets had NOT FOUND positions\n",
    "\n",
    "from NOT_FOUND_DROP_THESE_IDS.csv\n",
    "```\n",
    "pos_ID\tlabelType\tID\t11_2012_detectedID\tfound_pos_ID  comments\t\n",
    "P04406_C158\tIodoacetamide\tP04406\tTRUE\tFALSE\t* pos 152, 247 found\n",
    "P08238_C592\tIodoacetamide\tP08238\tTRUE\tFALSE\t* pos 366,589,521,564,412 found\n",
    "P54136_C36\tIodoacetamide\tP54136\tTRUE\tFALSE\t* pos 369,312,638,115,34 found\n",
    "P60174_C127\t4.13 8.56 ... \tP60174\tTRUE\tFALSE\t* all reactive cys not found in this ID\n",
    "P60174_C218\t3.77 7.5 ...\tP60174\tTRUE\tFALSE\t* all reactive cys not found in this ID\n",
    "P60174_C42\t4.31 7.69 .. \tP60174\tTRUE\tFALSE\t* all reactive cys not found in this ID\n",
    "P60174_C67\t4.69 4.53 . \tP60174\tTRUE\tFALSE\t* all reactive cys not found in this ID\n",
    "P62826_C122\tIodoacetamide\tP62826\tTRUE\tFALSE\t* pos 112, 120, 85 found\n",
    "P68371_C213\tTarget\t        P68371\tTRUE\tFALSE\t* only pos for ID\n",
    "Q4G0P3_C1852\t2.41 1/2/6 \tQ4G0P3\tTRUE\tFALSE\t* only react C in ID\n",
    "Q96TA1_C499\t5.02 1/1/6 \t    Q96TA1\tTRUE\tFALSE\t* only react C in ID\n",
    "Q9NXV6_C515\t5.49 1/1/6 \t    Q9NXV6\tTRUE\tFALSE\t* only react C in ID\n",
    "\t\t\t\t\t\t\t\n",
    "```\n",
    "\n",
    "## strange that not all positions were found, and even stranger that some positions in these IDs were found and not others. \n",
    "\n",
    "# dropping all 9 unique IDs in this list.."
   ]
  },
  {
   "cell_type": "code",
   "execution_count": 5,
   "metadata": {},
   "outputs": [],
   "source": [
    "# IDs to drop from position found files that were create above for each subset of CK files\n",
    "dropID = [\"P04406\", \"P08238\", \"P54136\", \"P60174\", \"P62826\", \"P68371\", \"Q4G0P3\", \"Q96TA1\", \"Q9NXV6\"]\n",
    "\n",
    "# drop IDs from these files\n",
    "kpan_found = pd.read_csv(\"pos_found_K_pan.csv\")\n",
    "kreac_found = pd.read_csv(\"pos_found_K_react.csv\")\n",
    "cpan_found = pd.read_csv(\"pos_found_C_pan.csv\")\n",
    "creac_found = pd.read_csv(\"pos_found_C_react.csv\")"
   ]
  },
  {
   "cell_type": "code",
   "execution_count": 6,
   "metadata": {},
   "outputs": [
    {
     "name": "stdout",
     "output_type": "stream",
     "text": [
      "new shape post drop:  (6125, 6)\n",
      "new shape post drop:  (8257, 6)\n",
      "new shape post drop:  (1458, 6)\n",
      "new shape post drop:  (4501, 6)\n"
     ]
    }
   ],
   "source": [
    "# mapList, df, dfcol, newcol\n",
    "cpan = addcolumnconditionalDropTrue(dropID, cpan_found, 'ID', 'allPOSITIONS_found')\n",
    "kpan = addcolumnconditionalDropTrue(dropID, kpan_found, 'ID', 'allPOSITIONS_found')\n",
    "crea = addcolumnconditionalDropTrue(dropID, creac_found, 'ID', 'allPOSITIONS_found')\n",
    "krea = addcolumnconditionalDropTrue(dropID, kreac_found, 'ID', 'allPOSITIONS_found')"
   ]
  },
  {
   "cell_type": "code",
   "execution_count": 7,
   "metadata": {},
   "outputs": [
    {
     "name": "stdout",
     "output_type": "stream",
     "text": [
      "(6125, 6)\n",
      "Index(['pos_ID', 'labelType', 'ID', '11_2012_detectedID', 'found_pos_ID',\n",
      "       'allPOSITIONS_found'],\n",
      "      dtype='object')\n",
      "pos_ID                0\n",
      "labelType             0\n",
      "ID                    0\n",
      "11_2012_detectedID    0\n",
      "found_pos_ID          0\n",
      "allPOSITIONS_found    0\n",
      "dtype: int64\n",
      "\n",
      "(8257, 6)\n",
      "Index(['pos_ID', 'labelType', 'ID', '11_2012_detectedID', 'found_pos_ID',\n",
      "       'allPOSITIONS_found'],\n",
      "      dtype='object')\n",
      "pos_ID                0\n",
      "labelType             0\n",
      "ID                    0\n",
      "11_2012_detectedID    0\n",
      "found_pos_ID          0\n",
      "allPOSITIONS_found    0\n",
      "dtype: int64\n",
      "\n",
      "(1458, 6)\n",
      "Index(['pos_ID', 'reactivity', 'ID', '11_2012_detectedID', 'found_pos_ID',\n",
      "       'allPOSITIONS_found'],\n",
      "      dtype='object')\n",
      "pos_ID                0\n",
      "reactivity            0\n",
      "ID                    0\n",
      "11_2012_detectedID    0\n",
      "found_pos_ID          0\n",
      "allPOSITIONS_found    0\n",
      "dtype: int64\n",
      "\n",
      "(4501, 6)\n",
      "Index(['pos_ID', 'reactivity', 'ID', '11_2012_detectedID', 'found_pos_ID',\n",
      "       'allPOSITIONS_found'],\n",
      "      dtype='object')\n",
      "pos_ID                0\n",
      "reactivity            0\n",
      "ID                    0\n",
      "11_2012_detectedID    0\n",
      "found_pos_ID          0\n",
      "allPOSITIONS_found    0\n",
      "dtype: int64\n"
     ]
    }
   ],
   "source": [
    "describeMe(cpan)\n",
    "print()\n",
    "describeMe(kpan)\n",
    "print()\n",
    "describeMe(crea)\n",
    "print()\n",
    "describeMe(krea)"
   ]
  },
  {
   "cell_type": "markdown",
   "metadata": {},
   "source": [
    "**counting unique IDs in each set and total, creating ever labeled sets for cys and lysine positions**"
   ]
  },
  {
   "cell_type": "code",
   "execution_count": 8,
   "metadata": {},
   "outputs": [],
   "source": [
    "def count_unique_IDs(df, col):\n",
    "    idset = set(df[col])\n",
    "    print(\"unique IDs in df: \", len(idset))\n",
    "    return idset"
   ]
  },
  {
   "cell_type": "code",
   "execution_count": 9,
   "metadata": {},
   "outputs": [
    {
     "name": "stdout",
     "output_type": "stream",
     "text": [
      "unique IDs in df:  2876\n",
      "unique IDs in df:  2421\n",
      "unique IDs in df:  1003\n",
      "unique IDs in df:  1577\n"
     ]
    }
   ],
   "source": [
    "# ID COUNTS IN SUBSETS\n",
    "cp_idset = count_unique_IDs(cpan, 'ID')\n",
    "kp_idset = count_unique_IDs(kpan, 'ID')\n",
    "cr_idset = count_unique_IDs(crea, 'ID')\n",
    "kr_idset = count_unique_IDs(krea, 'ID')"
   ]
  },
  {
   "cell_type": "code",
   "execution_count": 10,
   "metadata": {},
   "outputs": [
    {
     "name": "stdout",
     "output_type": "stream",
     "text": [
      "4084\n"
     ]
    }
   ],
   "source": [
    "# TOTAL ID count\n",
    "allIDs = set(list(cp_idset) + list(kp_idset) + list(cr_idset) + list(kr_idset))\n",
    "print(len(allIDs))"
   ]
  },
  {
   "cell_type": "code",
   "execution_count": 11,
   "metadata": {},
   "outputs": [
    {
     "name": "stdout",
     "output_type": "stream",
     "text": [
      "all C ids:  3006\n",
      "all K ids:  2683\n"
     ]
    }
   ],
   "source": [
    "# CREATING ID EVER LABELED SETS\n",
    "allc_id = set(list(cp_idset) + list(cr_idset))\n",
    "allk_id = set(list(kp_idset) + list(kr_idset))\n",
    "print(\"all C ids: \", len(allc_id))\n",
    "print(\"all K ids: \", len(allk_id))"
   ]
  },
  {
   "cell_type": "code",
   "execution_count": 22,
   "metadata": {},
   "outputs": [
    {
     "name": "stdout",
     "output_type": "stream",
     "text": [
      "1401\n",
      "1401\n",
      "\n",
      "1078\n",
      "1078\n"
     ]
    }
   ],
   "source": [
    "# UNIQUE IDS in C set \n",
    "uniqueC = allc_id - allk_id\n",
    "print(len(uniqueC))\n",
    "print(len(set(uniqueC)))\n",
    "\n",
    "print()\n",
    "# UNIQUE IDS IN K SET\n",
    "uniqueK = allk_id - allc_id\n",
    "print(len(uniqueK))\n",
    "print(len(set(uniqueK)))"
   ]
  },
  {
   "cell_type": "code",
   "execution_count": 25,
   "metadata": {},
   "outputs": [
    {
     "name": "stdout",
     "output_type": "stream",
     "text": [
      "1605\n",
      "{'Q9UKK9', 'Q9NSE4', 'P18669', 'Q93052', 'Q00688', 'P52701', 'P13693', 'Q8WUM4', 'O00622', 'P62937', 'P35658', 'Q9GZZ9', 'Q9BTE6', 'O75828', 'Q9UDR5', 'O75521', 'O00487', 'Q9Y263', 'P30626', 'Q9Y678', 'Q9H3P2', 'P21980', 'Q9NQZ5', 'O95628', 'P28838', 'Q13526', 'Q15813', 'Q96C36', 'Q9UNW1', 'Q2TAA2', 'Q15067', 'Q9UBR2', 'P62917', 'P36578', 'P43155', 'P80297', 'Q9Y285', 'O60271', 'Q969T4', 'P04083', 'P23610', 'Q9H081', 'Q00535', 'Q8WWM7', 'P61081', 'Q6UB35', 'P62318', 'P49366', 'P06132', 'O15357', 'Q14789', 'Q9H5V9', 'Q5JVF3', 'Q15942', 'P07237', 'P68104', 'Q14697', 'Q9NYL9', 'O75122', 'O60232', 'P31937', 'Q10567', 'P51531', 'P23528', 'Q9NZN4', 'P33992', 'P34897', 'P30084', 'P00492', 'P54819', 'O15372', 'P36959', 'P49005', 'Q8NFX7', 'Q92841', 'Q7Z4G1', 'P04040', 'P51665', 'P30153', 'P45880', 'P11586', 'Q9BYX2', 'P52657', 'Q9UJF2', 'P78417', 'Q9Y5X2', 'O43172', 'P49720', 'P30520', 'P58546', 'Q9NUY8', 'Q9H0C8', 'Q9UBW8', 'P23368', 'Q9NQC3', 'Q96RL1', 'O43815', 'P32119', 'P07814', 'Q9NR46', 'Q9BYG5', 'P06737', 'Q15370', 'Q9Y265', 'P28074', 'P63244', 'P61758', 'Q92900', 'Q9NZZ3', 'Q15645', 'Q9Y3C6', 'P63146', 'P15104', 'P04049', 'Q00013', 'P22061', 'Q53GQ0', 'Q15417', 'P17812', 'Q7LG56', 'O00159', 'P35268', 'Q9Y5L0', 'Q04760', 'Q01658', 'P37837', 'P09936', 'Q53H82', 'Q5SW96', 'P46734', 'O43175', 'Q96PK6', 'P43686', 'Q15208', 'P00367', 'P34932', 'P27695', 'Q86VP6', 'O60763', 'Q13572', 'Q99627', 'Q9NVA2', 'Q02809', 'P06730', 'P20839', 'P32320', 'Q96BD8', 'P05388', 'Q9NR12', 'Q96I24', 'Q6QNY1', 'Q86XP3', 'P78406', 'P49588', 'Q9H2M9', 'O15260', 'Q14839', 'O75251', 'P05161', 'Q9NPD8', 'Q9Y4X0', 'Q14318', 'Q99757', 'Q99832', 'Q9HCC0', 'P56192', 'O95059', 'Q9Y315', 'Q9GZU8', 'Q8N9N8', 'Q9HB90', 'P20810', 'P50395', 'P12814', 'Q96QC0', 'Q9NSD9', 'P51946', 'O00232', 'P46776', 'Q9NRG0', 'Q8NFQ8', 'Q96HE7', 'Q6P1J9', 'O94979', 'P52630', 'Q15121', 'P52272', 'Q12931', 'P43034', 'P00813', 'Q15393', 'Q2NL82', 'O60942', 'P26440', 'Q16762', 'Q9NYF8', 'P13797', 'Q9BSD7', 'Q9Y5K6', 'P61088', 'Q9H3K6', 'Q96EV2', 'Q8IUI8', 'Q9BZZ5', 'Q5H9R7', 'Q92556', 'Q06323', 'Q96IY1', 'Q96T76', 'P48444', 'Q9ULC4', 'P08133', 'O14964', 'O75832', 'P09417', 'Q9NR31', 'Q15365', 'Q96ST2', 'Q9UHD1', 'Q9GZT9', 'Q9Y243', 'P50135', 'P46109', 'Q9H814', 'P09914', 'P08397', 'Q9UH65', 'Q16740', 'P36954', 'Q9NV56', 'P62280', 'O94851', 'P52306', 'Q9Y376', 'P04818', 'O43747', 'Q08378', 'Q96S55', 'Q9NPA8', 'Q15437', 'Q96D46', 'Q9NZT2', 'P12081', 'Q16718', 'Q14232', 'Q9Y5A7', 'P36542', 'P09543', 'P53004', 'P84085', 'Q6XZF7', 'P07954', 'P51003', 'Q5VYK3', 'P63000', 'Q96CV9', 'P52948', 'O75223', 'Q96AB3', 'Q5JRX3', 'Q6FI81', 'Q96QK1', 'P09960', 'Q13642', 'Q9HB40', 'Q9Y305', 'P53634', 'Q14152', 'Q96FW1', 'Q9UK41', 'Q96I99', 'Q92614', 'P30044', 'P31947', 'Q9P258', 'P38606', 'Q00765', 'Q15120', 'Q5TBB1', 'Q9BZG1', 'Q9P2X3', 'P27824', 'P63279', 'P63010', 'Q9BY42', 'O60671', 'Q5SRE5', 'P40306', 'P04179', 'P04632', 'Q08380', 'P51812', 'P12694', 'Q00796', 'P36551', 'Q9NQ88', 'Q13310', 'Q7L014', 'Q9Y5Y2', 'Q14738', 'Q13439', 'P38646', 'P49790', 'Q9UKI8', 'P35580', 'Q96SZ5', 'P01033', 'P62191', 'O00264', 'P61513', 'Q15398', 'P15927', 'Q16531', 'Q06481', 'Q99615', 'P42126', 'P46937', 'Q9UPY8', 'Q5VZF2', 'O60716', 'Q02878', 'P51970', 'Q15418', 'Q9BT09', 'Q13428', 'P78527', 'Q14696', 'Q99798', 'Q71U36', 'O60841', 'P50579', 'Q9Y224', 'O60610', 'Q99714', 'Q8N392', 'A0AVT1', 'P43243', 'P43246', 'P62753', 'P36776', 'Q02252', 'P15121', 'P45974', 'Q16527', 'Q7L576', 'P13798', 'P30837', 'P50914', 'O95456', 'Q03169', 'Q8TD16', 'Q15003', 'P62987', 'Q13620', 'P36969', 'Q5VIR6', 'Q8NC51', 'P82912', 'Q6YN16', 'P48556', 'Q7RTV0', 'P31146', 'O15371', 'Q13564', 'P31350', 'Q15286', 'Q53H96', 'Q9BVA1', 'Q8NFH8', 'Q9UL12', 'P09622', 'Q6NXT1', 'Q93008', 'P62829', 'Q5T4S7', 'P68366', 'O75934', 'O75348', 'Q99439', 'P14625', 'Q05639', 'P41250', 'Q9Y333', 'Q92747', 'Q9Y3D5', 'P00505', 'Q9NVS9', 'Q9Y223', 'Q96IZ6', 'Q8IXH7', 'P13489', 'P11216', 'O75616', 'P10620', 'Q9BSH5', 'P28482', 'P62266', 'P60953', 'P09211', 'Q9BWU0', 'Q13596', 'P53350', 'O43913', 'P53602', 'Q6L8Q7', 'O60488', 'Q9BW61', 'Q13200', 'Q8WWY3', 'Q9P1F3', 'P52907', 'P18858', 'P14324', 'Q99873', 'O75190', 'P23919', 'P50991', 'P62910', 'P06744', 'Q86TG7', 'Q99497', 'P62942', 'Q9NR45', 'Q9BV57', 'Q9UBE0', 'Q9BTE3', 'Q01433', 'P53597', 'Q15637', 'A6NDG6', 'Q14683', 'Q9Y3B2', 'P62837', 'P02545', 'P05067', 'P42224', 'P08758', 'Q9UHY7', 'Q9GZT3', 'O94760', 'Q9BT78', 'P42575', 'P34896', 'Q08257', 'P07339', 'Q5SW79', 'Q96MF7', 'P07900', 'P23396', 'Q7L5D6', 'Q71RC2', 'Q13451', 'Q14203', 'Q14192', 'P49207', 'Q9Y6G9', 'Q9UL45', 'P41236', 'P29401', 'Q9NRL3', 'Q9UBB4', 'Q9UHD8', 'Q15428', 'P07996', 'O14980', 'Q9Y3B4', 'P10599', 'Q9BY32', 'P40925', 'P51553', 'Q9BW85', 'P00338', 'P18124', 'O75947', 'O60504', 'Q9UQ13', 'P62136', 'P35579', 'Q9H3U1', 'P15153', 'Q14247', 'Q9BQS8', 'Q14847', 'O43447', 'P41252', 'P13984', 'Q9H9J2', 'Q14204', 'Q13509', 'Q9Y3Z3', 'O75400', 'O95994', 'P07858', 'Q9UJW0', 'P12277', 'P61313', 'Q13155', 'P25788', 'O00151', 'Q9NUG6', 'Q6JBY9', 'O75962', 'Q96KB5', 'P62879', 'O95757', 'P63104', 'Q13325', 'O14776', 'Q8TC07', 'P23434', 'Q9Y3C4', 'Q9Y2X7', 'O14733', 'Q9H2U2', 'P61011', 'O75874', 'Q7Z6Z7', 'P28340', 'Q9H4A4', 'O95359', 'P31323', 'Q9BZQ8', 'Q6UN15', 'P10644', 'Q9Y570', 'Q9Y617', 'Q9UKG1', 'Q9HD26', 'P13716', 'Q96A49', 'P05198', 'Q8N999', 'P37802', 'Q9NR56', 'Q15366', 'Q92499', 'P63208', 'P07437', 'Q9HC38', 'P51991', 'P63165', 'P25787', 'P51878', 'P32780', 'Q14966', 'O43592', 'P61106', 'Q9NVX0', 'Q00839', 'O14618', 'P48735', 'P78344', 'P08670', 'Q9BY77', 'Q9UJV9', 'Q16854', 'Q00534', 'P18621', 'Q9NZB2', 'Q96RP9', 'P60228', 'P39023', 'Q7KZF4', 'Q8N1G2', 'Q14141', 'P46782', 'O75822', 'Q9UHI6', 'P62263', 'Q9Y266', 'Q8IWS0', 'Q9NUU7', 'P60660', 'Q13838', 'P11177', 'O75390', 'Q9NVG8', 'P52565', 'Q8N556', 'Q03001', 'Q7L5Y9', 'O75717', 'Q9UKL0', 'P49773', 'Q9BQ61', 'Q68E01', 'P51610', 'Q6NYC8', 'P47755', 'Q9BX40', 'P60604', 'Q9NQR4', 'P60709', 'P52566', 'Q08J23', 'Q14019', 'Q9BXP5', 'P14678', 'O75175', 'Q8NCF5', 'P61289', 'Q16630', 'O75928', 'P31948', 'O00148', 'O95373', 'P21399', 'Q9Y3I0', 'P55957', 'Q9Y383', 'P13667', 'Q9NW64', 'P12004', 'P04062', 'Q15369', 'Q96EY4', 'P27694', 'O43707', 'P32322', 'Q15691', 'O43719', 'P13639', 'P35270', 'P41091', 'P06493', 'P50454', 'Q9NPA3', 'Q8IWX8', 'O14879', 'Q01082', 'P84243', 'P21266', 'Q12996', 'P06733', 'P62244', 'O43264', 'Q14240', 'Q9NZL4', 'O15446', 'Q9Y281', 'Q9H6T3', 'Q14166', 'P13929', 'Q9UL25', 'P21964', 'Q5VTR2', 'O14641', 'Q4G0N4', 'Q9BUF5', 'P07203', 'Q99961', 'Q9BUK6', 'P24928', 'Q9Y6C9', 'P55084', 'P53396', 'P19623', 'Q9BWD1', 'Q9UJX3', 'P46777', 'O00244', 'Q9GZV4', 'Q86U44', 'Q96MX6', 'Q9NQY0', 'Q13011', 'Q16851', 'Q9ULW3', 'P25786', 'P26641', 'Q86SX6', 'Q9H0W9', 'Q93009', 'P28065', 'P49748', 'P30086', 'Q16543', 'P18031', 'P36507', 'O75391', 'Q8WTW3', 'O95295', 'Q9Y6I3', 'P51858', 'Q00610', 'P47756', 'P42677', 'P04181', 'P24752', 'P49915', 'P16333', 'Q96JB2', 'Q9Y530', 'Q96HC4', 'P07741', 'O76003', 'Q7Z5L9', 'P62241', 'Q9Y2L1', 'Q96EY5', 'Q9Y6K9', 'P04637', 'P31689', 'P35244', 'Q9BXJ9', 'Q6P587', 'P42330', 'Q15056', 'P19338', 'P20248', 'Q9H6S3', 'P50502', 'P08134', 'O14950', 'O94925', 'Q9Y3D2', 'P61978', 'O43390', 'P04183', 'O75410', 'O43491', 'Q99536', 'Q9NR19', 'Q9NV35', 'O95817', 'P21912', 'Q01518', 'Q15021', 'Q15042', 'Q92621', 'O14773', 'Q14103', 'P26196', 'Q13418', 'P11142', 'P48507', 'Q9Y2X3', 'Q99638', 'O95232', 'O00267', 'O43488', 'Q96IJ6', 'Q9UI30', 'P12429', 'P49327', 'Q16576', 'P62258', 'O75351', 'Q5VWZ2', 'Q96KP4', 'P42765', 'Q8TD19', 'P11413', 'O95159', 'P24941', 'P09234', 'P10155', 'P00568', 'Q14566', 'Q8IUR0', 'P46379', 'Q15118', 'O95551', 'P33991', 'O60551', 'Q5VZ89', 'Q9BRA2', 'Q9UKX7', 'P53992', 'Q13185', 'Q9Y262', 'P25789', 'Q9H773', 'P15531', 'Q86YS7', 'P50990', 'Q16644', 'Q99471', 'Q6WCQ1', 'Q09028', 'O95336', 'Q8N1F7', 'O00469', 'P49770', 'P60842', 'O43237', 'P26447', 'Q9H3M7', 'O43143', 'Q9NRF9', 'O15144', 'P62913', 'Q9Y6X8', 'Q5R3I4', 'Q9BXS6', 'Q5TFE4', 'P01892', 'Q15785', 'Q8WX93', 'O14818', 'P49591', 'O60568', 'Q13283', 'P67775', 'Q9BWJ5', 'Q96C19', 'P20290', 'P63167', 'P55072', 'Q9H299', 'P62888', 'Q16666', 'Q06203', 'P33316', 'O75935', 'P33176', 'P46779', 'P55786', 'Q9UM22', 'Q01469', 'Q92665', 'O94903', 'Q13617', 'Q16836', 'O75815', 'P21333', 'P25205', 'Q9UL46', 'Q9UKN8', 'Q14149', 'P43403', 'Q9UEW8', 'P19367', 'Q9P0L0', 'Q9HBM1', 'P00491', 'Q15643', 'P30876', 'P17987', 'O95816', 'P42704', 'P27348', 'Q9P289', 'P02795', 'Q8TDX7', 'P28066', 'P30740', 'O94855', 'Q712K3', 'Q9NUQ8', 'P30048', 'P35998', 'Q9Y696', 'P56377', 'Q9NWV8', 'P55209', 'Q9H993', 'Q9Y4L1', 'Q9BWT6', 'Q86UY8', 'P45985', 'P26358', 'P49840', 'P26639', 'Q8IVM0', 'P42166', 'Q9ULV4', 'P61964', 'Q9ULP9', 'Q9UPQ0', 'O95163', 'P12270', 'O00764', 'Q9P0V9', 'P07195', 'Q13347', 'P11498', 'Q9BX68', 'Q9NPF4', 'P35250', 'P48059', 'Q07021', 'Q92945', 'Q9NZN5', 'P62487', 'O75643', 'P50995', 'P49959', 'Q6DCA0', 'P68036', 'P28702', 'Q9P2E9', 'O00299', 'O15355', 'O60832', 'Q7L2H7', 'Q13131', 'Q6P2Q9', 'O14561', 'P62195', 'P41743', 'P52788', 'Q6P2I3', 'P61086', 'P62249', 'O43813', 'O60701', 'P62140', 'Q9UJ70', 'P30405', 'P35611', 'P61158', 'P49903', 'Q86V21', 'P83916', 'Q92973', 'P15311', 'Q13501', 'Q14315', 'Q6PI48', 'Q92888', 'Q92616', 'Q96EP5', 'P61247', 'Q9UNM6', 'Q9P2R7', 'Q96AE4', 'Q9UGI8', 'P49902', 'P17844', 'P04075', 'P61927', 'Q13630', 'P52888', 'O15269', 'Q9NZL9', 'P53621', 'P07737', 'Q06546', 'P32969', 'Q9UQ80', 'P08237', 'Q14974', 'Q15181', 'Q8N0X7', 'Q13643', 'Q07020', 'Q9BWM7', 'Q9BVP2', 'O60884', 'O00541', 'Q01844', 'P26583', 'Q9NQG5', 'Q07666', 'P29034', 'O75821', 'Q9H4A6', 'P41567', 'P13010', 'Q08211', 'P23284', 'P62979', 'P46063', 'Q96N67', 'Q8NBF2', 'P17858', 'Q9H4M9', 'P49589', 'O95747', 'Q9UKV3', 'P25208', 'P30566', 'P51149', 'Q8IU81', 'Q92552', 'Q9BPX3', 'P36871', 'Q14653', 'O60664', 'P50479', 'Q15046', 'Q9HAV7', 'Q92878', 'P19784', 'Q9NT62', 'P04843', 'O94776', 'P61077', 'P49368', 'P16885', 'P52209', 'Q13148', 'P61970', 'O00231', 'Q96KQ7', 'P55036', 'P60891', 'O75083', 'Q15424', 'Q9H9A6', 'O95833', 'Q9BQ15', 'O95372', 'Q99829', 'Q5T440', 'P50552', 'P25705', 'Q29RF7', 'Q06587', 'O60784', 'P33240', 'Q12849', 'Q9UN37', 'Q13158', 'O43776', 'Q9BXW7', 'Q96I25', 'Q16875', 'Q96NY7', 'P23381', 'P60900', 'Q12974', 'Q6IBS0', 'P50213', 'O75150', 'P10515', 'O95571', 'P53384', 'Q9UDY2', 'Q92905', 'P09104', 'Q9BQ52', 'Q9HD42', 'P38117', 'Q8WV24', 'P50453', 'P49189', 'Q9BZX2', 'P05023', 'O95758', 'P51668', 'P06400', 'Q9Y277', 'Q9Y490', 'P00558', 'O14617', 'O15235', 'P61966', 'O75131', 'P30622', 'P40123', 'Q9Y4X5', 'Q13561', 'Q9NRV9', 'Q8WU90', 'P62851', 'Q8IY67', 'P12268', 'Q9Y3C8', 'Q96IZ0', 'P14174', 'Q96GG9', 'P35606', 'P12236', 'Q15020', 'Q8WXF1', 'Q01813', 'Q14005', 'Q12905', 'P61160', 'P55010', 'Q14376', 'Q16698', 'O43242', 'P08729', 'O60216', 'P49458', 'Q04917', 'Q6P996', 'Q8NCW5', 'O95881', 'Q9Y296', 'Q9NVC6', 'Q4V328', 'O95071', 'Q9Y618', 'O76094', 'Q13085', 'P48047', 'O43396', 'P14866', 'P13861', 'Q8TDP1', 'Q13619', 'P13804', 'Q13363', 'P26368', 'Q9Y3D0', 'P26038', 'P62906', 'O00170', 'P55265', 'Q9UMS4', 'P53041', 'Q9NTJ3', 'P41227', 'Q9NTK5', 'Q9Y3B7', 'P09661', 'Q8IY18', 'O95999', 'Q96JH7', 'P05455', 'Q7L8L6', 'Q99661', 'P10809', 'Q92990', 'Q15599', 'Q9NWU1', 'Q92922', 'P30050', 'Q9BR76', 'O14979', 'O43708', 'P20618', 'P27708', 'Q02790', 'Q9NPH0', 'P60981', 'Q96DE5', 'Q70E73', 'Q14061', 'O95639', 'P22087', 'P05386', 'Q9BZQ6', 'P52564', 'Q15819', 'P27816', 'P31040', 'P48739', 'Q7L0Y3', 'P55039', 'Q9P287', 'Q06330', 'Q96KG9', 'Q8N4X5', 'Q06830', 'Q15008', 'Q96RU2', 'P67936', 'P62633', 'Q9H0D6', 'P60903', 'P62333', 'Q96G03', 'Q9UKF6', 'Q8IVH4', 'P22102', 'Q07960', 'P36873', 'P13674', 'P47897', 'O43684', 'Q9HB71', 'Q86UP2', 'P54578', 'Q96CM8', 'P62304', 'P62993', 'P42167', 'P35568', 'Q9Y6A5', 'P48643', 'P55263', 'Q9NTX5', 'P24844', 'Q9NVE7', 'Q15149', 'O43765', 'P23193', 'Q8WYJ6', 'Q9HA64', 'Q7L1Q6', 'P31949', 'Q02543', 'P52789', 'P46736', 'Q14008', 'P11021', 'Q9UNF1', 'Q12906', 'P84077', 'O75663', 'O14777', 'Q9NY27', 'Q15306', 'P10398', 'Q9UM54', 'Q8WVJ2', 'P49023', 'Q14C86', 'Q86U42', 'Q9H845', 'Q86V48', 'Q8NFH5', 'P11310', 'O96019', 'P40937', 'Q15080', 'Q70J99', 'Q9UG63', 'P52292', 'Q13045', 'Q6NVY1', 'Q16763', 'Q9BTZ2', 'Q86TI2', 'Q12904', 'Q16555', 'Q9UJU6', 'P43490', 'O75909', 'P55060', 'Q99538', 'Q9Y5R8', 'Q05519', 'Q9C0B1', 'O00303', 'P61586', 'P35659', 'P23246', 'Q9H3P7', 'Q9UMS0', 'Q13057', 'P60983', 'Q5U5X0', 'Q9GZS1', 'P14618', 'Q9Y230', 'Q9Y2S7', 'Q9Y2Z0', 'O14933', 'Q9BVL2', 'Q96F86', 'Q9Y4E8', 'Q9UHX1', 'Q13573', 'P55769', 'Q9BTE1', 'Q9NP61', 'P14735', 'Q12933', 'O75369', 'P40926', 'Q8NDI1', 'Q92947', 'Q13126', 'P10619', 'P22059', 'Q04724', 'Q99426', 'Q9H2G2', 'P55795', 'Q07866', 'P11766', 'O94906', 'Q9UHB9', 'P63151', 'Q969Z0', 'Q12874', 'Q9UHB6', 'P49721', 'P61221', 'Q9NYV4', 'Q9UGP4', 'Q9NP81', 'P51148', 'P40222', 'P22033', 'Q7Z4W1', 'Q9UBQ0', 'Q05932', 'Q8TBC4', 'Q15061', 'Q16222', 'Q09666', 'O15382', 'Q9ULZ3', 'P09382', 'P55884', 'O75534', 'Q2VPK5', 'O95340', 'P43487', 'Q13523', 'Q13435', 'P29692', 'P55735', 'P40227', 'Q9BV79', 'Q9NRZ9', 'P35754', 'Q00653', 'Q14914', 'P18754', 'Q9BS26', 'O76031', 'P40121', 'P14868', 'Q00325', 'Q13162', 'P31939', 'P48147', 'Q9UPN9', 'P22234', 'P55212', 'P11172', 'Q96RU3', 'P27797', 'P07602', 'Q04637', 'Q9NVX2', 'Q15631', 'Q5VUJ6', 'Q9BRF8', 'Q13425', 'P30101', 'Q9H3H3', 'Q13547', 'Q15185', 'Q99567', 'P08621', 'Q92598', 'Q9NRH3', 'Q86X76', 'P17655', 'Q9NTZ6', 'P84090', 'Q86WR0', 'Q9NZ08', 'P62312', 'Q969T9', 'P31153', 'Q9GZP4', 'Q9Y312', 'P49411', 'O60493', 'P40261', 'P60866', 'Q969U7', 'Q969E4', 'P16152', 'Q96C86', 'P54886', 'O14744', 'O60828', 'P22307', 'P30519', 'Q9P2J5', 'P01871', 'O14936', 'Q9NZ09', 'Q99598', 'Q96FJ2', 'Q53EZ4', 'P61163', 'P53618', 'P49792', 'P51617', 'P62701', 'P54577', 'Q04446', 'Q9UNI6', 'Q14151', 'P55809', 'O75531', 'P31751', 'O43324', 'A9UHW6', 'Q13557', 'P09651', 'P40939', 'O95347', 'Q92538', 'P39748', 'Q15084', 'A5YKK6', 'Q96KP1', 'O95067', 'P08240', 'Q9Y3A3', 'P22830', 'Q13263', 'Q9Y2T2', 'O60234', 'P62857', 'Q16270', 'Q9Y3F4', 'P0CW22', 'Q99460', 'P49753', 'Q8NBS9', 'Q9UNH7', 'Q9Y2R9', 'P31749', 'Q09161', 'Q93034', 'P11940', 'O43294', 'Q5T1V6', 'P31150', 'P30040', 'Q8WXI9', 'Q9P2D3', 'O00442', 'O00571', 'Q8TCG1', 'Q9P0J1', 'Q02750', 'Q9UKU7', 'Q9H1K1', 'P15880', 'P52597', 'Q9NUP9', 'P62273', 'Q16186', 'O75347', 'Q06210', 'Q16181', 'P50570', 'Q13618', 'Q92769', 'Q8IXK0', 'Q2M389', 'O95486', 'P84103', 'Q09472', 'O95433', 'Q9H832', 'P07384', 'Q13813', 'P35241', 'O94915', 'P68431', 'P39687', 'Q15233', 'P21291', 'O00762', 'O15145', 'P78346', 'P33993', 'P32321', 'Q13404', 'Q96C01', 'Q9UPN3', 'P63220', 'P25398', 'Q9UBQ7', 'P11387', 'P31943', 'Q14980', 'O43929', 'Q9Y2Q3', 'P49736', 'P49756', 'P62873', 'P46940', 'Q8TAF3', 'Q8WXH0', 'P31946', 'Q9UHQ1', 'P11182', 'O00743', 'P35237', 'O95229', 'P10768', 'P11908', 'P46060', 'O95573', 'Q99447', 'P27144', 'P49321', 'P22626', 'Q9HAV4', 'P24534', 'P54687', 'Q16881', 'Q15459', 'P83731', 'Q9NYK5', 'Q92597', 'O15143', 'P62316', 'Q9UBQ5', 'Q9Y3B8', 'P27635', 'Q6PJT7', 'P08559', 'P21281', 'Q9Y6E0', 'Q15654', 'Q9H4B0', 'Q9Y676', 'O75533', 'P78371', 'Q9UPR0', 'Q6NUK1', 'Q8NBJ5', 'O60921', 'P78347', 'P23921', 'Q00341', 'P15170', 'P23588', 'Q96E11', 'Q8TF05', 'Q92576', 'P07355', 'Q9BSH4', 'O00410', 'Q56VL3', 'Q86U90', 'Q9UBT2', 'P68402', 'P22314', 'Q7L5N1', 'Q9UK45', 'P09497', 'Q9BPW8', 'Q13303', 'P30042', 'Q92575', 'P30041', 'Q06124', 'O00233', 'P37235', 'O43865', 'P37198', 'O95394', 'O00154', 'P25325', 'O60506', 'P13796', 'Q8NHV4', 'Q14258', 'Q969Y2', 'Q6P9B6', 'Q96PU8', 'Q8NE71', 'P18085', 'Q9H223', 'Q9BZD4', 'P16035', 'P35914', 'P35637', 'Q86WA6', 'Q8N163', 'Q86UX7', 'O75439', 'P45954', 'O75718', 'Q8ND24', 'P13995', 'P28799', 'Q92797', 'O96013', 'Q16877', 'P23526', 'Q96RS6', 'Q9BZK7', 'Q9Y314', 'Q9NUQ9', 'Q6DKI1', 'P09429', 'P09110', 'Q15019', 'P18615', 'Q6IS14', 'Q9BSJ8', 'P62330', 'Q99436', 'O43414', 'O43837', 'Q92688', 'Q96RN5', 'P26599', 'P59998', 'Q9H910', 'Q92879', 'Q99496', 'Q15102', 'P36405', 'Q5VT52', 'P08243', 'P17980', 'P42574', 'O14579', 'Q9UBV8', 'A6NDU8', 'O95376', 'O15460', 'Q8WYP5', 'P61981'}\n"
     ]
    }
   ],
   "source": [
    "# ALL SHARED IDS in C and K\n",
    "sharedck = allc_id & allk_id\n",
    "print(len(sharedck))\n",
    "print(sharedck)"
   ]
  },
  {
   "cell_type": "code",
   "execution_count": 13,
   "metadata": {},
   "outputs": [
    {
     "data": {
      "text/html": [
       "<div>\n",
       "<style scoped>\n",
       "    .dataframe tbody tr th:only-of-type {\n",
       "        vertical-align: middle;\n",
       "    }\n",
       "\n",
       "    .dataframe tbody tr th {\n",
       "        vertical-align: top;\n",
       "    }\n",
       "\n",
       "    .dataframe thead th {\n",
       "        text-align: right;\n",
       "    }\n",
       "</style>\n",
       "<table border=\"1\" class=\"dataframe\">\n",
       "  <thead>\n",
       "    <tr style=\"text-align: right;\">\n",
       "      <th></th>\n",
       "      <th>pos_ID</th>\n",
       "      <th>labelType</th>\n",
       "      <th>ID</th>\n",
       "      <th>11_2012_detectedID</th>\n",
       "      <th>found_pos_ID</th>\n",
       "      <th>allPOSITIONS_found</th>\n",
       "    </tr>\n",
       "  </thead>\n",
       "  <tbody>\n",
       "    <tr>\n",
       "      <th>0</th>\n",
       "      <td>A0AVT1_K1014</td>\n",
       "      <td>IodoL</td>\n",
       "      <td>A0AVT1</td>\n",
       "      <td>True</td>\n",
       "      <td>True</td>\n",
       "      <td>False</td>\n",
       "    </tr>\n",
       "  </tbody>\n",
       "</table>\n",
       "</div>"
      ],
      "text/plain": [
       "         pos_ID labelType      ID  11_2012_detectedID  found_pos_ID  \\\n",
       "0  A0AVT1_K1014     IodoL  A0AVT1                True          True   \n",
       "\n",
       "  allPOSITIONS_found  \n",
       "0              False  "
      ]
     },
     "execution_count": 13,
     "metadata": {},
     "output_type": "execute_result"
    }
   ],
   "source": [
    "kpan.head(1)"
   ]
  },
  {
   "cell_type": "code",
   "execution_count": 14,
   "metadata": {},
   "outputs": [
    {
     "data": {
      "text/html": [
       "<div>\n",
       "<style scoped>\n",
       "    .dataframe tbody tr th:only-of-type {\n",
       "        vertical-align: middle;\n",
       "    }\n",
       "\n",
       "    .dataframe tbody tr th {\n",
       "        vertical-align: top;\n",
       "    }\n",
       "\n",
       "    .dataframe thead th {\n",
       "        text-align: right;\n",
       "    }\n",
       "</style>\n",
       "<table border=\"1\" class=\"dataframe\">\n",
       "  <thead>\n",
       "    <tr style=\"text-align: right;\">\n",
       "      <th></th>\n",
       "      <th>pos_ID</th>\n",
       "      <th>reactivity</th>\n",
       "      <th>ID</th>\n",
       "      <th>11_2012_detectedID</th>\n",
       "      <th>found_pos_ID</th>\n",
       "      <th>allPOSITIONS_found</th>\n",
       "    </tr>\n",
       "  </thead>\n",
       "  <tbody>\n",
       "    <tr>\n",
       "      <th>0</th>\n",
       "      <td>P52758_K117</td>\n",
       "      <td>0.1</td>\n",
       "      <td>P52758</td>\n",
       "      <td>True</td>\n",
       "      <td>True</td>\n",
       "      <td>False</td>\n",
       "    </tr>\n",
       "  </tbody>\n",
       "</table>\n",
       "</div>"
      ],
      "text/plain": [
       "        pos_ID  reactivity      ID  11_2012_detectedID  found_pos_ID  \\\n",
       "0  P52758_K117         0.1  P52758                True          True   \n",
       "\n",
       "  allPOSITIONS_found  \n",
       "0              False  "
      ]
     },
     "execution_count": 14,
     "metadata": {},
     "output_type": "execute_result"
    }
   ],
   "source": [
    "krea.head(1)"
   ]
  },
  {
   "cell_type": "code",
   "execution_count": 15,
   "metadata": {},
   "outputs": [
    {
     "data": {
      "text/html": [
       "<div>\n",
       "<style scoped>\n",
       "    .dataframe tbody tr th:only-of-type {\n",
       "        vertical-align: middle;\n",
       "    }\n",
       "\n",
       "    .dataframe tbody tr th {\n",
       "        vertical-align: top;\n",
       "    }\n",
       "\n",
       "    .dataframe thead th {\n",
       "        text-align: right;\n",
       "    }\n",
       "</style>\n",
       "<table border=\"1\" class=\"dataframe\">\n",
       "  <thead>\n",
       "    <tr style=\"text-align: right;\">\n",
       "      <th></th>\n",
       "      <th>pos_ID</th>\n",
       "      <th>labelType</th>\n",
       "      <th>ID</th>\n",
       "      <th>11_2012_detectedID</th>\n",
       "      <th>found_pos_ID</th>\n",
       "      <th>allPOSITIONS_found</th>\n",
       "    </tr>\n",
       "  </thead>\n",
       "  <tbody>\n",
       "    <tr>\n",
       "      <th>0</th>\n",
       "      <td>P26641_C266</td>\n",
       "      <td>Iodoacetamide</td>\n",
       "      <td>P26641</td>\n",
       "      <td>True</td>\n",
       "      <td>True</td>\n",
       "      <td>False</td>\n",
       "    </tr>\n",
       "  </tbody>\n",
       "</table>\n",
       "</div>"
      ],
      "text/plain": [
       "        pos_ID      labelType      ID  11_2012_detectedID  found_pos_ID  \\\n",
       "0  P26641_C266  Iodoacetamide  P26641                True          True   \n",
       "\n",
       "  allPOSITIONS_found  \n",
       "0              False  "
      ]
     },
     "execution_count": 15,
     "metadata": {},
     "output_type": "execute_result"
    }
   ],
   "source": [
    "cpan.head(1)"
   ]
  },
  {
   "cell_type": "code",
   "execution_count": 16,
   "metadata": {},
   "outputs": [
    {
     "data": {
      "text/html": [
       "<div>\n",
       "<style scoped>\n",
       "    .dataframe tbody tr th:only-of-type {\n",
       "        vertical-align: middle;\n",
       "    }\n",
       "\n",
       "    .dataframe tbody tr th {\n",
       "        vertical-align: top;\n",
       "    }\n",
       "\n",
       "    .dataframe thead th {\n",
       "        text-align: right;\n",
       "    }\n",
       "</style>\n",
       "<table border=\"1\" class=\"dataframe\">\n",
       "  <thead>\n",
       "    <tr style=\"text-align: right;\">\n",
       "      <th></th>\n",
       "      <th>pos_ID</th>\n",
       "      <th>reactivity</th>\n",
       "      <th>ID</th>\n",
       "      <th>11_2012_detectedID</th>\n",
       "      <th>found_pos_ID</th>\n",
       "      <th>allPOSITIONS_found</th>\n",
       "    </tr>\n",
       "  </thead>\n",
       "  <tbody>\n",
       "    <tr>\n",
       "      <th>0</th>\n",
       "      <td>Q9Y6W6_C177</td>\n",
       "      <td>20.00 1/2/6</td>\n",
       "      <td>Q9Y6W6</td>\n",
       "      <td>True</td>\n",
       "      <td>True</td>\n",
       "      <td>False</td>\n",
       "    </tr>\n",
       "  </tbody>\n",
       "</table>\n",
       "</div>"
      ],
      "text/plain": [
       "        pos_ID    reactivity      ID  11_2012_detectedID  found_pos_ID  \\\n",
       "0  Q9Y6W6_C177  20.00 1/2/6   Q9Y6W6                True          True   \n",
       "\n",
       "  allPOSITIONS_found  \n",
       "0              False  "
      ]
     },
     "execution_count": 16,
     "metadata": {},
     "output_type": "execute_result"
    }
   ],
   "source": [
    "crea.head(1)\n",
    "# BACK TO RESIDUE LEVEL COUNTING..."
   ]
  },
  {
   "cell_type": "code",
   "execution_count": 26,
   "metadata": {},
   "outputs": [
    {
     "name": "stdout",
     "output_type": "stream",
     "text": [
      "shape of cever with duplicates:  (7583, 2)\n",
      "shape of kever with duplicates:  (12758, 2)\n"
     ]
    }
   ],
   "source": [
    "# creating ever labeled Cys/lys set for final 2012 data\n",
    "cpan_ever = cpan[['pos_ID', 'ID']]\n",
    "crea_ever = crea[['pos_ID', 'ID']]\n",
    "\n",
    "kpan_ever = kpan[['pos_ID', 'ID']]\n",
    "krea_ever = krea[['pos_ID', 'ID']]\n",
    "\n",
    "# concat df \n",
    "cever = pd.concat([cpan_ever, crea_ever])\n",
    "kever = pd.concat([kpan_ever, krea_ever])\n",
    "\n",
    "print(\"shape of cever with duplicates: \", cever.shape)\n",
    "print(\"shape of kever with duplicates: \", kever.shape)"
   ]
  },
  {
   "cell_type": "code",
   "execution_count": 27,
   "metadata": {},
   "outputs": [
    {
     "data": {
      "text/html": [
       "<div>\n",
       "<style scoped>\n",
       "    .dataframe tbody tr th:only-of-type {\n",
       "        vertical-align: middle;\n",
       "    }\n",
       "\n",
       "    .dataframe tbody tr th {\n",
       "        vertical-align: top;\n",
       "    }\n",
       "\n",
       "    .dataframe thead th {\n",
       "        text-align: right;\n",
       "    }\n",
       "</style>\n",
       "<table border=\"1\" class=\"dataframe\">\n",
       "  <thead>\n",
       "    <tr style=\"text-align: right;\">\n",
       "      <th></th>\n",
       "      <th>pos_ID</th>\n",
       "      <th>ID</th>\n",
       "    </tr>\n",
       "  </thead>\n",
       "  <tbody>\n",
       "    <tr>\n",
       "      <th>0</th>\n",
       "      <td>A0AVT1_K1014</td>\n",
       "      <td>A0AVT1</td>\n",
       "    </tr>\n",
       "    <tr>\n",
       "      <th>1</th>\n",
       "      <td>A0AVT1_K544</td>\n",
       "      <td>A0AVT1</td>\n",
       "    </tr>\n",
       "    <tr>\n",
       "      <th>2</th>\n",
       "      <td>A0AVT1_K86</td>\n",
       "      <td>A0AVT1</td>\n",
       "    </tr>\n",
       "  </tbody>\n",
       "</table>\n",
       "</div>"
      ],
      "text/plain": [
       "         pos_ID      ID\n",
       "0  A0AVT1_K1014  A0AVT1\n",
       "1   A0AVT1_K544  A0AVT1\n",
       "2    A0AVT1_K86  A0AVT1"
      ]
     },
     "execution_count": 27,
     "metadata": {},
     "output_type": "execute_result"
    }
   ],
   "source": [
    "kever.reset_index(drop=True, inplace=True)\n",
    "cever.reset_index(drop=True, inplace=True)\n",
    "kever.head(3)"
   ]
  },
  {
   "cell_type": "code",
   "execution_count": 28,
   "metadata": {},
   "outputs": [],
   "source": [
    "# dropping duplicate positions in file for final ever labeled positions\n",
    "# sorting by pos_ID\n",
    "kever.sort_values(\"pos_ID\", inplace = True) \n",
    "cever.sort_values(\"pos_ID\", inplace = True)\n",
    "  \n",
    "# dropping ALL duplicte values \n",
    "kever.drop_duplicates(subset = \"pos_ID\", keep = 'first', inplace = True) \n",
    "cever.drop_duplicates(subset = \"pos_ID\", keep = 'first', inplace = True) "
   ]
  },
  {
   "cell_type": "code",
   "execution_count": 29,
   "metadata": {},
   "outputs": [
    {
     "name": "stdout",
     "output_type": "stream",
     "text": [
      "(9213, 2)\n",
      "(6404, 2)\n"
     ]
    }
   ],
   "source": [
    "print(kever.shape)\n",
    "print(cever.shape)"
   ]
  },
  {
   "cell_type": "markdown",
   "metadata": {},
   "source": [
    "# [3] format reactivity data - take AVG from list of values - bin LOW-MEDIUM-HIGH\n",
    "\n",
    "describeMe(cpan)\n",
    "print()\n",
    "describeMe(kpan)\n",
    "print()\n",
    "describeMe(crea)\n",
    "print()\n",
    "describeMe(krea)\n",
    "\n",
    "print(kever.shape)\n",
    "print(cever.shape)"
   ]
  },
  {
   "cell_type": "code",
   "execution_count": 37,
   "metadata": {},
   "outputs": [
    {
     "data": {
      "text/plain": [
       "pos_ID                object\n",
       "reactivity            object\n",
       "ID                    object\n",
       "11_2012_detectedID      bool\n",
       "found_pos_ID            bool\n",
       "allPOSITIONS_found    object\n",
       "dtype: object"
      ]
     },
     "execution_count": 37,
     "metadata": {},
     "output_type": "execute_result"
    }
   ],
   "source": [
    "crea.dtypes"
   ]
  },
  {
   "cell_type": "code",
   "execution_count": 41,
   "metadata": {},
   "outputs": [],
   "source": [
    "def avg_reactivity(df):\n",
    "    # turning series into list\n",
    "    listCreact = list(df.reactivity)\n",
    "    # turning list into list of lists\n",
    "    llcreact = [x.split() for x in listCreact]\n",
    "    # removed last index of sublist which contained the / value\n",
    "    for sublist in llcreact:\n",
    "        del sublist[-1]\n",
    "    # getting average of lists in list\n",
    "    avgg = []\n",
    "    for sublist in llcreact:\n",
    "        test_list = [float(i) for i in sublist]\n",
    "        s = sum(test_list)\n",
    "        l = len(sublist)\n",
    "        a = s/l\n",
    "        avgg.append(a)\n",
    "    # formating decimal place\n",
    "    avgf = [\"{0:.2f}\".format(x) for x in avgg]\n",
    "    print(\"shape of df: \", df.shape)\n",
    "    print(\"shape of averaged column: \", len(avgf))\n",
    "    # convert this into a column for CreactTRUE df\n",
    "    avgR = pd.DataFrame(np.array(avgf).reshape(-1, 1))\n",
    "    avgR.columns = ['avgReactivity']\n",
    "    df2 = pd.concat([df, avgR], axis=1)\n",
    "    df3 = df2[['pos_ID', 'avgReactivity']].copy()\n",
    "    return df3"
   ]
  },
  {
   "cell_type": "code",
   "execution_count": 43,
   "metadata": {},
   "outputs": [
    {
     "name": "stdout",
     "output_type": "stream",
     "text": [
      "shape of df:  (1458, 6)\n",
      "shape of averaged column:  1458\n"
     ]
    },
    {
     "data": {
      "text/html": [
       "<div>\n",
       "<style scoped>\n",
       "    .dataframe tbody tr th:only-of-type {\n",
       "        vertical-align: middle;\n",
       "    }\n",
       "\n",
       "    .dataframe tbody tr th {\n",
       "        vertical-align: top;\n",
       "    }\n",
       "\n",
       "    .dataframe thead th {\n",
       "        text-align: right;\n",
       "    }\n",
       "</style>\n",
       "<table border=\"1\" class=\"dataframe\">\n",
       "  <thead>\n",
       "    <tr style=\"text-align: right;\">\n",
       "      <th></th>\n",
       "      <th>pos_ID</th>\n",
       "      <th>reactivity</th>\n",
       "    </tr>\n",
       "  </thead>\n",
       "  <tbody>\n",
       "    <tr>\n",
       "      <th>0</th>\n",
       "      <td>P52758_K117</td>\n",
       "      <td>0.1</td>\n",
       "    </tr>\n",
       "    <tr>\n",
       "      <th>1</th>\n",
       "      <td>P02766_K35</td>\n",
       "      <td>0.1</td>\n",
       "    </tr>\n",
       "    <tr>\n",
       "      <th>2</th>\n",
       "      <td>P51572_K79</td>\n",
       "      <td>0.2</td>\n",
       "    </tr>\n",
       "  </tbody>\n",
       "</table>\n",
       "</div>"
      ],
      "text/plain": [
       "        pos_ID  reactivity\n",
       "0  P52758_K117         0.1\n",
       "1   P02766_K35         0.1\n",
       "2   P51572_K79         0.2"
      ]
     },
     "execution_count": 43,
     "metadata": {},
     "output_type": "execute_result"
    }
   ],
   "source": [
    "creafinal = avg_reactivity(crea)\n",
    "# K does not need to be averaged\n",
    "kreafinal = krea[['pos_ID','reactivity']].copy()\n",
    "kreafinal.head(3)"
   ]
  },
  {
   "cell_type": "code",
   "execution_count": 47,
   "metadata": {},
   "outputs": [
    {
     "data": {
      "text/html": [
       "<div>\n",
       "<style scoped>\n",
       "    .dataframe tbody tr th:only-of-type {\n",
       "        vertical-align: middle;\n",
       "    }\n",
       "\n",
       "    .dataframe tbody tr th {\n",
       "        vertical-align: top;\n",
       "    }\n",
       "\n",
       "    .dataframe thead th {\n",
       "        text-align: right;\n",
       "    }\n",
       "</style>\n",
       "<table border=\"1\" class=\"dataframe\">\n",
       "  <thead>\n",
       "    <tr style=\"text-align: right;\">\n",
       "      <th></th>\n",
       "      <th>pos_ID</th>\n",
       "      <th>reactivity</th>\n",
       "    </tr>\n",
       "  </thead>\n",
       "  <tbody>\n",
       "    <tr>\n",
       "      <th>0</th>\n",
       "      <td>Q9Y6W6_C177</td>\n",
       "      <td>20.00</td>\n",
       "    </tr>\n",
       "    <tr>\n",
       "      <th>1</th>\n",
       "      <td>Q9Y6M9_C42</td>\n",
       "      <td>5.74</td>\n",
       "    </tr>\n",
       "    <tr>\n",
       "      <th>2</th>\n",
       "      <td>Q9Y6J0_C1197</td>\n",
       "      <td>20.00</td>\n",
       "    </tr>\n",
       "  </tbody>\n",
       "</table>\n",
       "</div>"
      ],
      "text/plain": [
       "         pos_ID reactivity\n",
       "0   Q9Y6W6_C177      20.00\n",
       "1    Q9Y6M9_C42       5.74\n",
       "2  Q9Y6J0_C1197      20.00"
      ]
     },
     "execution_count": 47,
     "metadata": {},
     "output_type": "execute_result"
    }
   ],
   "source": [
    "creafinal.columns = ['pos_ID','reactivity']\n",
    "creafinal.head(3)"
   ]
  },
  {
   "cell_type": "code",
   "execution_count": 48,
   "metadata": {},
   "outputs": [],
   "source": [
    "# changing column types in pandas\n",
    "kreafinal.reactivity = pd.to_numeric(kreafinal.reactivity)\n",
    "creafinal.reactivity = pd.to_numeric(creafinal.reactivity)"
   ]
  },
  {
   "cell_type": "code",
   "execution_count": 49,
   "metadata": {},
   "outputs": [],
   "source": [
    "Cfinalreact = creafinal.sort_values(by=['reactivity'])\n",
    "Kfinalreact = kreafinal.sort_values(by=['reactivity'])"
   ]
  },
  {
   "cell_type": "code",
   "execution_count": 50,
   "metadata": {},
   "outputs": [],
   "source": [
    "allreact = Kfinalreact.append(Cfinalreact,ignore_index=True)"
   ]
  },
  {
   "cell_type": "code",
   "execution_count": 51,
   "metadata": {},
   "outputs": [
    {
     "data": {
      "text/plain": [
       "pos_ID         object\n",
       "reactivity    float64\n",
       "dtype: object"
      ]
     },
     "execution_count": 51,
     "metadata": {},
     "output_type": "execute_result"
    }
   ],
   "source": [
    "allreact.reactivity = pd.to_numeric(allreact.reactivity)\n",
    "allreact.dtypes"
   ]
  },
  {
   "cell_type": "code",
   "execution_count": 52,
   "metadata": {},
   "outputs": [],
   "source": [
    "allreact = allreact.sort_values(by=['reactivity'])\n",
    "allreact.reset_index(drop=True,inplace=True)"
   ]
  },
  {
   "cell_type": "code",
   "execution_count": 53,
   "metadata": {},
   "outputs": [
    {
     "data": {
      "text/html": [
       "<div>\n",
       "<style scoped>\n",
       "    .dataframe tbody tr th:only-of-type {\n",
       "        vertical-align: middle;\n",
       "    }\n",
       "\n",
       "    .dataframe tbody tr th {\n",
       "        vertical-align: top;\n",
       "    }\n",
       "\n",
       "    .dataframe thead th {\n",
       "        text-align: right;\n",
       "    }\n",
       "</style>\n",
       "<table border=\"1\" class=\"dataframe\">\n",
       "  <thead>\n",
       "    <tr style=\"text-align: right;\">\n",
       "      <th></th>\n",
       "      <th>pos_ID</th>\n",
       "      <th>reactivity</th>\n",
       "    </tr>\n",
       "  </thead>\n",
       "  <tbody>\n",
       "    <tr>\n",
       "      <th>0</th>\n",
       "      <td>P52758_K117</td>\n",
       "      <td>0.1</td>\n",
       "    </tr>\n",
       "    <tr>\n",
       "      <th>1</th>\n",
       "      <td>P02766_K35</td>\n",
       "      <td>0.1</td>\n",
       "    </tr>\n",
       "    <tr>\n",
       "      <th>2</th>\n",
       "      <td>P51572_K79</td>\n",
       "      <td>0.2</td>\n",
       "    </tr>\n",
       "    <tr>\n",
       "      <th>3</th>\n",
       "      <td>P60900_K116</td>\n",
       "      <td>0.2</td>\n",
       "    </tr>\n",
       "  </tbody>\n",
       "</table>\n",
       "</div>"
      ],
      "text/plain": [
       "        pos_ID  reactivity\n",
       "0  P52758_K117         0.1\n",
       "1   P02766_K35         0.1\n",
       "2   P51572_K79         0.2\n",
       "3  P60900_K116         0.2"
      ]
     },
     "execution_count": 53,
     "metadata": {},
     "output_type": "execute_result"
    }
   ],
   "source": [
    "allreact.head(4)"
   ]
  },
  {
   "cell_type": "markdown",
   "metadata": {},
   "source": [
    "# [TODO 3] distribution of reactivity in LYS and CYS datasets"
   ]
  },
  {
   "cell_type": "code",
   "execution_count": 54,
   "metadata": {},
   "outputs": [
    {
     "name": "stdout",
     "output_type": "stream",
     "text": [
      "        reactivity\n",
      "count  5959.000000\n",
      "mean      7.423348\n",
      "std       3.173119\n",
      "min       0.100000\n",
      "25%       4.980000\n",
      "50%       8.700000\n",
      "75%      10.000000\n",
      "max      20.000000\n"
     ]
    }
   ],
   "source": [
    "print(allreact.describe())"
   ]
  },
  {
   "cell_type": "code",
   "execution_count": 56,
   "metadata": {},
   "outputs": [],
   "source": [
    "# adding new threshold by old numbers from nature paper      \n",
    "allreact.loc[allreact.reactivity <= 2, 'Threshold'] = 'High' \n",
    "allreact.loc[(allreact.reactivity > 2) & (allreact.reactivity <= 5), 'Threshold'] = 'Medium' \n",
    "allreact.loc[allreact.reactivity > 5, 'Threshold'] = 'Low'\n",
    "\n",
    "# adding new threshold by old numbers from nature paper      \n",
    "Cfinalreact.loc[Cfinalreact.reactivity <= 2, 'Threshold'] = 'High' \n",
    "Cfinalreact.loc[(Cfinalreact.reactivity > 2) & (Cfinalreact.reactivity <= 5), 'Threshold'] = 'Medium' \n",
    "Cfinalreact.loc[Cfinalreact.reactivity > 5, 'Threshold'] = 'Low'\n",
    "\n",
    "# adding new threshold by old numbers from nature paper      \n",
    "Kfinalreact.loc[Kfinalreact.reactivity <= 2, 'Threshold'] = 'High' \n",
    "Kfinalreact.loc[(Kfinalreact.reactivity > 2) & (Kfinalreact.reactivity <= 5), 'Threshold'] = 'Medium' \n",
    "Kfinalreact.loc[Kfinalreact.reactivity > 5, 'Threshold'] = 'Low'"
   ]
  },
  {
   "cell_type": "code",
   "execution_count": 57,
   "metadata": {},
   "outputs": [],
   "source": [
    "from collections import Counter\n",
    "def colvalues(df, col):\n",
    "    countdf = Counter(list(df[col]))\n",
    "    countdic = dict(countdf)\n",
    "    print(countdic)"
   ]
  },
  {
   "cell_type": "code",
   "execution_count": 58,
   "metadata": {},
   "outputs": [
    {
     "name": "stdout",
     "output_type": "stream",
     "text": [
      "{'High': 409, 'Medium': 1108, 'Low': 4442}\n",
      "\n",
      "{'High': 101, 'Medium': 434, 'Low': 923}\n",
      "\n",
      "{'High': 308, 'Medium': 674, 'Low': 3519}\n",
      "\n"
     ]
    }
   ],
   "source": [
    "colvalues(allreact, 'Threshold')\n",
    "print()\n",
    "colvalues(Cfinalreact, 'Threshold')\n",
    "print()\n",
    "colvalues(Kfinalreact, 'Threshold')\n",
    "print()"
   ]
  },
  {
   "cell_type": "markdown",
   "metadata": {},
   "source": [
    "# HIGH MED LOW COUNTS of all reactivity data\n",
    "\n",
    "## {'High': 402, 'Medium': 1118, 'Low': 4476}\n",
    "\n",
    "### HIGH : <= 2\n",
    "### MEDIUM : 2+ & <= 5\n",
    "### LOW : 5+"
   ]
  },
  {
   "cell_type": "code",
   "execution_count": 60,
   "metadata": {},
   "outputs": [
    {
     "data": {
      "text/html": [
       "<div>\n",
       "<style scoped>\n",
       "    .dataframe tbody tr th:only-of-type {\n",
       "        vertical-align: middle;\n",
       "    }\n",
       "\n",
       "    .dataframe tbody tr th {\n",
       "        vertical-align: top;\n",
       "    }\n",
       "\n",
       "    .dataframe thead th {\n",
       "        text-align: right;\n",
       "    }\n",
       "</style>\n",
       "<table border=\"1\" class=\"dataframe\">\n",
       "  <thead>\n",
       "    <tr style=\"text-align: right;\">\n",
       "      <th></th>\n",
       "      <th>reactivity</th>\n",
       "    </tr>\n",
       "  </thead>\n",
       "  <tbody>\n",
       "    <tr>\n",
       "      <th>count</th>\n",
       "      <td>5959.000000</td>\n",
       "    </tr>\n",
       "    <tr>\n",
       "      <th>mean</th>\n",
       "      <td>7.423348</td>\n",
       "    </tr>\n",
       "    <tr>\n",
       "      <th>std</th>\n",
       "      <td>3.173119</td>\n",
       "    </tr>\n",
       "    <tr>\n",
       "      <th>min</th>\n",
       "      <td>0.100000</td>\n",
       "    </tr>\n",
       "    <tr>\n",
       "      <th>25%</th>\n",
       "      <td>4.980000</td>\n",
       "    </tr>\n",
       "    <tr>\n",
       "      <th>50%</th>\n",
       "      <td>8.700000</td>\n",
       "    </tr>\n",
       "    <tr>\n",
       "      <th>75%</th>\n",
       "      <td>10.000000</td>\n",
       "    </tr>\n",
       "    <tr>\n",
       "      <th>max</th>\n",
       "      <td>20.000000</td>\n",
       "    </tr>\n",
       "  </tbody>\n",
       "</table>\n",
       "</div>"
      ],
      "text/plain": [
       "        reactivity\n",
       "count  5959.000000\n",
       "mean      7.423348\n",
       "std       3.173119\n",
       "min       0.100000\n",
       "25%       4.980000\n",
       "50%       8.700000\n",
       "75%      10.000000\n",
       "max      20.000000"
      ]
     },
     "execution_count": 60,
     "metadata": {},
     "output_type": "execute_result"
    }
   ],
   "source": [
    "allreact.describe()"
   ]
  },
  {
   "cell_type": "code",
   "execution_count": 61,
   "metadata": {},
   "outputs": [
    {
     "data": {
      "text/html": [
       "<div>\n",
       "<style scoped>\n",
       "    .dataframe tbody tr th:only-of-type {\n",
       "        vertical-align: middle;\n",
       "    }\n",
       "\n",
       "    .dataframe tbody tr th {\n",
       "        vertical-align: top;\n",
       "    }\n",
       "\n",
       "    .dataframe thead th {\n",
       "        text-align: right;\n",
       "    }\n",
       "</style>\n",
       "<table border=\"1\" class=\"dataframe\">\n",
       "  <thead>\n",
       "    <tr style=\"text-align: right;\">\n",
       "      <th></th>\n",
       "      <th>reactivity</th>\n",
       "    </tr>\n",
       "  </thead>\n",
       "  <tbody>\n",
       "    <tr>\n",
       "      <th>count</th>\n",
       "      <td>4501.000000</td>\n",
       "    </tr>\n",
       "    <tr>\n",
       "      <th>mean</th>\n",
       "      <td>7.908731</td>\n",
       "    </tr>\n",
       "    <tr>\n",
       "      <th>std</th>\n",
       "      <td>3.011084</td>\n",
       "    </tr>\n",
       "    <tr>\n",
       "      <th>min</th>\n",
       "      <td>0.100000</td>\n",
       "    </tr>\n",
       "    <tr>\n",
       "      <th>25%</th>\n",
       "      <td>5.800000</td>\n",
       "    </tr>\n",
       "    <tr>\n",
       "      <th>50%</th>\n",
       "      <td>10.000000</td>\n",
       "    </tr>\n",
       "    <tr>\n",
       "      <th>75%</th>\n",
       "      <td>10.000000</td>\n",
       "    </tr>\n",
       "    <tr>\n",
       "      <th>max</th>\n",
       "      <td>10.000000</td>\n",
       "    </tr>\n",
       "  </tbody>\n",
       "</table>\n",
       "</div>"
      ],
      "text/plain": [
       "        reactivity\n",
       "count  4501.000000\n",
       "mean      7.908731\n",
       "std       3.011084\n",
       "min       0.100000\n",
       "25%       5.800000\n",
       "50%      10.000000\n",
       "75%      10.000000\n",
       "max      10.000000"
      ]
     },
     "execution_count": 61,
     "metadata": {},
     "output_type": "execute_result"
    }
   ],
   "source": [
    "Kfinalreact.describe()"
   ]
  },
  {
   "cell_type": "code",
   "execution_count": 62,
   "metadata": {},
   "outputs": [
    {
     "data": {
      "text/html": [
       "<div>\n",
       "<style scoped>\n",
       "    .dataframe tbody tr th:only-of-type {\n",
       "        vertical-align: middle;\n",
       "    }\n",
       "\n",
       "    .dataframe tbody tr th {\n",
       "        vertical-align: top;\n",
       "    }\n",
       "\n",
       "    .dataframe thead th {\n",
       "        text-align: right;\n",
       "    }\n",
       "</style>\n",
       "<table border=\"1\" class=\"dataframe\">\n",
       "  <thead>\n",
       "    <tr style=\"text-align: right;\">\n",
       "      <th></th>\n",
       "      <th>reactivity</th>\n",
       "    </tr>\n",
       "  </thead>\n",
       "  <tbody>\n",
       "    <tr>\n",
       "      <th>count</th>\n",
       "      <td>1458.000000</td>\n",
       "    </tr>\n",
       "    <tr>\n",
       "      <th>mean</th>\n",
       "      <td>5.924918</td>\n",
       "    </tr>\n",
       "    <tr>\n",
       "      <th>std</th>\n",
       "      <td>3.193092</td>\n",
       "    </tr>\n",
       "    <tr>\n",
       "      <th>min</th>\n",
       "      <td>0.740000</td>\n",
       "    </tr>\n",
       "    <tr>\n",
       "      <th>25%</th>\n",
       "      <td>4.305000</td>\n",
       "    </tr>\n",
       "    <tr>\n",
       "      <th>50%</th>\n",
       "      <td>5.595000</td>\n",
       "    </tr>\n",
       "    <tr>\n",
       "      <th>75%</th>\n",
       "      <td>6.830000</td>\n",
       "    </tr>\n",
       "    <tr>\n",
       "      <th>max</th>\n",
       "      <td>20.000000</td>\n",
       "    </tr>\n",
       "  </tbody>\n",
       "</table>\n",
       "</div>"
      ],
      "text/plain": [
       "        reactivity\n",
       "count  1458.000000\n",
       "mean      5.924918\n",
       "std       3.193092\n",
       "min       0.740000\n",
       "25%       4.305000\n",
       "50%       5.595000\n",
       "75%       6.830000\n",
       "max      20.000000"
      ]
     },
     "execution_count": 62,
     "metadata": {},
     "output_type": "execute_result"
    }
   ],
   "source": [
    "Cfinalreact.describe()"
   ]
  },
  {
   "cell_type": "markdown",
   "metadata": {},
   "source": [
    "# THRESHOLDs for CYS and LYS data seperately"
   ]
  },
  {
   "cell_type": "code",
   "execution_count": 63,
   "metadata": {},
   "outputs": [],
   "source": [
    "Cfinalreact.reset_index(drop=True,inplace=True)\n",
    "Kfinalreact.reset_index(drop=True,inplace=True)"
   ]
  },
  {
   "cell_type": "code",
   "execution_count": 64,
   "metadata": {},
   "outputs": [
    {
     "data": {
      "text/html": [
       "<div>\n",
       "<style scoped>\n",
       "    .dataframe tbody tr th:only-of-type {\n",
       "        vertical-align: middle;\n",
       "    }\n",
       "\n",
       "    .dataframe tbody tr th {\n",
       "        vertical-align: top;\n",
       "    }\n",
       "\n",
       "    .dataframe thead th {\n",
       "        text-align: right;\n",
       "    }\n",
       "</style>\n",
       "<table border=\"1\" class=\"dataframe\">\n",
       "  <thead>\n",
       "    <tr style=\"text-align: right;\">\n",
       "      <th></th>\n",
       "      <th>pos_ID</th>\n",
       "      <th>reactivity</th>\n",
       "      <th>Threshold</th>\n",
       "    </tr>\n",
       "  </thead>\n",
       "  <tbody>\n",
       "    <tr>\n",
       "      <th>0</th>\n",
       "      <td>P52758_K117</td>\n",
       "      <td>0.1</td>\n",
       "      <td>High</td>\n",
       "    </tr>\n",
       "    <tr>\n",
       "      <th>1</th>\n",
       "      <td>P02766_K35</td>\n",
       "      <td>0.1</td>\n",
       "      <td>High</td>\n",
       "    </tr>\n",
       "    <tr>\n",
       "      <th>2</th>\n",
       "      <td>P51572_K79</td>\n",
       "      <td>0.2</td>\n",
       "      <td>High</td>\n",
       "    </tr>\n",
       "    <tr>\n",
       "      <th>3</th>\n",
       "      <td>P60900_K116</td>\n",
       "      <td>0.2</td>\n",
       "      <td>High</td>\n",
       "    </tr>\n",
       "    <tr>\n",
       "      <th>4</th>\n",
       "      <td>Q86WQ0_K28</td>\n",
       "      <td>0.2</td>\n",
       "      <td>High</td>\n",
       "    </tr>\n",
       "    <tr>\n",
       "      <th>5</th>\n",
       "      <td>Q9NZ45_K68</td>\n",
       "      <td>0.2</td>\n",
       "      <td>High</td>\n",
       "    </tr>\n",
       "    <tr>\n",
       "      <th>6</th>\n",
       "      <td>P08237_K678</td>\n",
       "      <td>0.3</td>\n",
       "      <td>High</td>\n",
       "    </tr>\n",
       "    <tr>\n",
       "      <th>7</th>\n",
       "      <td>O14737_K66</td>\n",
       "      <td>0.3</td>\n",
       "      <td>High</td>\n",
       "    </tr>\n",
       "    <tr>\n",
       "      <th>8</th>\n",
       "      <td>P23284_K41</td>\n",
       "      <td>0.3</td>\n",
       "      <td>High</td>\n",
       "    </tr>\n",
       "    <tr>\n",
       "      <th>9</th>\n",
       "      <td>P53396_K1018</td>\n",
       "      <td>0.3</td>\n",
       "      <td>High</td>\n",
       "    </tr>\n",
       "  </tbody>\n",
       "</table>\n",
       "</div>"
      ],
      "text/plain": [
       "         pos_ID  reactivity Threshold\n",
       "0   P52758_K117         0.1      High\n",
       "1    P02766_K35         0.1      High\n",
       "2    P51572_K79         0.2      High\n",
       "3   P60900_K116         0.2      High\n",
       "4    Q86WQ0_K28         0.2      High\n",
       "5    Q9NZ45_K68         0.2      High\n",
       "6   P08237_K678         0.3      High\n",
       "7    O14737_K66         0.3      High\n",
       "8    P23284_K41         0.3      High\n",
       "9  P53396_K1018         0.3      High"
      ]
     },
     "execution_count": 64,
     "metadata": {},
     "output_type": "execute_result"
    }
   ],
   "source": [
    "Kfinalreact.head(10)"
   ]
  },
  {
   "cell_type": "code",
   "execution_count": 65,
   "metadata": {},
   "outputs": [
    {
     "data": {
      "text/html": [
       "<div>\n",
       "<style scoped>\n",
       "    .dataframe tbody tr th:only-of-type {\n",
       "        vertical-align: middle;\n",
       "    }\n",
       "\n",
       "    .dataframe tbody tr th {\n",
       "        vertical-align: top;\n",
       "    }\n",
       "\n",
       "    .dataframe thead th {\n",
       "        text-align: right;\n",
       "    }\n",
       "</style>\n",
       "<table border=\"1\" class=\"dataframe\">\n",
       "  <thead>\n",
       "    <tr style=\"text-align: right;\">\n",
       "      <th></th>\n",
       "      <th>pos_ID</th>\n",
       "      <th>reactivity</th>\n",
       "      <th>Threshold</th>\n",
       "    </tr>\n",
       "  </thead>\n",
       "  <tbody>\n",
       "    <tr>\n",
       "      <th>0</th>\n",
       "      <td>O14733_C202</td>\n",
       "      <td>0.74</td>\n",
       "      <td>High</td>\n",
       "    </tr>\n",
       "    <tr>\n",
       "      <th>1</th>\n",
       "      <td>P07237_C56</td>\n",
       "      <td>0.80</td>\n",
       "      <td>High</td>\n",
       "    </tr>\n",
       "    <tr>\n",
       "      <th>2</th>\n",
       "      <td>P78417_C32</td>\n",
       "      <td>0.84</td>\n",
       "      <td>High</td>\n",
       "    </tr>\n",
       "    <tr>\n",
       "      <th>3</th>\n",
       "      <td>Q6DCA0_C153</td>\n",
       "      <td>0.88</td>\n",
       "      <td>High</td>\n",
       "    </tr>\n",
       "    <tr>\n",
       "      <th>4</th>\n",
       "      <td>Q9Y4X0_C175</td>\n",
       "      <td>0.88</td>\n",
       "      <td>High</td>\n",
       "    </tr>\n",
       "    <tr>\n",
       "      <th>5</th>\n",
       "      <td>P16455_C145</td>\n",
       "      <td>0.88</td>\n",
       "      <td>High</td>\n",
       "    </tr>\n",
       "    <tr>\n",
       "      <th>6</th>\n",
       "      <td>Q00796_C45</td>\n",
       "      <td>0.89</td>\n",
       "      <td>High</td>\n",
       "    </tr>\n",
       "    <tr>\n",
       "      <th>7</th>\n",
       "      <td>Q9UHQ1_C99</td>\n",
       "      <td>0.89</td>\n",
       "      <td>High</td>\n",
       "    </tr>\n",
       "    <tr>\n",
       "      <th>8</th>\n",
       "      <td>Q9Y6I4_C302</td>\n",
       "      <td>0.90</td>\n",
       "      <td>High</td>\n",
       "    </tr>\n",
       "    <tr>\n",
       "      <th>9</th>\n",
       "      <td>P38606_C138</td>\n",
       "      <td>0.90</td>\n",
       "      <td>High</td>\n",
       "    </tr>\n",
       "  </tbody>\n",
       "</table>\n",
       "</div>"
      ],
      "text/plain": [
       "        pos_ID  reactivity Threshold\n",
       "0  O14733_C202        0.74      High\n",
       "1   P07237_C56        0.80      High\n",
       "2   P78417_C32        0.84      High\n",
       "3  Q6DCA0_C153        0.88      High\n",
       "4  Q9Y4X0_C175        0.88      High\n",
       "5  P16455_C145        0.88      High\n",
       "6   Q00796_C45        0.89      High\n",
       "7   Q9UHQ1_C99        0.89      High\n",
       "8  Q9Y6I4_C302        0.90      High\n",
       "9  P38606_C138        0.90      High"
      ]
     },
     "execution_count": 65,
     "metadata": {},
     "output_type": "execute_result"
    }
   ],
   "source": [
    "Cfinalreact.head(10)"
   ]
  },
  {
   "cell_type": "code",
   "execution_count": 74,
   "metadata": {},
   "outputs": [
    {
     "name": "stdout",
     "output_type": "stream",
     "text": [
      "            C_LOW       C_MED      C_HIGH\n",
      "count  923.000000  434.000000  101.000000\n",
      "mean     7.401679    3.854908    1.324257\n",
      "std      3.042892    0.827357    0.340947\n",
      "min      5.010000    2.010000    0.740000\n",
      "25%      5.730000    3.202500    1.010000\n",
      "50%      6.460000    4.015000    1.310000\n",
      "75%      7.840000    4.550000    1.610000\n",
      "max     20.000000    5.000000    1.960000\n"
     ]
    }
   ],
   "source": [
    "clow=Cfinalreact[Cfinalreact[\"Threshold\"] == \"Low\"].describe()\n",
    "clow.columns=['C_LOW']\n",
    "cmed = Cfinalreact[Cfinalreact[\"Threshold\"] == \"Medium\"].describe()\n",
    "cmed.columns=['C_MED']\n",
    "chigh=Cfinalreact[Cfinalreact[\"Threshold\"] == \"High\"].describe()\n",
    "chigh.columns=['C_HIGH']\n",
    "CLM = clow.join(cmed)\n",
    "CLMH = CLM.join(chigh)\n",
    "print(CLMH)\n",
    "CLMH.to_csv(\"CLMH_description_table_2012.csv\")"
   ]
  },
  {
   "cell_type": "code",
   "execution_count": 75,
   "metadata": {},
   "outputs": [
    {
     "name": "stdout",
     "output_type": "stream",
     "text": [
      "             K_LOW       K_MED      K_HIGH\n",
      "count  3519.000000  674.000000  308.000000\n",
      "mean      9.334356    3.513501    1.238636\n",
      "std       1.341019    0.881700    0.493377\n",
      "min       5.100000    2.100000    0.100000\n",
      "25%       9.900000    2.700000    0.900000\n",
      "50%      10.000000    3.500000    1.300000\n",
      "75%      10.000000    4.300000    1.700000\n",
      "max      10.000000    5.000000    2.000000\n"
     ]
    }
   ],
   "source": [
    "klow = Kfinalreact[Kfinalreact[\"Threshold\"] == \"Low\"].describe()\n",
    "klow.columns = ['K_LOW']\n",
    "kmed = Kfinalreact[Kfinalreact[\"Threshold\"] == \"Medium\"].describe()\n",
    "kmed.columns = ['K_MED']\n",
    "khigh=Kfinalreact[Kfinalreact[\"Threshold\"] == \"High\"].describe()\n",
    "khigh.columns=['K_HIGH']\n",
    "klm = klow.join(kmed)\n",
    "klmh = klm.join(khigh)\n",
    "print(klmh)\n",
    "klmh.to_csv(\"KLMH_description_table_2012.csv\")"
   ]
  },
  {
   "cell_type": "markdown",
   "metadata": {},
   "source": [
    "## formating panreactive files"
   ]
  },
  {
   "cell_type": "code",
   "execution_count": 85,
   "metadata": {},
   "outputs": [],
   "source": [
    "def checkColumnValues(df, col):\n",
    "    print(df[col].value_counts().reset_index().rename(columns={'index':col, col:'Count'}))"
   ]
  },
  {
   "cell_type": "code",
   "execution_count": 86,
   "metadata": {},
   "outputs": [],
   "source": [
    "cpan.labelType.replace(\"Iodoacetamide\",\"panReactive\",inplace=True)\n",
    "kpan.labelType.replace(\"IodoL\",\"panReactive\",inplace=True)\n",
    "kpan.labelType.replace(\"TargetL\",\"Target\",inplace=True)"
   ]
  },
  {
   "cell_type": "code",
   "execution_count": 87,
   "metadata": {},
   "outputs": [
    {
     "name": "stdout",
     "output_type": "stream",
     "text": [
      "     labelType  Count\n",
      "0  panReactive   5371\n",
      "1       Target    754\n"
     ]
    }
   ],
   "source": [
    "checkColumnValues(cpan, \"labelType\")"
   ]
  },
  {
   "cell_type": "code",
   "execution_count": 88,
   "metadata": {},
   "outputs": [
    {
     "name": "stdout",
     "output_type": "stream",
     "text": [
      "     labelType  Count\n",
      "0  panReactive   8136\n",
      "1       Target    121\n"
     ]
    }
   ],
   "source": [
    "checkColumnValues(kpan,\"labelType\")"
   ]
  },
  {
   "cell_type": "code",
   "execution_count": 92,
   "metadata": {
    "collapsed": true
   },
   "outputs": [
    {
     "data": {
      "text/html": [
       "<div>\n",
       "<style scoped>\n",
       "    .dataframe tbody tr th:only-of-type {\n",
       "        vertical-align: middle;\n",
       "    }\n",
       "\n",
       "    .dataframe tbody tr th {\n",
       "        vertical-align: top;\n",
       "    }\n",
       "\n",
       "    .dataframe thead th {\n",
       "        text-align: right;\n",
       "    }\n",
       "</style>\n",
       "<table border=\"1\" class=\"dataframe\">\n",
       "  <thead>\n",
       "    <tr style=\"text-align: right;\">\n",
       "      <th></th>\n",
       "      <th>pos_ID</th>\n",
       "      <th>ID</th>\n",
       "    </tr>\n",
       "  </thead>\n",
       "  <tbody>\n",
       "    <tr>\n",
       "      <th>0</th>\n",
       "      <td>A0AVT1_K1014</td>\n",
       "      <td>A0AVT1</td>\n",
       "    </tr>\n",
       "    <tr>\n",
       "      <th>1</th>\n",
       "      <td>A0AVT1_K409</td>\n",
       "      <td>A0AVT1</td>\n",
       "    </tr>\n",
       "    <tr>\n",
       "      <th>2</th>\n",
       "      <td>A0AVT1_K544</td>\n",
       "      <td>A0AVT1</td>\n",
       "    </tr>\n",
       "  </tbody>\n",
       "</table>\n",
       "</div>"
      ],
      "text/plain": [
       "         pos_ID      ID\n",
       "0  A0AVT1_K1014  A0AVT1\n",
       "1   A0AVT1_K409  A0AVT1\n",
       "2   A0AVT1_K544  A0AVT1"
      ]
     },
     "execution_count": 92,
     "metadata": {},
     "output_type": "execute_result"
    }
   ],
   "source": [
    "# EVER LABELED\n",
    "kever.reset_index(inplace=True, drop=True)\n",
    "cever.reset_index(inplace=True, drop=True)"
   ]
  },
  {
   "cell_type": "code",
   "execution_count": 97,
   "metadata": {
    "scrolled": true
   },
   "outputs": [],
   "source": [
    "# adding subset labels\n",
    "Cfinalreact= Cfinalreact.assign(subset=\"Cysteine\")\n",
    "cever = cever.assign(subset=\"Cysteine\")\n",
    "cpan = cpan.assign(subset=\"Cysteine\")\n",
    "\n",
    "Kfinalreact = Kfinalreact.assign(subset=\"Lysine\")\n",
    "kever = kever.assign(subset=\"Lysine\")\n",
    "kpan = kpan.assign(subset=\"Lysine\")"
   ]
  },
  {
   "cell_type": "code",
   "execution_count": 102,
   "metadata": {},
   "outputs": [
    {
     "data": {
      "text/html": [
       "<div>\n",
       "<style scoped>\n",
       "    .dataframe tbody tr th:only-of-type {\n",
       "        vertical-align: middle;\n",
       "    }\n",
       "\n",
       "    .dataframe tbody tr th {\n",
       "        vertical-align: top;\n",
       "    }\n",
       "\n",
       "    .dataframe thead th {\n",
       "        text-align: right;\n",
       "    }\n",
       "</style>\n",
       "<table border=\"1\" class=\"dataframe\">\n",
       "  <thead>\n",
       "    <tr style=\"text-align: right;\">\n",
       "      <th></th>\n",
       "      <th>pos_ID</th>\n",
       "      <th>labelType</th>\n",
       "      <th>ID</th>\n",
       "      <th>subset</th>\n",
       "    </tr>\n",
       "  </thead>\n",
       "  <tbody>\n",
       "    <tr>\n",
       "      <th>0</th>\n",
       "      <td>A0AVT1_K1014</td>\n",
       "      <td>panReactive</td>\n",
       "      <td>A0AVT1</td>\n",
       "      <td>Lysine</td>\n",
       "    </tr>\n",
       "    <tr>\n",
       "      <th>1</th>\n",
       "      <td>A0AVT1_K544</td>\n",
       "      <td>panReactive</td>\n",
       "      <td>A0AVT1</td>\n",
       "      <td>Lysine</td>\n",
       "    </tr>\n",
       "    <tr>\n",
       "      <th>2</th>\n",
       "      <td>A0AVT1_K86</td>\n",
       "      <td>panReactive</td>\n",
       "      <td>A0AVT1</td>\n",
       "      <td>Lysine</td>\n",
       "    </tr>\n",
       "  </tbody>\n",
       "</table>\n",
       "</div>"
      ],
      "text/plain": [
       "         pos_ID    labelType      ID  subset\n",
       "0  A0AVT1_K1014  panReactive  A0AVT1  Lysine\n",
       "1   A0AVT1_K544  panReactive  A0AVT1  Lysine\n",
       "2    A0AVT1_K86  panReactive  A0AVT1  Lysine"
      ]
     },
     "execution_count": 102,
     "metadata": {},
     "output_type": "execute_result"
    }
   ],
   "source": [
    "kpan = kpan[['pos_ID', 'labelType', 'ID','subset']].copy()\n",
    "kpan.head(3)"
   ]
  },
  {
   "cell_type": "code",
   "execution_count": 103,
   "metadata": {},
   "outputs": [
    {
     "data": {
      "text/html": [
       "<div>\n",
       "<style scoped>\n",
       "    .dataframe tbody tr th:only-of-type {\n",
       "        vertical-align: middle;\n",
       "    }\n",
       "\n",
       "    .dataframe tbody tr th {\n",
       "        vertical-align: top;\n",
       "    }\n",
       "\n",
       "    .dataframe thead th {\n",
       "        text-align: right;\n",
       "    }\n",
       "</style>\n",
       "<table border=\"1\" class=\"dataframe\">\n",
       "  <thead>\n",
       "    <tr style=\"text-align: right;\">\n",
       "      <th></th>\n",
       "      <th>pos_ID</th>\n",
       "      <th>labelType</th>\n",
       "      <th>ID</th>\n",
       "      <th>subset</th>\n",
       "    </tr>\n",
       "  </thead>\n",
       "  <tbody>\n",
       "    <tr>\n",
       "      <th>0</th>\n",
       "      <td>P26641_C266</td>\n",
       "      <td>panReactive</td>\n",
       "      <td>P26641</td>\n",
       "      <td>Cysteine</td>\n",
       "    </tr>\n",
       "    <tr>\n",
       "      <th>1</th>\n",
       "      <td>P07900_C374</td>\n",
       "      <td>panReactive</td>\n",
       "      <td>P07900</td>\n",
       "      <td>Cysteine</td>\n",
       "    </tr>\n",
       "    <tr>\n",
       "      <th>2</th>\n",
       "      <td>P23528_C139</td>\n",
       "      <td>panReactive</td>\n",
       "      <td>P23528</td>\n",
       "      <td>Cysteine</td>\n",
       "    </tr>\n",
       "  </tbody>\n",
       "</table>\n",
       "</div>"
      ],
      "text/plain": [
       "        pos_ID    labelType      ID    subset\n",
       "0  P26641_C266  panReactive  P26641  Cysteine\n",
       "1  P07900_C374  panReactive  P07900  Cysteine\n",
       "2  P23528_C139  panReactive  P23528  Cysteine"
      ]
     },
     "execution_count": 103,
     "metadata": {},
     "output_type": "execute_result"
    }
   ],
   "source": [
    "cpan = cpan[['pos_ID', 'labelType', 'ID','subset']].copy()\n",
    "cpan.head(3)"
   ]
  },
  {
   "cell_type": "code",
   "execution_count": 100,
   "metadata": {},
   "outputs": [
    {
     "data": {
      "text/html": [
       "<div>\n",
       "<style scoped>\n",
       "    .dataframe tbody tr th:only-of-type {\n",
       "        vertical-align: middle;\n",
       "    }\n",
       "\n",
       "    .dataframe tbody tr th {\n",
       "        vertical-align: top;\n",
       "    }\n",
       "\n",
       "    .dataframe thead th {\n",
       "        text-align: right;\n",
       "    }\n",
       "</style>\n",
       "<table border=\"1\" class=\"dataframe\">\n",
       "  <thead>\n",
       "    <tr style=\"text-align: right;\">\n",
       "      <th></th>\n",
       "      <th>pos_ID</th>\n",
       "      <th>reactivity</th>\n",
       "      <th>Threshold</th>\n",
       "      <th>subset</th>\n",
       "    </tr>\n",
       "  </thead>\n",
       "  <tbody>\n",
       "    <tr>\n",
       "      <th>0</th>\n",
       "      <td>P52758_K117</td>\n",
       "      <td>0.1</td>\n",
       "      <td>High</td>\n",
       "      <td>Lysine</td>\n",
       "    </tr>\n",
       "    <tr>\n",
       "      <th>1</th>\n",
       "      <td>P02766_K35</td>\n",
       "      <td>0.1</td>\n",
       "      <td>High</td>\n",
       "      <td>Lysine</td>\n",
       "    </tr>\n",
       "  </tbody>\n",
       "</table>\n",
       "</div>"
      ],
      "text/plain": [
       "        pos_ID  reactivity Threshold  subset\n",
       "0  P52758_K117         0.1      High  Lysine\n",
       "1   P02766_K35         0.1      High  Lysine"
      ]
     },
     "execution_count": 100,
     "metadata": {},
     "output_type": "execute_result"
    }
   ],
   "source": [
    "Kfinalreact.head(2)"
   ]
  },
  {
   "cell_type": "code",
   "execution_count": 101,
   "metadata": {},
   "outputs": [
    {
     "data": {
      "text/html": [
       "<div>\n",
       "<style scoped>\n",
       "    .dataframe tbody tr th:only-of-type {\n",
       "        vertical-align: middle;\n",
       "    }\n",
       "\n",
       "    .dataframe tbody tr th {\n",
       "        vertical-align: top;\n",
       "    }\n",
       "\n",
       "    .dataframe thead th {\n",
       "        text-align: right;\n",
       "    }\n",
       "</style>\n",
       "<table border=\"1\" class=\"dataframe\">\n",
       "  <thead>\n",
       "    <tr style=\"text-align: right;\">\n",
       "      <th></th>\n",
       "      <th>pos_ID</th>\n",
       "      <th>reactivity</th>\n",
       "      <th>Threshold</th>\n",
       "      <th>subset</th>\n",
       "    </tr>\n",
       "  </thead>\n",
       "  <tbody>\n",
       "    <tr>\n",
       "      <th>0</th>\n",
       "      <td>O14733_C202</td>\n",
       "      <td>0.74</td>\n",
       "      <td>High</td>\n",
       "      <td>Cysteine</td>\n",
       "    </tr>\n",
       "    <tr>\n",
       "      <th>1</th>\n",
       "      <td>P07237_C56</td>\n",
       "      <td>0.80</td>\n",
       "      <td>High</td>\n",
       "      <td>Cysteine</td>\n",
       "    </tr>\n",
       "  </tbody>\n",
       "</table>\n",
       "</div>"
      ],
      "text/plain": [
       "        pos_ID  reactivity Threshold    subset\n",
       "0  O14733_C202        0.74      High  Cysteine\n",
       "1   P07237_C56        0.80      High  Cysteine"
      ]
     },
     "execution_count": 101,
     "metadata": {},
     "output_type": "execute_result"
    }
   ],
   "source": [
    "Cfinalreact.head(2)"
   ]
  },
  {
   "cell_type": "code",
   "execution_count": 104,
   "metadata": {},
   "outputs": [
    {
     "data": {
      "text/html": [
       "<div>\n",
       "<style scoped>\n",
       "    .dataframe tbody tr th:only-of-type {\n",
       "        vertical-align: middle;\n",
       "    }\n",
       "\n",
       "    .dataframe tbody tr th {\n",
       "        vertical-align: top;\n",
       "    }\n",
       "\n",
       "    .dataframe thead th {\n",
       "        text-align: right;\n",
       "    }\n",
       "</style>\n",
       "<table border=\"1\" class=\"dataframe\">\n",
       "  <thead>\n",
       "    <tr style=\"text-align: right;\">\n",
       "      <th></th>\n",
       "      <th>pos_ID</th>\n",
       "      <th>ID</th>\n",
       "      <th>subset</th>\n",
       "    </tr>\n",
       "  </thead>\n",
       "  <tbody>\n",
       "    <tr>\n",
       "      <th>0</th>\n",
       "      <td>A0AVT1_K1014</td>\n",
       "      <td>A0AVT1</td>\n",
       "      <td>Lysine</td>\n",
       "    </tr>\n",
       "    <tr>\n",
       "      <th>1</th>\n",
       "      <td>A0AVT1_K409</td>\n",
       "      <td>A0AVT1</td>\n",
       "      <td>Lysine</td>\n",
       "    </tr>\n",
       "    <tr>\n",
       "      <th>2</th>\n",
       "      <td>A0AVT1_K544</td>\n",
       "      <td>A0AVT1</td>\n",
       "      <td>Lysine</td>\n",
       "    </tr>\n",
       "  </tbody>\n",
       "</table>\n",
       "</div>"
      ],
      "text/plain": [
       "         pos_ID      ID  subset\n",
       "0  A0AVT1_K1014  A0AVT1  Lysine\n",
       "1   A0AVT1_K409  A0AVT1  Lysine\n",
       "2   A0AVT1_K544  A0AVT1  Lysine"
      ]
     },
     "execution_count": 104,
     "metadata": {},
     "output_type": "execute_result"
    }
   ],
   "source": [
    "kever.head(3)"
   ]
  },
  {
   "cell_type": "code",
   "execution_count": 105,
   "metadata": {},
   "outputs": [
    {
     "data": {
      "text/html": [
       "<div>\n",
       "<style scoped>\n",
       "    .dataframe tbody tr th:only-of-type {\n",
       "        vertical-align: middle;\n",
       "    }\n",
       "\n",
       "    .dataframe tbody tr th {\n",
       "        vertical-align: top;\n",
       "    }\n",
       "\n",
       "    .dataframe thead th {\n",
       "        text-align: right;\n",
       "    }\n",
       "</style>\n",
       "<table border=\"1\" class=\"dataframe\">\n",
       "  <thead>\n",
       "    <tr style=\"text-align: right;\">\n",
       "      <th></th>\n",
       "      <th>pos_ID</th>\n",
       "      <th>ID</th>\n",
       "      <th>subset</th>\n",
       "    </tr>\n",
       "  </thead>\n",
       "  <tbody>\n",
       "    <tr>\n",
       "      <th>0</th>\n",
       "      <td>A0AVT1_C347</td>\n",
       "      <td>A0AVT1</td>\n",
       "      <td>Cysteine</td>\n",
       "    </tr>\n",
       "    <tr>\n",
       "      <th>1</th>\n",
       "      <td>A0AVT1_C433</td>\n",
       "      <td>A0AVT1</td>\n",
       "      <td>Cysteine</td>\n",
       "    </tr>\n",
       "    <tr>\n",
       "      <th>2</th>\n",
       "      <td>A0AVT1_C546</td>\n",
       "      <td>A0AVT1</td>\n",
       "      <td>Cysteine</td>\n",
       "    </tr>\n",
       "  </tbody>\n",
       "</table>\n",
       "</div>"
      ],
      "text/plain": [
       "        pos_ID      ID    subset\n",
       "0  A0AVT1_C347  A0AVT1  Cysteine\n",
       "1  A0AVT1_C433  A0AVT1  Cysteine\n",
       "2  A0AVT1_C546  A0AVT1  Cysteine"
      ]
     },
     "execution_count": 105,
     "metadata": {},
     "output_type": "execute_result"
    }
   ],
   "source": [
    "cever.head(3)"
   ]
  },
  {
   "cell_type": "code",
   "execution_count": 106,
   "metadata": {},
   "outputs": [],
   "source": [
    "def splitUKBentry(df, dfcol):\n",
    "    split = df[dfcol].str.split(\"_\", n=1, expand=True)\n",
    "    split.columns= [\"entry\",\"pos\"]\n",
    "    split2 = pd.concat([df, split], axis =1)\n",
    "    return split2"
   ]
  },
  {
   "cell_type": "code",
   "execution_count": 107,
   "metadata": {},
   "outputs": [],
   "source": [
    "Cever2 = splitUKBentry(cever, \"pos_ID\")\n",
    "Kever2 = splitUKBentry(kever, \"pos_ID\")\n",
    "\n",
    "Cfinalreact2 = splitUKBentry(Cfinalreact,\"pos_ID\")\n",
    "Kfinalreact2 = splitUKBentry(Kfinalreact,\"pos_ID\")\n",
    "\n",
    "cpan2 = splitUKBentry(cpan,\"pos_ID\")\n",
    "kpan2 = splitUKBentry(kpan,\"pos_ID\")"
   ]
  },
  {
   "cell_type": "code",
   "execution_count": 109,
   "metadata": {},
   "outputs": [
    {
     "data": {
      "text/html": [
       "<div>\n",
       "<style scoped>\n",
       "    .dataframe tbody tr th:only-of-type {\n",
       "        vertical-align: middle;\n",
       "    }\n",
       "\n",
       "    .dataframe tbody tr th {\n",
       "        vertical-align: top;\n",
       "    }\n",
       "\n",
       "    .dataframe thead th {\n",
       "        text-align: right;\n",
       "    }\n",
       "</style>\n",
       "<table border=\"1\" class=\"dataframe\">\n",
       "  <thead>\n",
       "    <tr style=\"text-align: right;\">\n",
       "      <th></th>\n",
       "      <th>pos_ID</th>\n",
       "      <th>ID</th>\n",
       "      <th>subset</th>\n",
       "      <th>entry</th>\n",
       "      <th>pos</th>\n",
       "    </tr>\n",
       "  </thead>\n",
       "  <tbody>\n",
       "    <tr>\n",
       "      <th>0</th>\n",
       "      <td>A0AVT1_C347</td>\n",
       "      <td>A0AVT1</td>\n",
       "      <td>Cysteine</td>\n",
       "      <td>A0AVT1</td>\n",
       "      <td>C347</td>\n",
       "    </tr>\n",
       "    <tr>\n",
       "      <th>1</th>\n",
       "      <td>A0AVT1_C433</td>\n",
       "      <td>A0AVT1</td>\n",
       "      <td>Cysteine</td>\n",
       "      <td>A0AVT1</td>\n",
       "      <td>C433</td>\n",
       "    </tr>\n",
       "    <tr>\n",
       "      <th>2</th>\n",
       "      <td>A0AVT1_C546</td>\n",
       "      <td>A0AVT1</td>\n",
       "      <td>Cysteine</td>\n",
       "      <td>A0AVT1</td>\n",
       "      <td>C546</td>\n",
       "    </tr>\n",
       "    <tr>\n",
       "      <th>3</th>\n",
       "      <td>A0AVT1_C625</td>\n",
       "      <td>A0AVT1</td>\n",
       "      <td>Cysteine</td>\n",
       "      <td>A0AVT1</td>\n",
       "      <td>C625</td>\n",
       "    </tr>\n",
       "    <tr>\n",
       "      <th>4</th>\n",
       "      <td>A0AVT1_C721</td>\n",
       "      <td>A0AVT1</td>\n",
       "      <td>Cysteine</td>\n",
       "      <td>A0AVT1</td>\n",
       "      <td>C721</td>\n",
       "    </tr>\n",
       "  </tbody>\n",
       "</table>\n",
       "</div>"
      ],
      "text/plain": [
       "        pos_ID      ID    subset   entry   pos\n",
       "0  A0AVT1_C347  A0AVT1  Cysteine  A0AVT1  C347\n",
       "1  A0AVT1_C433  A0AVT1  Cysteine  A0AVT1  C433\n",
       "2  A0AVT1_C546  A0AVT1  Cysteine  A0AVT1  C546\n",
       "3  A0AVT1_C625  A0AVT1  Cysteine  A0AVT1  C625\n",
       "4  A0AVT1_C721  A0AVT1  Cysteine  A0AVT1  C721"
      ]
     },
     "execution_count": 109,
     "metadata": {},
     "output_type": "execute_result"
    }
   ],
   "source": [
    "Cever2.head(5)"
   ]
  },
  {
   "cell_type": "code",
   "execution_count": 110,
   "metadata": {},
   "outputs": [
    {
     "data": {
      "text/html": [
       "<div>\n",
       "<style scoped>\n",
       "    .dataframe tbody tr th:only-of-type {\n",
       "        vertical-align: middle;\n",
       "    }\n",
       "\n",
       "    .dataframe tbody tr th {\n",
       "        vertical-align: top;\n",
       "    }\n",
       "\n",
       "    .dataframe thead th {\n",
       "        text-align: right;\n",
       "    }\n",
       "</style>\n",
       "<table border=\"1\" class=\"dataframe\">\n",
       "  <thead>\n",
       "    <tr style=\"text-align: right;\">\n",
       "      <th></th>\n",
       "      <th>pos_ID</th>\n",
       "      <th>ID</th>\n",
       "      <th>subset</th>\n",
       "      <th>entry</th>\n",
       "      <th>pos</th>\n",
       "    </tr>\n",
       "  </thead>\n",
       "  <tbody>\n",
       "    <tr>\n",
       "      <th>0</th>\n",
       "      <td>A0AVT1_K1014</td>\n",
       "      <td>A0AVT1</td>\n",
       "      <td>Lysine</td>\n",
       "      <td>A0AVT1</td>\n",
       "      <td>K1014</td>\n",
       "    </tr>\n",
       "    <tr>\n",
       "      <th>1</th>\n",
       "      <td>A0AVT1_K409</td>\n",
       "      <td>A0AVT1</td>\n",
       "      <td>Lysine</td>\n",
       "      <td>A0AVT1</td>\n",
       "      <td>K409</td>\n",
       "    </tr>\n",
       "    <tr>\n",
       "      <th>2</th>\n",
       "      <td>A0AVT1_K544</td>\n",
       "      <td>A0AVT1</td>\n",
       "      <td>Lysine</td>\n",
       "      <td>A0AVT1</td>\n",
       "      <td>K544</td>\n",
       "    </tr>\n",
       "    <tr>\n",
       "      <th>3</th>\n",
       "      <td>A0AVT1_K86</td>\n",
       "      <td>A0AVT1</td>\n",
       "      <td>Lysine</td>\n",
       "      <td>A0AVT1</td>\n",
       "      <td>K86</td>\n",
       "    </tr>\n",
       "    <tr>\n",
       "      <th>4</th>\n",
       "      <td>A0AVT1_K963</td>\n",
       "      <td>A0AVT1</td>\n",
       "      <td>Lysine</td>\n",
       "      <td>A0AVT1</td>\n",
       "      <td>K963</td>\n",
       "    </tr>\n",
       "  </tbody>\n",
       "</table>\n",
       "</div>"
      ],
      "text/plain": [
       "         pos_ID      ID  subset   entry    pos\n",
       "0  A0AVT1_K1014  A0AVT1  Lysine  A0AVT1  K1014\n",
       "1   A0AVT1_K409  A0AVT1  Lysine  A0AVT1   K409\n",
       "2   A0AVT1_K544  A0AVT1  Lysine  A0AVT1   K544\n",
       "3    A0AVT1_K86  A0AVT1  Lysine  A0AVT1    K86\n",
       "4   A0AVT1_K963  A0AVT1  Lysine  A0AVT1   K963"
      ]
     },
     "execution_count": 110,
     "metadata": {},
     "output_type": "execute_result"
    }
   ],
   "source": [
    "Kever2.head(5)"
   ]
  },
  {
   "cell_type": "code",
   "execution_count": 111,
   "metadata": {},
   "outputs": [
    {
     "data": {
      "text/html": [
       "<div>\n",
       "<style scoped>\n",
       "    .dataframe tbody tr th:only-of-type {\n",
       "        vertical-align: middle;\n",
       "    }\n",
       "\n",
       "    .dataframe tbody tr th {\n",
       "        vertical-align: top;\n",
       "    }\n",
       "\n",
       "    .dataframe thead th {\n",
       "        text-align: right;\n",
       "    }\n",
       "</style>\n",
       "<table border=\"1\" class=\"dataframe\">\n",
       "  <thead>\n",
       "    <tr style=\"text-align: right;\">\n",
       "      <th></th>\n",
       "      <th>pos_ID</th>\n",
       "      <th>reactivity</th>\n",
       "      <th>Threshold</th>\n",
       "      <th>subset</th>\n",
       "      <th>entry</th>\n",
       "      <th>pos</th>\n",
       "    </tr>\n",
       "  </thead>\n",
       "  <tbody>\n",
       "    <tr>\n",
       "      <th>0</th>\n",
       "      <td>O14733_C202</td>\n",
       "      <td>0.74</td>\n",
       "      <td>High</td>\n",
       "      <td>Cysteine</td>\n",
       "      <td>O14733</td>\n",
       "      <td>C202</td>\n",
       "    </tr>\n",
       "    <tr>\n",
       "      <th>1</th>\n",
       "      <td>P07237_C56</td>\n",
       "      <td>0.80</td>\n",
       "      <td>High</td>\n",
       "      <td>Cysteine</td>\n",
       "      <td>P07237</td>\n",
       "      <td>C56</td>\n",
       "    </tr>\n",
       "    <tr>\n",
       "      <th>2</th>\n",
       "      <td>P78417_C32</td>\n",
       "      <td>0.84</td>\n",
       "      <td>High</td>\n",
       "      <td>Cysteine</td>\n",
       "      <td>P78417</td>\n",
       "      <td>C32</td>\n",
       "    </tr>\n",
       "    <tr>\n",
       "      <th>3</th>\n",
       "      <td>Q6DCA0_C153</td>\n",
       "      <td>0.88</td>\n",
       "      <td>High</td>\n",
       "      <td>Cysteine</td>\n",
       "      <td>Q6DCA0</td>\n",
       "      <td>C153</td>\n",
       "    </tr>\n",
       "    <tr>\n",
       "      <th>4</th>\n",
       "      <td>Q9Y4X0_C175</td>\n",
       "      <td>0.88</td>\n",
       "      <td>High</td>\n",
       "      <td>Cysteine</td>\n",
       "      <td>Q9Y4X0</td>\n",
       "      <td>C175</td>\n",
       "    </tr>\n",
       "  </tbody>\n",
       "</table>\n",
       "</div>"
      ],
      "text/plain": [
       "        pos_ID  reactivity Threshold    subset   entry   pos\n",
       "0  O14733_C202        0.74      High  Cysteine  O14733  C202\n",
       "1   P07237_C56        0.80      High  Cysteine  P07237   C56\n",
       "2   P78417_C32        0.84      High  Cysteine  P78417   C32\n",
       "3  Q6DCA0_C153        0.88      High  Cysteine  Q6DCA0  C153\n",
       "4  Q9Y4X0_C175        0.88      High  Cysteine  Q9Y4X0  C175"
      ]
     },
     "execution_count": 111,
     "metadata": {},
     "output_type": "execute_result"
    }
   ],
   "source": [
    "Cfinalreact2.head(5)"
   ]
  },
  {
   "cell_type": "code",
   "execution_count": 112,
   "metadata": {},
   "outputs": [
    {
     "data": {
      "text/html": [
       "<div>\n",
       "<style scoped>\n",
       "    .dataframe tbody tr th:only-of-type {\n",
       "        vertical-align: middle;\n",
       "    }\n",
       "\n",
       "    .dataframe tbody tr th {\n",
       "        vertical-align: top;\n",
       "    }\n",
       "\n",
       "    .dataframe thead th {\n",
       "        text-align: right;\n",
       "    }\n",
       "</style>\n",
       "<table border=\"1\" class=\"dataframe\">\n",
       "  <thead>\n",
       "    <tr style=\"text-align: right;\">\n",
       "      <th></th>\n",
       "      <th>pos_ID</th>\n",
       "      <th>reactivity</th>\n",
       "      <th>Threshold</th>\n",
       "      <th>subset</th>\n",
       "      <th>entry</th>\n",
       "      <th>pos</th>\n",
       "    </tr>\n",
       "  </thead>\n",
       "  <tbody>\n",
       "    <tr>\n",
       "      <th>0</th>\n",
       "      <td>P52758_K117</td>\n",
       "      <td>0.1</td>\n",
       "      <td>High</td>\n",
       "      <td>Lysine</td>\n",
       "      <td>P52758</td>\n",
       "      <td>K117</td>\n",
       "    </tr>\n",
       "    <tr>\n",
       "      <th>1</th>\n",
       "      <td>P02766_K35</td>\n",
       "      <td>0.1</td>\n",
       "      <td>High</td>\n",
       "      <td>Lysine</td>\n",
       "      <td>P02766</td>\n",
       "      <td>K35</td>\n",
       "    </tr>\n",
       "    <tr>\n",
       "      <th>2</th>\n",
       "      <td>P51572_K79</td>\n",
       "      <td>0.2</td>\n",
       "      <td>High</td>\n",
       "      <td>Lysine</td>\n",
       "      <td>P51572</td>\n",
       "      <td>K79</td>\n",
       "    </tr>\n",
       "    <tr>\n",
       "      <th>3</th>\n",
       "      <td>P60900_K116</td>\n",
       "      <td>0.2</td>\n",
       "      <td>High</td>\n",
       "      <td>Lysine</td>\n",
       "      <td>P60900</td>\n",
       "      <td>K116</td>\n",
       "    </tr>\n",
       "    <tr>\n",
       "      <th>4</th>\n",
       "      <td>Q86WQ0_K28</td>\n",
       "      <td>0.2</td>\n",
       "      <td>High</td>\n",
       "      <td>Lysine</td>\n",
       "      <td>Q86WQ0</td>\n",
       "      <td>K28</td>\n",
       "    </tr>\n",
       "  </tbody>\n",
       "</table>\n",
       "</div>"
      ],
      "text/plain": [
       "        pos_ID  reactivity Threshold  subset   entry   pos\n",
       "0  P52758_K117         0.1      High  Lysine  P52758  K117\n",
       "1   P02766_K35         0.1      High  Lysine  P02766   K35\n",
       "2   P51572_K79         0.2      High  Lysine  P51572   K79\n",
       "3  P60900_K116         0.2      High  Lysine  P60900  K116\n",
       "4   Q86WQ0_K28         0.2      High  Lysine  Q86WQ0   K28"
      ]
     },
     "execution_count": 112,
     "metadata": {},
     "output_type": "execute_result"
    }
   ],
   "source": [
    "Kfinalreact2.head(5)"
   ]
  },
  {
   "cell_type": "code",
   "execution_count": 114,
   "metadata": {},
   "outputs": [
    {
     "data": {
      "text/html": [
       "<div>\n",
       "<style scoped>\n",
       "    .dataframe tbody tr th:only-of-type {\n",
       "        vertical-align: middle;\n",
       "    }\n",
       "\n",
       "    .dataframe tbody tr th {\n",
       "        vertical-align: top;\n",
       "    }\n",
       "\n",
       "    .dataframe thead th {\n",
       "        text-align: right;\n",
       "    }\n",
       "</style>\n",
       "<table border=\"1\" class=\"dataframe\">\n",
       "  <thead>\n",
       "    <tr style=\"text-align: right;\">\n",
       "      <th></th>\n",
       "      <th>pos_ID</th>\n",
       "      <th>labelType</th>\n",
       "      <th>ID</th>\n",
       "      <th>subset</th>\n",
       "      <th>entry</th>\n",
       "      <th>pos</th>\n",
       "    </tr>\n",
       "  </thead>\n",
       "  <tbody>\n",
       "    <tr>\n",
       "      <th>0</th>\n",
       "      <td>P26641_C266</td>\n",
       "      <td>panReactive</td>\n",
       "      <td>P26641</td>\n",
       "      <td>Cysteine</td>\n",
       "      <td>P26641</td>\n",
       "      <td>C266</td>\n",
       "    </tr>\n",
       "    <tr>\n",
       "      <th>1</th>\n",
       "      <td>P07900_C374</td>\n",
       "      <td>panReactive</td>\n",
       "      <td>P07900</td>\n",
       "      <td>Cysteine</td>\n",
       "      <td>P07900</td>\n",
       "      <td>C374</td>\n",
       "    </tr>\n",
       "    <tr>\n",
       "      <th>2</th>\n",
       "      <td>P23528_C139</td>\n",
       "      <td>panReactive</td>\n",
       "      <td>P23528</td>\n",
       "      <td>Cysteine</td>\n",
       "      <td>P23528</td>\n",
       "      <td>C139</td>\n",
       "    </tr>\n",
       "    <tr>\n",
       "      <th>3</th>\n",
       "      <td>P68104_C411</td>\n",
       "      <td>panReactive</td>\n",
       "      <td>P68104</td>\n",
       "      <td>Cysteine</td>\n",
       "      <td>P68104</td>\n",
       "      <td>C411</td>\n",
       "    </tr>\n",
       "    <tr>\n",
       "      <th>4</th>\n",
       "      <td>P60981_C163</td>\n",
       "      <td>panReactive</td>\n",
       "      <td>P60981</td>\n",
       "      <td>Cysteine</td>\n",
       "      <td>P60981</td>\n",
       "      <td>C163</td>\n",
       "    </tr>\n",
       "  </tbody>\n",
       "</table>\n",
       "</div>"
      ],
      "text/plain": [
       "        pos_ID    labelType      ID    subset   entry   pos\n",
       "0  P26641_C266  panReactive  P26641  Cysteine  P26641  C266\n",
       "1  P07900_C374  panReactive  P07900  Cysteine  P07900  C374\n",
       "2  P23528_C139  panReactive  P23528  Cysteine  P23528  C139\n",
       "3  P68104_C411  panReactive  P68104  Cysteine  P68104  C411\n",
       "4  P60981_C163  panReactive  P60981  Cysteine  P60981  C163"
      ]
     },
     "execution_count": 114,
     "metadata": {},
     "output_type": "execute_result"
    }
   ],
   "source": [
    "cpan2.head(5)"
   ]
  },
  {
   "cell_type": "code",
   "execution_count": 115,
   "metadata": {},
   "outputs": [
    {
     "data": {
      "text/html": [
       "<div>\n",
       "<style scoped>\n",
       "    .dataframe tbody tr th:only-of-type {\n",
       "        vertical-align: middle;\n",
       "    }\n",
       "\n",
       "    .dataframe tbody tr th {\n",
       "        vertical-align: top;\n",
       "    }\n",
       "\n",
       "    .dataframe thead th {\n",
       "        text-align: right;\n",
       "    }\n",
       "</style>\n",
       "<table border=\"1\" class=\"dataframe\">\n",
       "  <thead>\n",
       "    <tr style=\"text-align: right;\">\n",
       "      <th></th>\n",
       "      <th>pos_ID</th>\n",
       "      <th>labelType</th>\n",
       "      <th>ID</th>\n",
       "      <th>subset</th>\n",
       "      <th>entry</th>\n",
       "      <th>pos</th>\n",
       "    </tr>\n",
       "  </thead>\n",
       "  <tbody>\n",
       "    <tr>\n",
       "      <th>0</th>\n",
       "      <td>A0AVT1_K1014</td>\n",
       "      <td>panReactive</td>\n",
       "      <td>A0AVT1</td>\n",
       "      <td>Lysine</td>\n",
       "      <td>A0AVT1</td>\n",
       "      <td>K1014</td>\n",
       "    </tr>\n",
       "    <tr>\n",
       "      <th>1</th>\n",
       "      <td>A0AVT1_K544</td>\n",
       "      <td>panReactive</td>\n",
       "      <td>A0AVT1</td>\n",
       "      <td>Lysine</td>\n",
       "      <td>A0AVT1</td>\n",
       "      <td>K544</td>\n",
       "    </tr>\n",
       "    <tr>\n",
       "      <th>2</th>\n",
       "      <td>A0AVT1_K86</td>\n",
       "      <td>panReactive</td>\n",
       "      <td>A0AVT1</td>\n",
       "      <td>Lysine</td>\n",
       "      <td>A0AVT1</td>\n",
       "      <td>K86</td>\n",
       "    </tr>\n",
       "    <tr>\n",
       "      <th>3</th>\n",
       "      <td>A0AVT1_K963</td>\n",
       "      <td>panReactive</td>\n",
       "      <td>A0AVT1</td>\n",
       "      <td>Lysine</td>\n",
       "      <td>A0AVT1</td>\n",
       "      <td>K963</td>\n",
       "    </tr>\n",
       "    <tr>\n",
       "      <th>4</th>\n",
       "      <td>A0JNW5_K645</td>\n",
       "      <td>panReactive</td>\n",
       "      <td>A0JNW5</td>\n",
       "      <td>Lysine</td>\n",
       "      <td>A0JNW5</td>\n",
       "      <td>K645</td>\n",
       "    </tr>\n",
       "  </tbody>\n",
       "</table>\n",
       "</div>"
      ],
      "text/plain": [
       "         pos_ID    labelType      ID  subset   entry    pos\n",
       "0  A0AVT1_K1014  panReactive  A0AVT1  Lysine  A0AVT1  K1014\n",
       "1   A0AVT1_K544  panReactive  A0AVT1  Lysine  A0AVT1   K544\n",
       "2    A0AVT1_K86  panReactive  A0AVT1  Lysine  A0AVT1    K86\n",
       "3   A0AVT1_K963  panReactive  A0AVT1  Lysine  A0AVT1   K963\n",
       "4   A0JNW5_K645  panReactive  A0JNW5  Lysine  A0JNW5   K645"
      ]
     },
     "execution_count": 115,
     "metadata": {},
     "output_type": "execute_result"
    }
   ],
   "source": [
    "kpan2.head(5)"
   ]
  },
  {
   "cell_type": "code",
   "execution_count": 116,
   "metadata": {},
   "outputs": [
    {
     "name": "stdout",
     "output_type": "stream",
     "text": [
      "(6404, 5)\n",
      "(9213, 5)\n",
      "\n",
      "(1458, 6)\n",
      "(4501, 6)\n",
      "\n",
      "(6125, 6)\n",
      "(8257, 6)\n"
     ]
    }
   ],
   "source": [
    "print(Cever2.shape)\n",
    "print(Kever2.shape)\n",
    "\n",
    "print()\n",
    "print(Cfinalreact2.shape)\n",
    "print(Kfinalreact2.shape)\n",
    "print()\n",
    "print(cpan2.shape)\n",
    "print(kpan2.shape)"
   ]
  },
  {
   "cell_type": "markdown",
   "metadata": {},
   "source": [
    "# SAVING ALL FILES!"
   ]
  },
  {
   "cell_type": "code",
   "execution_count": 117,
   "metadata": {},
   "outputs": [],
   "source": [
    "Cever2.to_csv(\"Cys2012_ever_labeled_6404.csv\",index=False)\n",
    "Kever2.to_csv(\"Lys2012_ever_labeled_9213.csv\",index=False)\n",
    "\n",
    "Cfinalreact2.to_csv(\"Cys2012_reactive_1458.csv\",index=False)\n",
    "Kfinalreact2.to_csv(\"Lys2012_reactive_4501.csv\",index=False)\n",
    "\n",
    "cpan2.to_csv(\"Cys2012_pantarget_6125.csv\",index=False)\n",
    "kpan2.to_csv(\"Lys2012_pantarget_8257.csv\",index=False)"
   ]
  },
  {
   "cell_type": "code",
   "execution_count": 120,
   "metadata": {},
   "outputs": [
    {
     "data": {
      "text/html": [
       "<div>\n",
       "<style scoped>\n",
       "    .dataframe tbody tr th:only-of-type {\n",
       "        vertical-align: middle;\n",
       "    }\n",
       "\n",
       "    .dataframe tbody tr th {\n",
       "        vertical-align: top;\n",
       "    }\n",
       "\n",
       "    .dataframe thead th {\n",
       "        text-align: right;\n",
       "    }\n",
       "</style>\n",
       "<table border=\"1\" class=\"dataframe\">\n",
       "  <thead>\n",
       "    <tr style=\"text-align: right;\">\n",
       "      <th></th>\n",
       "      <th>pos_ID</th>\n",
       "      <th>reactivity</th>\n",
       "      <th>Threshold</th>\n",
       "      <th>entry</th>\n",
       "      <th>pos</th>\n",
       "    </tr>\n",
       "  </thead>\n",
       "  <tbody>\n",
       "    <tr>\n",
       "      <th>0</th>\n",
       "      <td>P52758_K117</td>\n",
       "      <td>0.1</td>\n",
       "      <td>High</td>\n",
       "      <td>P52758</td>\n",
       "      <td>K117</td>\n",
       "    </tr>\n",
       "    <tr>\n",
       "      <th>1</th>\n",
       "      <td>P02766_K35</td>\n",
       "      <td>0.1</td>\n",
       "      <td>High</td>\n",
       "      <td>P02766</td>\n",
       "      <td>K35</td>\n",
       "    </tr>\n",
       "    <tr>\n",
       "      <th>2</th>\n",
       "      <td>P51572_K79</td>\n",
       "      <td>0.2</td>\n",
       "      <td>High</td>\n",
       "      <td>P51572</td>\n",
       "      <td>K79</td>\n",
       "    </tr>\n",
       "  </tbody>\n",
       "</table>\n",
       "</div>"
      ],
      "text/plain": [
       "        pos_ID  reactivity Threshold   entry   pos\n",
       "0  P52758_K117         0.1      High  P52758  K117\n",
       "1   P02766_K35         0.1      High  P02766   K35\n",
       "2   P51572_K79         0.2      High  P51572   K79"
      ]
     },
     "execution_count": 120,
     "metadata": {},
     "output_type": "execute_result"
    }
   ],
   "source": [
    "allreact2 = splitUKBentry(allreact,\"pos_ID\")\n",
    "allreact2.head(3)"
   ]
  },
  {
   "cell_type": "code",
   "execution_count": 121,
   "metadata": {},
   "outputs": [],
   "source": [
    "allreact2.to_csv(\"AllReact2012_5959.csv\", index=False)"
   ]
  },
  {
   "cell_type": "markdown",
   "metadata": {},
   "source": [
    "---\n",
    "---\n",
    "---\n",
    "---"
   ]
  },
  {
   "cell_type": "markdown",
   "metadata": {},
   "source": [
    "# looking at nonRedundant ever labeled set, which genes have been labeled the most:\n"
   ]
  },
  {
   "cell_type": "code",
   "execution_count": 124,
   "metadata": {},
   "outputs": [
    {
     "data": {
      "text/html": [
       "<div>\n",
       "<style scoped>\n",
       "    .dataframe tbody tr th:only-of-type {\n",
       "        vertical-align: middle;\n",
       "    }\n",
       "\n",
       "    .dataframe tbody tr th {\n",
       "        vertical-align: top;\n",
       "    }\n",
       "\n",
       "    .dataframe thead th {\n",
       "        text-align: right;\n",
       "    }\n",
       "</style>\n",
       "<table border=\"1\" class=\"dataframe\">\n",
       "  <thead>\n",
       "    <tr style=\"text-align: right;\">\n",
       "      <th></th>\n",
       "      <th>pos_ID</th>\n",
       "      <th>ID</th>\n",
       "      <th>subset</th>\n",
       "      <th>entry</th>\n",
       "      <th>pos</th>\n",
       "    </tr>\n",
       "  </thead>\n",
       "  <tbody>\n",
       "    <tr>\n",
       "      <th>0</th>\n",
       "      <td>A0AVT1_C347</td>\n",
       "      <td>A0AVT1</td>\n",
       "      <td>Cysteine</td>\n",
       "      <td>A0AVT1</td>\n",
       "      <td>C347</td>\n",
       "    </tr>\n",
       "    <tr>\n",
       "      <th>1</th>\n",
       "      <td>A0AVT1_C433</td>\n",
       "      <td>A0AVT1</td>\n",
       "      <td>Cysteine</td>\n",
       "      <td>A0AVT1</td>\n",
       "      <td>C433</td>\n",
       "    </tr>\n",
       "    <tr>\n",
       "      <th>2</th>\n",
       "      <td>A0AVT1_C546</td>\n",
       "      <td>A0AVT1</td>\n",
       "      <td>Cysteine</td>\n",
       "      <td>A0AVT1</td>\n",
       "      <td>C546</td>\n",
       "    </tr>\n",
       "  </tbody>\n",
       "</table>\n",
       "</div>"
      ],
      "text/plain": [
       "        pos_ID      ID    subset   entry   pos\n",
       "0  A0AVT1_C347  A0AVT1  Cysteine  A0AVT1  C347\n",
       "1  A0AVT1_C433  A0AVT1  Cysteine  A0AVT1  C433\n",
       "2  A0AVT1_C546  A0AVT1  Cysteine  A0AVT1  C546"
      ]
     },
     "execution_count": 124,
     "metadata": {},
     "output_type": "execute_result"
    }
   ],
   "source": [
    "Cever2.head(3)"
   ]
  },
  {
   "cell_type": "code",
   "execution_count": 125,
   "metadata": {},
   "outputs": [
    {
     "data": {
      "text/plain": [
       "P49327    25\n",
       "P21333    25\n",
       "Q15149    22\n",
       "Q7Z6Z7    20\n",
       "P78527    20\n",
       "Q14204    18\n",
       "O75369    18\n",
       "Q9Y490    17\n",
       "O00410    15\n",
       "P13639    15\n",
       "Q92616    14\n",
       "P46013    14\n",
       "P35579    14\n",
       "Q9NQW6    13\n",
       "Q12888    12\n",
       "Q00610    12\n",
       "P51610    12\n",
       "P49792    12\n",
       "P21980    11\n",
       "P42704    11\n",
       "P07814    11\n",
       "P22314    11\n",
       "Q14315    11\n",
       "P13489    11\n",
       "P27708    11\n",
       "P22102    10\n",
       "Q01813    10\n",
       "P11586    10\n",
       "P52789    10\n",
       "O95071    10\n",
       "          ..\n",
       "Q16630     1\n",
       "P61289     1\n",
       "P59998     1\n",
       "P11912     1\n",
       "Q15477     1\n",
       "O60888     1\n",
       "P17516     1\n",
       "O43324     1\n",
       "Q6P1K8     1\n",
       "P50336     1\n",
       "Q02878     1\n",
       "P51970     1\n",
       "Q9BT09     1\n",
       "O95999     1\n",
       "O00139     1\n",
       "Q8N5L8     1\n",
       "Q14145     1\n",
       "P55957     1\n",
       "Q8NI27     1\n",
       "H0YGG7     1\n",
       "Q53HL2     1\n",
       "Q06136     1\n",
       "Q9Y2Z2     1\n",
       "Q15814     1\n",
       "Q9BYW2     1\n",
       "Q2TAZ0     1\n",
       "Q9UK59     1\n",
       "Q9Y3I0     1\n",
       "Q9NZA1     1\n",
       "Q9Y224     1\n",
       "Name: entry, Length: 3006, dtype: int64"
      ]
     },
     "execution_count": 125,
     "metadata": {},
     "output_type": "execute_result"
    }
   ],
   "source": [
    "cever_counts = Cever2.loc[:,'entry'].value_counts()\n",
    "cever_counts"
   ]
  },
  {
   "cell_type": "code",
   "execution_count": 126,
   "metadata": {},
   "outputs": [],
   "source": [
    "cever_counts.to_csv(\"CYS2012_everlabeled_gene_valueCounts_3006.csv\")"
   ]
  },
  {
   "cell_type": "code",
   "execution_count": 127,
   "metadata": {},
   "outputs": [
    {
     "data": {
      "text/html": [
       "<div>\n",
       "<style scoped>\n",
       "    .dataframe tbody tr th:only-of-type {\n",
       "        vertical-align: middle;\n",
       "    }\n",
       "\n",
       "    .dataframe tbody tr th {\n",
       "        vertical-align: top;\n",
       "    }\n",
       "\n",
       "    .dataframe thead th {\n",
       "        text-align: right;\n",
       "    }\n",
       "</style>\n",
       "<table border=\"1\" class=\"dataframe\">\n",
       "  <thead>\n",
       "    <tr style=\"text-align: right;\">\n",
       "      <th></th>\n",
       "      <th>pos_ID</th>\n",
       "      <th>ID</th>\n",
       "      <th>subset</th>\n",
       "      <th>entry</th>\n",
       "      <th>pos</th>\n",
       "    </tr>\n",
       "  </thead>\n",
       "  <tbody>\n",
       "    <tr>\n",
       "      <th>0</th>\n",
       "      <td>A0AVT1_K1014</td>\n",
       "      <td>A0AVT1</td>\n",
       "      <td>Lysine</td>\n",
       "      <td>A0AVT1</td>\n",
       "      <td>K1014</td>\n",
       "    </tr>\n",
       "    <tr>\n",
       "      <th>1</th>\n",
       "      <td>A0AVT1_K409</td>\n",
       "      <td>A0AVT1</td>\n",
       "      <td>Lysine</td>\n",
       "      <td>A0AVT1</td>\n",
       "      <td>K409</td>\n",
       "    </tr>\n",
       "    <tr>\n",
       "      <th>2</th>\n",
       "      <td>A0AVT1_K544</td>\n",
       "      <td>A0AVT1</td>\n",
       "      <td>Lysine</td>\n",
       "      <td>A0AVT1</td>\n",
       "      <td>K544</td>\n",
       "    </tr>\n",
       "  </tbody>\n",
       "</table>\n",
       "</div>"
      ],
      "text/plain": [
       "         pos_ID      ID  subset   entry    pos\n",
       "0  A0AVT1_K1014  A0AVT1  Lysine  A0AVT1  K1014\n",
       "1   A0AVT1_K409  A0AVT1  Lysine  A0AVT1   K409\n",
       "2   A0AVT1_K544  A0AVT1  Lysine  A0AVT1   K544"
      ]
     },
     "execution_count": 127,
     "metadata": {},
     "output_type": "execute_result"
    }
   ],
   "source": [
    "Kever2.head(3)"
   ]
  },
  {
   "cell_type": "code",
   "execution_count": 128,
   "metadata": {},
   "outputs": [
    {
     "data": {
      "text/plain": [
       "Q09666    105\n",
       "P21333     50\n",
       "O75369     47\n",
       "P35579     42\n",
       "Q15149     36\n",
       "P00558     30\n",
       "P07900     29\n",
       "P10809     28\n",
       "P13639     28\n",
       "P31948     27\n",
       "P07237     26\n",
       "P02545     26\n",
       "Q9Y490     25\n",
       "P68104     25\n",
       "O43707     24\n",
       "P06733     24\n",
       "P14618     24\n",
       "P11142     23\n",
       "Q14247     22\n",
       "P50990     20\n",
       "Q01813     19\n",
       "P53396     19\n",
       "Q01518     19\n",
       "P11586     19\n",
       "Q92945     19\n",
       "P14625     19\n",
       "P43490     18\n",
       "Q9H4M9     18\n",
       "P50454     18\n",
       "O75083     18\n",
       "         ... \n",
       "P07996      1\n",
       "Q99259      1\n",
       "Q9Y5R8      1\n",
       "O75367      1\n",
       "O94973      1\n",
       "Q9BZJ0      1\n",
       "Q92930      1\n",
       "Q9ULZ3      1\n",
       "Q9HC07      1\n",
       "Q9H930      1\n",
       "Q7Z392      1\n",
       "Q9NVX0      1\n",
       "Q86V48      1\n",
       "Q5T5P2      1\n",
       "P69905      1\n",
       "Q01433      1\n",
       "Q9BQ13      1\n",
       "Q15041      1\n",
       "Q9UHD9      1\n",
       "Q06945      1\n",
       "Q15080      1\n",
       "P42575      1\n",
       "Q9H2J4      1\n",
       "Q8NCW5      1\n",
       "Q08257      1\n",
       "P06280      1\n",
       "Q5SW79      1\n",
       "O14735      1\n",
       "Q96MF7      1\n",
       "Q8NBJ7      1\n",
       "Name: entry, Length: 2683, dtype: int64"
      ]
     },
     "execution_count": 128,
     "metadata": {},
     "output_type": "execute_result"
    }
   ],
   "source": [
    "kever_counts = Kever2.loc[:,'entry'].value_counts()\n",
    "kever_counts"
   ]
  },
  {
   "cell_type": "code",
   "execution_count": 129,
   "metadata": {},
   "outputs": [],
   "source": [
    "kever_counts.to_csv(\"LYS2012_everlabeled_gene_valueCounts_2683.csv\")"
   ]
  },
  {
   "cell_type": "code",
   "execution_count": 133,
   "metadata": {},
   "outputs": [],
   "source": [
    "alleverlabeled = Cever2.append(Kever2, ignore_index = True)\n"
   ]
  },
  {
   "cell_type": "code",
   "execution_count": 131,
   "metadata": {},
   "outputs": [
    {
     "data": {
      "text/plain": [
       "Q09666    112\n",
       "P21333     75\n",
       "O75369     65\n",
       "Q15149     58\n",
       "P35579     56\n",
       "P13639     43\n",
       "Q9Y490     42\n",
       "P49327     36\n",
       "P07900     36\n",
       "P00558     35\n",
       "P31948     32\n",
       "P14618     32\n",
       "P07237     32\n",
       "P10809     31\n",
       "P02545     30\n",
       "O43707     30\n",
       "Q14204     29\n",
       "Q01813     29\n",
       "P68104     29\n",
       "P11586     29\n",
       "P11142     27\n",
       "P06733     27\n",
       "O75083     26\n",
       "Q00610     25\n",
       "Q99832     25\n",
       "O00410     25\n",
       "P30101     25\n",
       "P22234     24\n",
       "Q7Z6Z7     24\n",
       "P13796     24\n",
       "         ... \n",
       "O15304      1\n",
       "Q6SJ93      1\n",
       "Q15738      1\n",
       "Q15013      1\n",
       "Q12830      1\n",
       "Q8NFD5      1\n",
       "Q14197      1\n",
       "Q9UEU0      1\n",
       "P02749      1\n",
       "P82932      1\n",
       "O15533      1\n",
       "O75884      1\n",
       "Q96GX2      1\n",
       "Q96PQ7      1\n",
       "Q96CN7      1\n",
       "Q15723      1\n",
       "Q92609      1\n",
       "Q7L099      1\n",
       "Q8TDN6      1\n",
       "O60313      1\n",
       "Q9UJZ1      1\n",
       "P09086      1\n",
       "Q93100      1\n",
       "Q9NRX1      1\n",
       "Q12857      1\n",
       "O75152      1\n",
       "P04920      1\n",
       "Q9NPJ8      1\n",
       "P12931      1\n",
       "Q96N66      1\n",
       "Name: entry, Length: 4084, dtype: int64"
      ]
     },
     "execution_count": 131,
     "metadata": {},
     "output_type": "execute_result"
    }
   ],
   "source": [
    "# count how many times each gene has EVER been labeled by C or K (all C and K positions are unique!)\n",
    "togethergenecount = alleverlabeled.loc[:,'entry'].value_counts()\n",
    "togethergenecount"
   ]
  },
  {
   "cell_type": "code",
   "execution_count": 132,
   "metadata": {},
   "outputs": [],
   "source": [
    "togethergenecount.to_csv(\"CYSLYS2012_everlabeled_gene_valueCounts_4084.csv\")"
   ]
  },
  {
   "cell_type": "markdown",
   "metadata": {},
   "source": [
    "# finding genes that have most labeleing, want to count # of LOW MED HIGH"
   ]
  },
  {
   "cell_type": "code",
   "execution_count": 140,
   "metadata": {},
   "outputs": [],
   "source": [
    "allR = allreact2[['Threshold', 'entry','pos']].copy()"
   ]
  },
  {
   "cell_type": "code",
   "execution_count": 141,
   "metadata": {},
   "outputs": [
    {
     "data": {
      "text/html": [
       "<div>\n",
       "<style scoped>\n",
       "    .dataframe tbody tr th:only-of-type {\n",
       "        vertical-align: middle;\n",
       "    }\n",
       "\n",
       "    .dataframe tbody tr th {\n",
       "        vertical-align: top;\n",
       "    }\n",
       "\n",
       "    .dataframe thead th {\n",
       "        text-align: right;\n",
       "    }\n",
       "</style>\n",
       "<table border=\"1\" class=\"dataframe\">\n",
       "  <thead>\n",
       "    <tr style=\"text-align: right;\">\n",
       "      <th></th>\n",
       "      <th>Threshold</th>\n",
       "      <th>entry</th>\n",
       "      <th>pos</th>\n",
       "    </tr>\n",
       "  </thead>\n",
       "  <tbody>\n",
       "    <tr>\n",
       "      <th>0</th>\n",
       "      <td>High</td>\n",
       "      <td>P52758</td>\n",
       "      <td>K117</td>\n",
       "    </tr>\n",
       "    <tr>\n",
       "      <th>1</th>\n",
       "      <td>High</td>\n",
       "      <td>P02766</td>\n",
       "      <td>K35</td>\n",
       "    </tr>\n",
       "    <tr>\n",
       "      <th>2</th>\n",
       "      <td>High</td>\n",
       "      <td>P51572</td>\n",
       "      <td>K79</td>\n",
       "    </tr>\n",
       "    <tr>\n",
       "      <th>3</th>\n",
       "      <td>High</td>\n",
       "      <td>P60900</td>\n",
       "      <td>K116</td>\n",
       "    </tr>\n",
       "  </tbody>\n",
       "</table>\n",
       "</div>"
      ],
      "text/plain": [
       "  Threshold   entry   pos\n",
       "0      High  P52758  K117\n",
       "1      High  P02766   K35\n",
       "2      High  P51572   K79\n",
       "3      High  P60900  K116"
      ]
     },
     "execution_count": 141,
     "metadata": {},
     "output_type": "execute_result"
    }
   ],
   "source": [
    "allR.head(4)"
   ]
  },
  {
   "cell_type": "code",
   "execution_count": 143,
   "metadata": {},
   "outputs": [
    {
     "data": {
      "text/plain": [
       "entry   Threshold\n",
       "A0AVT1  Medium                               [C347, K86, C433]\n",
       "A0MZ66  Low                                             [C565]\n",
       "A1L0T0  Low                                             [K538]\n",
       "A6NDG6  Low                                        [K72, K302]\n",
       "        Medium                                          [C297]\n",
       "A6NDU8  Low                                              [C57]\n",
       "A6NED2  High                                            [C139]\n",
       "A6NHL2  Medium                              [C323, C322, C354]\n",
       "A6NNF4  Low                                              [C55]\n",
       "A9UHW6  Low                                              [K53]\n",
       "        Medium                                           [C49]\n",
       "O00148  Low                                 [K240, K162, K130]\n",
       "O00151  Low                                   [K71, K22, K246]\n",
       "        Medium                                    [K256, K103]\n",
       "O00154  Low          [K168, K369, K362, K205, K78, K198, K157]\n",
       "        Medium                                          [K286]\n",
       "O00159  Medium                                         [K1049]\n",
       "O00170  Low                                  [K273, K69, K103]\n",
       "        Medium                              [C122, C121, K210]\n",
       "O00193  Low                                         [K62, K91]\n",
       "O00203  High                                             [K72]\n",
       "O00231  Low                                  [K59, K175, K258]\n",
       "        Medium                                           [K32]\n",
       "O00232  Low                                  [K147, K330, K52]\n",
       "        Medium                                          [K448]\n",
       "O00233  Low                                        [K30, K211]\n",
       "O00244  Low                                              [K25]\n",
       "        Medium                                 [K60, C12, C15]\n",
       "O00264  Low                                             [K105]\n",
       "O00267  High                                            [C626]\n",
       "                                       ...                    \n",
       "Q9Y5K6  Low                                             [C595]\n",
       "Q9Y5L0  High                                            [K877]\n",
       "        Low                                             [K563]\n",
       "Q9Y5L4  Low                                              [K27]\n",
       "Q9Y5N6  Low                                              [C88]\n",
       "Q9Y5P6  Low                                             [C245]\n",
       "Q9Y5Q0  Low                                              [K86]\n",
       "Q9Y5R8  Low                                             [C115]\n",
       "Q9Y5S2  High                                           [C1517]\n",
       "Q9Y5S9  Low                                             [C149]\n",
       "Q9Y5U9  Low                                         [K49, K29]\n",
       "Q9Y5Y2  Low                                        [C54, K261]\n",
       "        Medium                               [C196, C202, C72]\n",
       "Q9Y617  Low                  [C80, K333, C175, K356, K71, K51]\n",
       "        Medium                        [K116, K323, K110, K363]\n",
       "Q9Y673  Low                                             [K139]\n",
       "Q9Y678  High                                            [K217]\n",
       "Q9Y696  High                                            [K194]\n",
       "        Low                                  [K238, K150, K62]\n",
       "        Medium                          [K124, C35, K24, K130]\n",
       "Q9Y6A4  Medium                                           [K20]\n",
       "Q9Y6A5  High                                            [K774]\n",
       "Q9Y6A9  Low                                             [K143]\n",
       "Q9Y6C9  Medium                                           [K90]\n",
       "Q9Y6E0  Medium                                           [C89]\n",
       "Q9Y6E2  Low                                             [K391]\n",
       "Q9Y6I4  High                                            [C302]\n",
       "Q9Y6J0  Low                                            [C1197]\n",
       "Q9Y6M9  Low                                              [C42]\n",
       "Q9Y6W6  Low                                             [C177]\n",
       "Name: pos, Length: 2807, dtype: object"
      ]
     },
     "execution_count": 143,
     "metadata": {},
     "output_type": "execute_result"
    }
   ],
   "source": [
    "allgrouped = allR.groupby(['entry','Threshold'])['pos'].apply(list)\n",
    "allgrouped"
   ]
  },
  {
   "cell_type": "code",
   "execution_count": 146,
   "metadata": {},
   "outputs": [],
   "source": [
    "allgrouped.to_csv(\"ALLReact2012_grouped_entry_threshold_2807.csv\")"
   ]
  }
 ],
 "metadata": {
  "kernelspec": {
   "display_name": "Python 3",
   "language": "python",
   "name": "python3"
  },
  "language_info": {
   "codemirror_mode": {
    "name": "ipython",
    "version": 3
   },
   "file_extension": ".py",
   "mimetype": "text/x-python",
   "name": "python",
   "nbconvert_exporter": "python",
   "pygments_lexer": "ipython3",
   "version": "3.7.4"
  }
 },
 "nbformat": 4,
 "nbformat_minor": 2
}
